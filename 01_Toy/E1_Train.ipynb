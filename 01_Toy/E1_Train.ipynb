{
 "cells": [
  {
   "cell_type": "markdown",
   "metadata": {},
   "source": [
    "## DPC Policy train"
   ]
  },
  {
   "cell_type": "markdown",
   "metadata": {},
   "source": [
    "\n",
    "## Prepare packages"
   ]
  },
  {
   "cell_type": "code",
   "execution_count": 107,
   "metadata": {},
   "outputs": [
    {
     "name": "stdout",
     "output_type": "stream",
     "text": [
      "['mpc_training_data_processed.pickle', 'A2_dropout.py', 'A1_x1tracking_policy.py', 'E2_Execute.ipynb', 'nominal_params_w10_mid_noise_stable_final.pkl', 'test.ipynb', 'nominal_params_w10_mid_noise_stable_final.pth', '__pycache__', 'TiDE.py', 'E1_Train.ipynb', 'mpc_training_data.pickle', 'test.py']\n",
      "cuda is available\n"
     ]
    }
   ],
   "source": [
    "import os\n",
    "os.environ['CUDA_VISIBLE_DEVICES'] = '0'\n",
    "import numpy as np\n",
    "import pandas as pd\n",
    "\n",
    "import matplotlib.pyplot as plt\n",
    "from matplotlib.animation import FuncAnimation\n",
    "from IPython.display import HTML\n",
    "\n",
    "import pickle\n",
    "from pickle import dump\n",
    "\n",
    "import torch\n",
    "device = torch.device(\"cuda\" if torch.cuda.is_available() else \"cpu\")\n",
    "\n",
    "\n",
    "from scipy.optimize import minimize, Bounds\n",
    "from scipy.stats import qmc\n",
    "from torchmin import minimize as pytorch_minimize\n",
    "\n",
    "import torch.nn as nn\n",
    "import torch.optim as optim\n",
    "from torch.utils.data import DataLoader, TensorDataset\n",
    "from tqdm import tqdm\n",
    "\n",
    "import os\n",
    "print(os.listdir())\n",
    "\n",
    "import importlib\n",
    "import A1_x1tracking_policy\n",
    "importlib.reload(A1_x1tracking_policy)\n",
    "\n",
    "from A1_x1tracking_policy import DPC_x1_loss, DPC_Policy_x1\n",
    "from TiDE import TideModule, quantile_loss, TiDE_forward\n",
    "\n",
    "if torch.cuda.is_available():\n",
    "    print(\"cuda is available\")\n",
    "else:\n",
    "    print(\"cuda is NOT available\")\n",
    "    "
   ]
  },
  {
   "cell_type": "markdown",
   "metadata": {},
   "source": [
    "## System identification (not used)"
   ]
  },
  {
   "cell_type": "code",
   "execution_count": 108,
   "metadata": {},
   "outputs": [],
   "source": [
    "init_zero = 1000\n",
    "def f_ss(x0,u):\n",
    "    A = np.array([[0.3,0.1], [0.1, 0.2]])\n",
    "    B = np.array([[0.5],[1.0]])\n",
    "    mu = np.array([[0],[0]])*0\n",
    "    w = np.array([[0.05],[0.1]])\n",
    "    x = A@x0+B*u + np.random.normal(mu,w,size=(2,1))\n",
    "    return x\n",
    "\n",
    "def f_ss_multistep(x0,u):\n",
    "    step = len(u)\n",
    "    output = np.zeros([2,step])\n",
    "    for i in range(step):\n",
    "        x_next = f_ss(x0,u[i])\n",
    "        x0 = np.copy(x_next)\n",
    "        output[:,i] = x_next.reshape(-1)\n",
    "    return output"
   ]
  },
  {
   "cell_type": "markdown",
   "metadata": {},
   "source": [
    "## Data generation"
   ]
  },
  {
   "cell_type": "code",
   "execution_count": 109,
   "metadata": {},
   "outputs": [
    {
     "name": "stdout",
     "output_type": "stream",
     "text": [
      "Data generated:\n",
      "u_past: (500000,)\n",
      "x1_past: (500000,)\n",
      "x2_past: (500000,)\n",
      "x1_future: (1000000,)\n",
      "x2_future: (1000000,)\n"
     ]
    }
   ],
   "source": [
    "import numpy as np\n",
    "import pickle\n",
    "\n",
    "# parameters\n",
    "w = 5\n",
    "p = 10\n",
    "total_steps = int(1e5)\n",
    "u_scale = 5\n",
    "x1_scale = 5\n",
    "x2_scale = 7\n",
    "\n",
    "def generate_u_seq(size):\n",
    "    return np.random.uniform(low=-u_scale, high=u_scale, size=size)\n",
    "\n",
    "def generate_x1_seq(size):\n",
    "    return np.random.uniform(low=-x1_scale, high=x1_scale, size=size)\n",
    "\n",
    "def generate_x2_seq(size):\n",
    "    return np.random.uniform(low=-x2_scale, high=x2_scale, size=size)\n",
    "\n",
    "u_past = generate_u_seq(size=total_steps * w)\n",
    "x1_past = generate_x1_seq(size=total_steps * w)\n",
    "x1_future = generate_x1_seq(size=total_steps * p)\n",
    "x2_past = generate_x2_seq(size=total_steps * w)\n",
    "x2_future = generate_x2_seq(size=total_steps * p)\n",
    "\n",
    "data = {\n",
    "    'u_past': u_past,\n",
    "    'x1_past': x1_past,\n",
    "    'x2_past': x2_past,\n",
    "    'x1_future': x1_future,\n",
    "    'x2_future': x2_future\n",
    "}\n",
    "\n",
    "with open('mpc_training_data.pickle', 'wb') as f:\n",
    "    pickle.dump(data, f)\n",
    "\n",
    "# check shapes\n",
    "print(\"Data generated:\")\n",
    "for key, value in data.items():\n",
    "    print(f\"{key}: {value.shape}\")\n"
   ]
  },
  {
   "cell_type": "markdown",
   "metadata": {},
   "source": [
    "## Normalize & Split data"
   ]
  },
  {
   "cell_type": "code",
   "execution_count": 110,
   "metadata": {},
   "outputs": [
    {
     "name": "stdout",
     "output_type": "stream",
     "text": [
      "x_past: (100000, 5, 2)\n",
      "x_future: (100000, 10, 2)\n",
      "u_past: (100000, 5)\n"
     ]
    }
   ],
   "source": [
    "# normalize\n",
    "def normalize_seq(seq, scale):\n",
    "    return seq / scale\n",
    "\n",
    "# non-overlapping split\n",
    "def split_nonoverlapping(seq, chunk_size):\n",
    "    n_chunks = len(seq) // chunk_size\n",
    "    seq = seq[:n_chunks * chunk_size]\n",
    "    return seq.reshape(n_chunks, chunk_size)\n",
    "\n",
    "# load\n",
    "with open('mpc_training_data.pickle', 'rb') as f:\n",
    "    data = pickle.load(f)\n",
    "    \n",
    "# normalize\n",
    "u_seq = normalize_seq(data['u_past'], u_scale)\n",
    "x1_seq = normalize_seq(data['x1_past'], x1_scale)\n",
    "x2_seq = normalize_seq(data['x2_past'], x2_scale)\n",
    "x1_future_seq = normalize_seq(data['x1_future'], x1_scale)\n",
    "x2_future_seq = normalize_seq(data['x2_future'], x2_scale)\n",
    "\n",
    "# split into non-overlapping windows\n",
    "x1_past = split_nonoverlapping(x1_seq, w)\n",
    "x2_past = split_nonoverlapping(x2_seq, w)\n",
    "u_past = split_nonoverlapping(u_seq, w)\n",
    "x1_future = split_nonoverlapping(x1_future_seq, p)\n",
    "x2_future = split_nonoverlapping(x2_future_seq, p)\n",
    "\n",
    "# stack\n",
    "x_past = np.stack([x1_past, x2_past], axis=-1)       # [N1, w, 2]\n",
    "x_future = np.stack([x1_future, x2_future], axis=-1) # [N2, p, 2]\n",
    "\n",
    "# print\n",
    "print(\"x_past:\", x_past.shape)\n",
    "print(\"x_future:\", x_future.shape)\n",
    "print(\"u_past:\", u_past.shape)\n",
    "\n",
    "# save\n",
    "processed = {\n",
    "    'x_past': x_past,\n",
    "    'x_future': x_future,\n",
    "    'u_past': u_past\n",
    "}\n",
    "\n",
    "with open('mpc_training_data_processed.pickle', 'wb') as f:\n",
    "    pickle.dump(processed, f)"
   ]
  },
  {
   "cell_type": "markdown",
   "metadata": {},
   "source": [
    "## NN Policy Model (build)"
   ]
  },
  {
   "cell_type": "code",
   "execution_count": null,
   "metadata": {},
   "outputs": [],
   "source": []
  },
  {
   "cell_type": "code",
   "execution_count": 111,
   "metadata": {},
   "outputs": [],
   "source": [
    "import os\n",
    "import pickle\n",
    "import numpy as np\n",
    "from tqdm import tqdm\n",
    "import torch\n",
    "from torch.utils.data import TensorDataset, DataLoader\n",
    "\n",
    "def train_policy_tide(n_layers, hidden_dim, setting_name, device, num_epoch=100):\n",
    "    # Load processed data\n",
    "    with open('mpc_training_data_processed.pickle', 'rb') as f:\n",
    "        data = pickle.load(f)\n",
    "\n",
    "    # Input tensors\n",
    "    x1_past = torch.tensor(data['x_past'][:, :, 0], dtype=torch.float32)\n",
    "    x2_past = torch.tensor(data['x_past'][:, :, 1], dtype=torch.float32)\n",
    "    x1_future = torch.tensor(data['x_future'][:, :, 0], dtype=torch.float32)\n",
    "    x2_future = torch.tensor(data['x_future'][:, :, 1], dtype=torch.float32)\n",
    "    u_past = torch.tensor(data['u_past'], dtype=torch.float32).unsqueeze(-1)  # (N, w, 1)\n",
    "\n",
    "    # Train/val split\n",
    "    N = x1_past.shape[0]\n",
    "    split = int(0.8 * N)\n",
    "\n",
    "    train_dataset = TensorDataset(\n",
    "        x1_past[:split], x2_past[:split], u_past[:split], x1_future[:split], x2_future[:split]\n",
    "    )\n",
    "    val_dataset = TensorDataset(\n",
    "        x1_past[split:], x2_past[split:], u_past[split:], x1_future[split:], x2_future[split:]\n",
    "    )\n",
    "\n",
    "    train_loader = DataLoader(train_dataset, batch_size=512, shuffle=True)\n",
    "    val_loader = DataLoader(val_dataset, batch_size=512)\n",
    "\n",
    "    # Model\n",
    "    model = DPC_Policy_x1(\n",
    "        input_dim=4,\n",
    "        output_dim=1,\n",
    "        output_chunk_length=x1_future.shape[1],\n",
    "        window=w,\n",
    "        hidden_dim=hidden_dim,\n",
    "        n_layers=n_layers\n",
    "    ).to(device)\n",
    "\n",
    "    optimizer = torch.optim.Adam(model.parameters(), lr=1e-3, weight_decay=1e-7)\n",
    "    scheduler = torch.optim.lr_scheduler.StepLR(optimizer, step_size=10, gamma=0.95)\n",
    "\n",
    "    best_model = None\n",
    "    best_val_loss = float('inf')\n",
    "    counter = 0\n",
    "    patience = 30\n",
    "\n",
    "    train_losses = []\n",
    "    val_losses = []\n",
    "\n",
    "    with tqdm(total=num_epoch, desc=setting_name) as pbar:\n",
    "        for epoch in range(num_epoch):\n",
    "            model.train()\n",
    "            for x1p, x2p, up, x1f, _ in train_loader:\n",
    "                x1p, x2p, up, x1f = x1p.to(device), x2p.to(device), up.to(device), x1f.to(device)\n",
    "\n",
    "                x_in = (x1p, x2p, up, x1f)\n",
    "                optimizer.zero_grad()\n",
    "                u_pred = model(x_in)  # shape: (B, p, 1, 3)\n",
    "                u_median = u_pred.median(dim=-1).values  # (B, p, 1)\n",
    "\n",
    "                # TiDE input\n",
    "                tide_input = (torch.cat([x1p, x2p], dim=-1), u_median, None)  # (x_past, u_future, None)\n",
    "                tide_output = nominal_TiDE(tide_input)  # should return (B, p, 2)\n",
    "\n",
    "                target = torch.cat([x1f, _], dim=-1).to(device)  # (B, p, 2)\n",
    "                loss = F.mse_loss(tide_output, target)\n",
    "\n",
    "                loss.backward()\n",
    "                optimizer.step()\n",
    "\n",
    "            # Validation\n",
    "            model.eval()\n",
    "            with torch.no_grad():\n",
    "                val_total_loss = 0.0\n",
    "                for x1p, x2p, up, x1f, x2f in val_loader:\n",
    "                    x1p, x2p, up, x1f, x2f = x1p.to(device), x2p.to(device), up.to(device), x1f.to(device), x2f.to(device)\n",
    "                    x_in = (x1p, x2p, up, x1f)\n",
    "                    u_pred = model(x_in).median(dim=-1).values.squeeze(-1)\n",
    "\n",
    "                    tide_input = (torch.cat([x1p, x2p], dim=-1), u_pred, None)\n",
    "                    tide_output = nominal_TiDE(tide_input)\n",
    "                    target = torch.cat([x1f, x2f], dim=-1)\n",
    "                    val_loss = F.mse_loss(tide_output, target)\n",
    "\n",
    "                    val_total_loss += val_loss.item()\n",
    "\n",
    "                val_avg = val_total_loss / len(val_loader)\n",
    "\n",
    "            train_losses.append(loss.item())\n",
    "            val_losses.append(val_avg)\n",
    "\n",
    "            if val_avg < best_val_loss:\n",
    "                best_val_loss = val_avg\n",
    "                best_model = model.state_dict()\n",
    "                counter = 0\n",
    "            else:\n",
    "                counter += 1\n",
    "                if counter >= patience:\n",
    "                    break\n",
    "\n",
    "            scheduler.step()\n",
    "            pbar.set_description(f\"{setting_name} | Train: {loss.item():.4f} | Val: {val_avg:.4f}\")\n",
    "            pbar.update(1)\n",
    "\n",
    "    torch.save(best_model, f\"policy_model_{setting_name}.pth\")\n",
    "    return {\n",
    "        \"train_loss\": train_losses,\n",
    "        \"val_loss\": val_losses\n",
    "    }\n"
   ]
  },
  {
   "cell_type": "code",
   "execution_count": 112,
   "metadata": {},
   "outputs": [],
   "source": [
    "with open('nominal_params_w10_mid_noise_stable_final.pkl', 'rb') as file: \n",
    "    nominal_params = pickle.load(file)\n",
    "nominal_TiDE = nominal_params['model'].to(\"cpu\")\n",
    "nominal_TiDE.load_state_dict(torch.load('nominal_params_w10_mid_noise_stable_final.pth'))\n",
    "nominal_TiDE.eval()\n",
    "\n",
    "window = 10\n",
    "\n",
    "nominal_TiDE = nominal_TiDE.to(device)"
   ]
  },
  {
   "cell_type": "code",
   "execution_count": 113,
   "metadata": {},
   "outputs": [
    {
     "name": "stderr",
     "output_type": "stream",
     "text": [
      "5L_512H:   0%|          | 0/100 [00:00<?, ?it/s]\n"
     ]
    },
    {
     "ename": "RuntimeError",
     "evalue": "Tensors must have same number of dimensions: got 2 and 3",
     "output_type": "error",
     "traceback": [
      "\u001b[0;31m---------------------------------------------------------------------------\u001b[0m",
      "\u001b[0;31mRuntimeError\u001b[0m                              Traceback (most recent call last)",
      "Cell \u001b[0;32mIn[113], line 13\u001b[0m\n\u001b[1;32m     11\u001b[0m \u001b[38;5;28;01mfor\u001b[39;00m n_layers, hidden_dim \u001b[38;5;129;01min\u001b[39;00m config_list:\n\u001b[1;32m     12\u001b[0m     setting_name \u001b[38;5;241m=\u001b[39m \u001b[38;5;124mf\u001b[39m\u001b[38;5;124m\"\u001b[39m\u001b[38;5;132;01m{\u001b[39;00mn_layers\u001b[38;5;132;01m}\u001b[39;00m\u001b[38;5;124mL_\u001b[39m\u001b[38;5;132;01m{\u001b[39;00mhidden_dim\u001b[38;5;132;01m}\u001b[39;00m\u001b[38;5;124mH\u001b[39m\u001b[38;5;124m\"\u001b[39m\n\u001b[0;32m---> 13\u001b[0m     result \u001b[38;5;241m=\u001b[39m \u001b[43mtrain_policy_tide\u001b[49m\u001b[43m(\u001b[49m\n\u001b[1;32m     14\u001b[0m \u001b[43m        \u001b[49m\u001b[43mn_layers\u001b[49m\u001b[38;5;241;43m=\u001b[39;49m\u001b[43mn_layers\u001b[49m\u001b[43m,\u001b[49m\n\u001b[1;32m     15\u001b[0m \u001b[43m        \u001b[49m\u001b[43mhidden_dim\u001b[49m\u001b[38;5;241;43m=\u001b[39;49m\u001b[43mhidden_dim\u001b[49m\u001b[43m,\u001b[49m\n\u001b[1;32m     16\u001b[0m \u001b[43m        \u001b[49m\u001b[43msetting_name\u001b[49m\u001b[38;5;241;43m=\u001b[39;49m\u001b[43msetting_name\u001b[49m\u001b[43m,\u001b[49m\n\u001b[1;32m     17\u001b[0m \u001b[43m        \u001b[49m\u001b[43mdevice\u001b[49m\u001b[38;5;241;43m=\u001b[39;49m\u001b[43mdevice\u001b[49m\u001b[43m,\u001b[49m\n\u001b[1;32m     18\u001b[0m \u001b[43m        \u001b[49m\u001b[43mnum_epoch\u001b[49m\u001b[38;5;241;43m=\u001b[39;49m\u001b[43mnum_epoch\u001b[49m\n\u001b[1;32m     19\u001b[0m \u001b[43m    \u001b[49m\u001b[43m)\u001b[49m\n\u001b[1;32m     20\u001b[0m     results[setting_name] \u001b[38;5;241m=\u001b[39m result\n\u001b[1;32m     22\u001b[0m \u001b[38;5;66;03m# save\u001b[39;00m\n",
      "Cell \u001b[0;32mIn[111], line 63\u001b[0m, in \u001b[0;36mtrain_policy_tide\u001b[0;34m(n_layers, hidden_dim, setting_name, device, num_epoch)\u001b[0m\n\u001b[1;32m     61\u001b[0m x_in \u001b[38;5;241m=\u001b[39m (x1p, x2p, up, x1f)\n\u001b[1;32m     62\u001b[0m optimizer\u001b[38;5;241m.\u001b[39mzero_grad()\n\u001b[0;32m---> 63\u001b[0m u_pred \u001b[38;5;241m=\u001b[39m \u001b[43mmodel\u001b[49m\u001b[43m(\u001b[49m\u001b[43mx_in\u001b[49m\u001b[43m)\u001b[49m  \u001b[38;5;66;03m# shape: (B, p, 1, 3)\u001b[39;00m\n\u001b[1;32m     64\u001b[0m u_median \u001b[38;5;241m=\u001b[39m u_pred\u001b[38;5;241m.\u001b[39mmedian(dim\u001b[38;5;241m=\u001b[39m\u001b[38;5;241m-\u001b[39m\u001b[38;5;241m1\u001b[39m)\u001b[38;5;241m.\u001b[39mvalues  \u001b[38;5;66;03m# (B, p, 1)\u001b[39;00m\n\u001b[1;32m     66\u001b[0m \u001b[38;5;66;03m# TiDE input\u001b[39;00m\n",
      "File \u001b[0;32m~/miniconda3/envs/dpc/lib/python3.11/site-packages/torch/nn/modules/module.py:1736\u001b[0m, in \u001b[0;36mModule._wrapped_call_impl\u001b[0;34m(self, *args, **kwargs)\u001b[0m\n\u001b[1;32m   1734\u001b[0m     \u001b[38;5;28;01mreturn\u001b[39;00m \u001b[38;5;28mself\u001b[39m\u001b[38;5;241m.\u001b[39m_compiled_call_impl(\u001b[38;5;241m*\u001b[39margs, \u001b[38;5;241m*\u001b[39m\u001b[38;5;241m*\u001b[39mkwargs)  \u001b[38;5;66;03m# type: ignore[misc]\u001b[39;00m\n\u001b[1;32m   1735\u001b[0m \u001b[38;5;28;01melse\u001b[39;00m:\n\u001b[0;32m-> 1736\u001b[0m     \u001b[38;5;28;01mreturn\u001b[39;00m \u001b[38;5;28;43mself\u001b[39;49m\u001b[38;5;241;43m.\u001b[39;49m\u001b[43m_call_impl\u001b[49m\u001b[43m(\u001b[49m\u001b[38;5;241;43m*\u001b[39;49m\u001b[43margs\u001b[49m\u001b[43m,\u001b[49m\u001b[43m \u001b[49m\u001b[38;5;241;43m*\u001b[39;49m\u001b[38;5;241;43m*\u001b[39;49m\u001b[43mkwargs\u001b[49m\u001b[43m)\u001b[49m\n",
      "File \u001b[0;32m~/miniconda3/envs/dpc/lib/python3.11/site-packages/torch/nn/modules/module.py:1747\u001b[0m, in \u001b[0;36mModule._call_impl\u001b[0;34m(self, *args, **kwargs)\u001b[0m\n\u001b[1;32m   1742\u001b[0m \u001b[38;5;66;03m# If we don't have any hooks, we want to skip the rest of the logic in\u001b[39;00m\n\u001b[1;32m   1743\u001b[0m \u001b[38;5;66;03m# this function, and just call forward.\u001b[39;00m\n\u001b[1;32m   1744\u001b[0m \u001b[38;5;28;01mif\u001b[39;00m \u001b[38;5;129;01mnot\u001b[39;00m (\u001b[38;5;28mself\u001b[39m\u001b[38;5;241m.\u001b[39m_backward_hooks \u001b[38;5;129;01mor\u001b[39;00m \u001b[38;5;28mself\u001b[39m\u001b[38;5;241m.\u001b[39m_backward_pre_hooks \u001b[38;5;129;01mor\u001b[39;00m \u001b[38;5;28mself\u001b[39m\u001b[38;5;241m.\u001b[39m_forward_hooks \u001b[38;5;129;01mor\u001b[39;00m \u001b[38;5;28mself\u001b[39m\u001b[38;5;241m.\u001b[39m_forward_pre_hooks\n\u001b[1;32m   1745\u001b[0m         \u001b[38;5;129;01mor\u001b[39;00m _global_backward_pre_hooks \u001b[38;5;129;01mor\u001b[39;00m _global_backward_hooks\n\u001b[1;32m   1746\u001b[0m         \u001b[38;5;129;01mor\u001b[39;00m _global_forward_hooks \u001b[38;5;129;01mor\u001b[39;00m _global_forward_pre_hooks):\n\u001b[0;32m-> 1747\u001b[0m     \u001b[38;5;28;01mreturn\u001b[39;00m \u001b[43mforward_call\u001b[49m\u001b[43m(\u001b[49m\u001b[38;5;241;43m*\u001b[39;49m\u001b[43margs\u001b[49m\u001b[43m,\u001b[49m\u001b[43m \u001b[49m\u001b[38;5;241;43m*\u001b[39;49m\u001b[38;5;241;43m*\u001b[39;49m\u001b[43mkwargs\u001b[49m\u001b[43m)\u001b[49m\n\u001b[1;32m   1749\u001b[0m result \u001b[38;5;241m=\u001b[39m \u001b[38;5;28;01mNone\u001b[39;00m\n\u001b[1;32m   1750\u001b[0m called_always_called_hooks \u001b[38;5;241m=\u001b[39m \u001b[38;5;28mset\u001b[39m()\n",
      "File \u001b[0;32m~/github/DPC_research/Basic/A1_x1tracking_policy.py:52\u001b[0m, in \u001b[0;36mDPC_Policy_x1.forward\u001b[0;34m(self, x_in)\u001b[0m\n\u001b[1;32m     50\u001b[0m min_len \u001b[38;5;241m=\u001b[39m x1_past\u001b[38;5;241m.\u001b[39mshape[\u001b[38;5;241m1\u001b[39m]\n\u001b[1;32m     51\u001b[0m x1_future_cut \u001b[38;5;241m=\u001b[39m x1_future[:, :min_len]  \u001b[38;5;66;03m# (B, w, 1)로 맞춤\u001b[39;00m\n\u001b[0;32m---> 52\u001b[0m x \u001b[38;5;241m=\u001b[39m \u001b[43mtorch\u001b[49m\u001b[38;5;241;43m.\u001b[39;49m\u001b[43mcat\u001b[49m\u001b[43m(\u001b[49m\u001b[43m[\u001b[49m\u001b[43mx1_past\u001b[49m\u001b[43m,\u001b[49m\u001b[43m \u001b[49m\u001b[43mx2_past\u001b[49m\u001b[43m,\u001b[49m\u001b[43m \u001b[49m\u001b[43mu_past\u001b[49m\u001b[43m,\u001b[49m\u001b[43m \u001b[49m\u001b[43mx1_future_cut\u001b[49m\u001b[43m]\u001b[49m\u001b[43m,\u001b[49m\u001b[43m \u001b[49m\u001b[43mdim\u001b[49m\u001b[38;5;241;43m=\u001b[39;49m\u001b[38;5;241;43m-\u001b[39;49m\u001b[38;5;241;43m1\u001b[39;49m\u001b[43m)\u001b[49m  \u001b[38;5;66;03m# (B, w, 4)\u001b[39;00m\n\u001b[1;32m     53\u001b[0m x \u001b[38;5;241m=\u001b[39m x\u001b[38;5;241m.\u001b[39mflatten(start_dim\u001b[38;5;241m=\u001b[39m\u001b[38;5;241m1\u001b[39m)  \u001b[38;5;66;03m# (B, w*4)\u001b[39;00m\n\u001b[1;32m     55\u001b[0m x \u001b[38;5;241m=\u001b[39m F\u001b[38;5;241m.\u001b[39mrelu(\u001b[38;5;28mself\u001b[39m\u001b[38;5;241m.\u001b[39minput_layer(x))\n",
      "\u001b[0;31mRuntimeError\u001b[0m: Tensors must have same number of dimensions: got 2 and 3"
     ]
    }
   ],
   "source": [
    "import pickle\n",
    "import torch\n",
    "\n",
    "# model configurations\n",
    "config_list = [(5, 512)]  # (n_layers, hidden_dim)\n",
    "num_epoch = 100\n",
    "results = {}\n",
    "\n",
    "device = torch.device(\"cuda\" if torch.cuda.is_available() else \"cpu\")\n",
    "\n",
    "for n_layers, hidden_dim in config_list:\n",
    "    setting_name = f\"{n_layers}L_{hidden_dim}H\"\n",
    "    result = train_policy_tide(\n",
    "        n_layers=n_layers,\n",
    "        hidden_dim=hidden_dim,\n",
    "        setting_name=setting_name,\n",
    "        device=device,\n",
    "        num_epoch=num_epoch\n",
    "    )\n",
    "    results[setting_name] = result\n",
    "\n",
    "# save\n",
    "with open(\"policy_losses.pkl\", \"wb\") as f:\n",
    "    pickle.dump(results, f)\n"
   ]
  },
  {
   "cell_type": "markdown",
   "metadata": {},
   "source": [
    "## 08. Loss history"
   ]
  },
  {
   "cell_type": "code",
   "execution_count": null,
   "metadata": {},
   "outputs": [
    {
     "data": {
      "image/png": "[encoded data removed]",
      "text/plain": [
       "<Figure size 1000x600 with 1 Axes>"
      ]
     },
     "metadata": {},
     "output_type": "display_data"
    }
   ],
   "source": [
    "import matplotlib.pyplot as plt\n",
    "import matplotlib.cm as cm\n",
    "import re\n",
    "\n",
    "plt.figure(figsize=(10, 6))\n",
    "\n",
    "for key in results:\n",
    "    val_loss = results[key].get('val_loss', None)\n",
    "    \n",
    "    if val_loss is None:\n",
    "        print(f\"[경고] '{key}'에 'val_loss'가 없습니다.\")\n",
    "        continue\n",
    "\n",
    "    # label에 layer/hidden_dim 정보 표시\n",
    "    label = key\n",
    "\n",
    "    plt.plot(val_loss, label=label, color=\"black\")  # 단일 실험이므로 색상 고정\n",
    "\n",
    "plt.xlabel(\"Epoch\")\n",
    "plt.ylabel(\"Validation Loss\")\n",
    "plt.yscale(\"log\")\n",
    "plt.title(\"Validation Loss (Single Experiment)\")\n",
    "plt.legend()\n",
    "plt.tight_layout()\n",
    "plt.show()\n"
   ]
  }
 ],
 "metadata": {
  "kernelspec": {
   "display_name": "dpc",
   "language": "python",
   "name": "python3"
  },
  "language_info": {
   "codemirror_mode": {
    "name": "ipython",
    "version": 3
   },
   "file_extension": ".py",
   "mimetype": "text/x-python",
   "name": "python",
   "nbconvert_exporter": "python",
   "pygments_lexer": "ipython3",
   "version": "3.11.11"
  }
 },
 "nbformat": 4,
 "nbformat_minor": 2
}
