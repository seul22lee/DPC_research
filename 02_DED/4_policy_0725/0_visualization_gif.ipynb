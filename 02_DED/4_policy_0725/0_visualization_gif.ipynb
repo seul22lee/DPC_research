{
 "cells": [
  {
   "cell_type": "code",
   "execution_count": 1,
   "id": "30f68a3c",
   "metadata": {},
   "outputs": [
    {
     "name": "stderr",
     "output_type": "stream",
     "text": [
      "Creating GIF:   0%|          | 0/109 [00:00<?, ?it/s]"
     ]
    },
    {
     "name": "stderr",
     "output_type": "stream",
     "text": [
      "Creating GIF: 100%|██████████| 109/109 [00:07<00:00, 13.69it/s]\n"
     ]
    },
    {
     "name": "stdout",
     "output_type": "stream",
     "text": [
      "✅ GIF 저장 완료: /home/ftk3187/github/DPC_research/02_DED/4_policy_0725/tide_prediction_plots/tide_prediction.gif\n"
     ]
    }
   ],
   "source": [
    "import os\n",
    "import imageio\n",
    "from tqdm import tqdm\n",
    "\n",
    "# ── 설정 ────────────────────────────────\n",
    "folder_path = \"/home/ftk3187/github/DPC_research/02_DED/4_policy_0725/tide_prediction_plots\"\n",
    "start_step = 1050\n",
    "end_step = 2130\n",
    "step_interval = 10   # 10 간격으로 저장되었을 경우\n",
    "\n",
    "gif_path = os.path.join(folder_path, \"tide_prediction.gif\")\n",
    "mp4_path = os.path.join(folder_path, \"tide_prediction.mp4\") \n",
    "\n",
    "# ── 프레임 리스트 생성 ─────────────────\n",
    "frames = []\n",
    "\n",
    "for step in tqdm(range(start_step, end_step + 1, step_interval), desc=\"Creating GIF\"):\n",
    "    filename = f\"tide_plot_step_{step}.png\"\n",
    "    file_path = os.path.join(folder_path, filename)\n",
    "\n",
    "    if os.path.exists(file_path):\n",
    "        image = imageio.v2.imread(file_path)\n",
    "        frames.append(image)\n",
    "    else:\n",
    "        print(f\"⚠️ Missing: {file_path}\")\n",
    "\n",
    "# ── GIF 저장 ─────────────────────────────\n",
    "imageio.mimsave(gif_path, frames, duration=1.5)  # duration: 초당 프레임당 시간\n",
    "imageio.mimsave(mp4_path, frames, fps=5)\n",
    "\n",
    "print(f\"✅ GIF 저장 완료: {gif_path}\")\n"
   ]
  },
  {
   "cell_type": "markdown",
   "id": "7185639f",
   "metadata": {},
   "source": []
  }
 ],
 "metadata": {
  "kernelspec": {
   "display_name": "dpc",
   "language": "python",
   "name": "python3"
  },
  "language_info": {
   "codemirror_mode": {
    "name": "ipython",
    "version": 3
   },
   "file_extension": ".py",
   "mimetype": "text/x-python",
   "name": "python",
   "nbconvert_exporter": "python",
   "pygments_lexer": "ipython3",
   "version": "3.11.11"
  }
 },
 "nbformat": 4,
 "nbformat_minor": 5
}
