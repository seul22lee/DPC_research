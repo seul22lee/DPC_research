{
 "cells": [
  {
   "cell_type": "markdown",
   "id": "89b44442",
   "metadata": {},
   "source": [
    "## random reference\n",
    "## random constraint\n",
    "## only tracking (no constraint)"
   ]
  },
  {
   "cell_type": "code",
   "execution_count": 1,
   "id": "ea95eb73",
   "metadata": {},
   "outputs": [
    {
     "name": "stdout",
     "output_type": "stream",
     "text": [
      "cuda is available\n"
     ]
    }
   ],
   "source": [
    "import pandas as pd\n",
    "import torch\n",
    "import torch.nn as nn\n",
    "import torch.optim as optim\n",
    "from torch.utils.data import DataLoader, TensorDataset\n",
    "device = torch.device(\"cuda\" if torch.cuda.is_available() else \"cpu\")\n",
    "if torch.cuda.is_available():\n",
    "    print(\"cuda is available\")\n",
    "else:\n",
    "    print(\"cuda is NOT available\")\n",
    "\n",
    "import numpy as np\n",
    "from tqdm import tqdm\n",
    "import pickle\n",
    "import seaborn as sns\n",
    "import matplotlib.pyplot as plt\n",
    "import time\n",
    "import copy\n",
    "from moving_average import moving_average_1d\n",
    "\n",
    "import importlib\n",
    "import policy\n",
    "importlib.reload(policy)\n",
    "from policy import PolicyNN\n",
    "\n",
    "from nn_functions import surrogate\n",
    "\n",
    "import sys\n",
    "sys.path.append('../1_model')\n",
    "from TiDE import TideModule, quantile_loss  \n"
   ]
  },
  {
   "cell_type": "markdown",
   "id": "11560786",
   "metadata": {},
   "source": [
    "# read data"
   ]
  },
  {
   "cell_type": "code",
   "execution_count": 2,
   "id": "ac860976",
   "metadata": {},
   "outputs": [
    {
     "name": "stdout",
     "output_type": "stream",
     "text": [
      "(610615, 12)\n",
      "Index(['time_index', 'melt_pool_temperature', 'melt_pool_depth',\n",
      "       'scanning_speed', 'X', 'Y', 'Z', 'Dist_to_nearest_X',\n",
      "       'Dist_to_nearest_Y', 'Dist_to_nearest_Z', 'Laser_power',\n",
      "       'laser_power_number'],\n",
      "      dtype='object')\n"
     ]
    }
   ],
   "source": [
    "df_all = pd.read_csv('../0_data/merged_df_2_99_temp_depth.csv')\n",
    "print(df_all.shape)\n",
    "print(df_all.columns)\n",
    "\n",
    "nan_rows = df_all[df_all.isna().any(axis=1)]\n",
    "\n",
    "df_all = df_all.dropna()\n",
    "\n",
    "loc_X = df_all[\"X\"].to_numpy().reshape(-1,1)\n",
    "loc_Y = df_all[\"Y\"].to_numpy().reshape(-1,1)\n",
    "loc_Z = df_all[\"Z\"].to_numpy().reshape(-1,1)\n",
    "dist_X = df_all[\"Dist_to_nearest_X\"].to_numpy().reshape(-1,1)\n",
    "dist_Y = df_all[\"Dist_to_nearest_Y\"].to_numpy().reshape(-1,1)\n",
    "# dist_Z = df_all[\"Dist_to_nearest_Z\"].to_numpy()[::2].reshape(-1,1)\n",
    "scan_spd = df_all[\"scanning_speed\"].to_numpy().reshape(-1,1)\n",
    "laser_power = df_all[\"Laser_power\"].to_numpy().reshape(-1,1)\n",
    "laser_on_off = df_all[\"laser_power_number\"].to_numpy().reshape(-1,1)\n",
    "\n",
    "# apply moving average for mp temp\n",
    "mp_temp_raw = df_all[\"melt_pool_temperature\"].to_numpy()\n",
    "mp_temp_mv = moving_average_1d(mp_temp_raw,4)\n",
    "mp_temp = copy.deepcopy(mp_temp_raw)\n",
    "mp_temp[1:-2] = mp_temp_mv\n",
    "mp_temp = mp_temp.reshape(-1,1)\n",
    "\n",
    "# apply moving average for mp depth\n",
    "mp_depth_raw = df_all[\"melt_pool_depth\"].to_numpy()\n",
    "mp_depth_mv = moving_average_1d(mp_depth_raw,4)\n",
    "mp_depth = copy.deepcopy(mp_depth_raw)\n",
    "mp_depth[1:-2] = mp_depth_mv\n",
    "mp_depth = mp_depth.reshape(-1,1)       \n"
   ]
  },
  {
   "cell_type": "markdown",
   "id": "55821f60",
   "metadata": {},
   "source": [
    "## normalize"
   ]
  },
  {
   "cell_type": "code",
   "execution_count": 3,
   "id": "5a16aebb",
   "metadata": {},
   "outputs": [
    {
     "name": "stdout",
     "output_type": "stream",
     "text": [
      "x_max: [[7.5, 20.0, 20.0, 732.298]]\n",
      "x_min: [[0.0, 0.75, 0.75, 504.26]]\n",
      "y_max: [[4509.855, 0.551]]\n",
      "y_min: [[436.608, -0.559]]\n"
     ]
    }
   ],
   "source": [
    "# stack input array\n",
    "x_original_scale = np.concatenate((loc_Z, dist_X, dist_Y, laser_power), axis=1)\n",
    "y_original_scale = np.concatenate((mp_temp, mp_depth), axis=1)\n",
    "\n",
    "# scaling\n",
    "x_max = np.max(x_original_scale,0).reshape(1,-1)\n",
    "x_min = np.min(x_original_scale,0).reshape(1,-1) \n",
    "y_max = np.max(y_original_scale,0).reshape(1,-1) \n",
    "y_min = np.min(y_original_scale,0).reshape(1,-1)\n",
    "\n",
    "print(\"x_max:\", np.round(x_max, 3).tolist())\n",
    "print(\"x_min:\", np.round(x_min, 3).tolist())\n",
    "print(\"y_max:\", np.round(y_max, 3).tolist())\n",
    "print(\"y_min:\", np.round(y_min, 3).tolist())"
   ]
  },
  {
   "cell_type": "code",
   "execution_count": 4,
   "id": "d7031574",
   "metadata": {},
   "outputs": [],
   "source": [
    "class scalers():\n",
    "    def __init__(self,x_max, x_min, y_max, y_min) -> None:\n",
    "        self.x_max = x_max\n",
    "        self.x_min = x_min\n",
    "        self.y_max = y_max\n",
    "        self.y_min = y_min\n",
    "        \n",
    "        return None\n",
    "    \n",
    "    def scaler_x(self, x_original, dim_id = -1):\n",
    "        if dim_id == -1:\n",
    "            x_s = -1 + 2 * ((x_original - self.x_min) / (self.x_max-self.x_min))\n",
    "            return x_s\n",
    "        else: \n",
    "            x_s = -1 + 2 * (x_original - self.x_min[0,dim_id]) / (self.x_max[0,dim_id] - self.x_min[0,dim_id])\n",
    "            return x_s\n",
    "    \n",
    "    def inv_scaler_x(self, x_s, dim_id = -1):\n",
    "        \n",
    "        if dim_id == -1:\n",
    "            x_original = (x_s + 1)*0.5*(self.x_max-self.x_min) + self.x_min\n",
    "            return x_original\n",
    "        else: \n",
    "            x_original = (x_s + 1)*0.5*(self.x_max[0,dim_id] - self.x_min[0,dim_id]) + self.x_min[0,dim_id]\n",
    "            return x_original\n",
    "        \n",
    "    def scaler_y(self, y_original):\n",
    "        return -1 + 2 * ((y_original - self.y_min) / (self.y_max-self.y_min))\n",
    "    \n",
    "    def inv_scaler_y(self, y_s):\n",
    "        return (y_s + 1)*0.5*(self.y_max-self.y_min) + self.y_min"
   ]
  },
  {
   "cell_type": "code",
   "execution_count": 5,
   "id": "f61f16ed",
   "metadata": {},
   "outputs": [
    {
     "name": "stdout",
     "output_type": "stream",
     "text": [
      "x_s range: -1.0 to 1.0\n",
      "y_s range: -1.0 to 1.0\n",
      "x_s shape: (610417, 4)\n",
      "y_s shape: (610417, 2)\n"
     ]
    }
   ],
   "source": [
    "scaler = scalers(x_max, x_min, y_max, y_min)\n",
    "\n",
    "x_s = scaler.scaler_x(x_original_scale)\n",
    "y_s = scaler.scaler_y(y_original_scale)\n",
    "\n",
    "print(\"x_s range:\", np.min(x_s), \"to\", np.max(x_s))\n",
    "print(\"y_s range:\", np.min(y_s), \"to\", np.max(y_s))\n",
    "\n",
    "print(\"x_s shape:\", x_s.shape)\n",
    "print(\"y_s shape:\", y_s.shape)"
   ]
  },
  {
   "cell_type": "markdown",
   "id": "23523131",
   "metadata": {},
   "source": [
    "## generate data"
   ]
  },
  {
   "cell_type": "code",
   "execution_count": 6,
   "id": "d0fab3af",
   "metadata": {},
   "outputs": [
    {
     "name": "stdout",
     "output_type": "stream",
     "text": [
      "y_s_ref shape: (610417, 1)\n",
      "y_s_const shape: (610417, 2)\n"
     ]
    }
   ],
   "source": [
    "length = y_s.shape[0]\n",
    "\n",
    "y_s_ref = np.random.uniform(0.0, 1.0, size=(length, 1))\n",
    "\n",
    "y_depth_low = 0*np.random.uniform(0.0, 0.5, size=(length, 1))\n",
    "y_depth_up = 0*np.random.uniform(0.5, 1.0, size=(length, 1))\n",
    "y_s_const = np.concatenate((y_depth_low, y_depth_up), axis=1)\n",
    "\n",
    "print(\"y_s_ref shape:\", y_s_ref.shape)\n",
    "print(\"y_s_const shape:\", y_s_const.shape)"
   ]
  },
  {
   "cell_type": "markdown",
   "id": "1cd5646f",
   "metadata": {},
   "source": [
    "## split data"
   ]
  },
  {
   "cell_type": "code",
   "execution_count": 7,
   "id": "5efa4c26",
   "metadata": {},
   "outputs": [
    {
     "name": "stderr",
     "output_type": "stream",
     "text": [
      "100%|██████████| 549275/549275 [00:08<00:00, 61841.35it/s]\n",
      "100%|██████████| 60942/60942 [00:00<00:00, 82633.55it/s]\n"
     ]
    },
    {
     "name": "stdout",
     "output_type": "stream",
     "text": [
      "x_past shape :  torch.Size([549275, 50, 4])\n",
      "y_past shape :  torch.Size([549275, 50, 2])\n",
      "x_future shape :  torch.Size([549275, 50, 3])\n",
      "y_ref shape :  torch.Size([549275, 50, 1])\n",
      "y_const shape :  torch.Size([549275, 50, 2])\n",
      "x_past_val shape :  torch.Size([60942, 50, 4])\n",
      "y_past_val shape :  torch.Size([60942, 50, 2])\n",
      "x_future_val shape :  torch.Size([60942, 50, 3])\n",
      "y_ref_val shape :  torch.Size([60942, 50, 1])\n",
      "y_const_val shape :  torch.Size([60942, 50, 2])\n"
     ]
    }
   ],
   "source": [
    "# 기본 분할\n",
    "cutoff_index = int(np.round(0.9 * x_s.shape[0]))\n",
    "x_train, y_train = x_s[:cutoff_index], y_s[:cutoff_index]\n",
    "x_val, y_val = x_s[cutoff_index:], y_s[cutoff_index:]\n",
    "# y_ref_train, y_ref_val = y_s_ref[:cutoff_index], y_s_ref[cutoff_index:]\n",
    "y_const_train, y_const_val = y_s_const[:cutoff_index], y_s_const[cutoff_index:]\n",
    "\n",
    "window = 50\n",
    "P = 50\n",
    "\n",
    "# ------------------ Training set ------------------\n",
    "n_train = cutoff_index - P - window\n",
    "x_past_train = np.empty((n_train, window, 4))\n",
    "y_past_train = np.empty((n_train, window, 2))\n",
    "x_future_train = np.empty((n_train, P, 3))\n",
    "y_ref_train_seq = np.empty((n_train, P, 1))\n",
    "y_const_train_seq = np.empty((n_train, P, 2))\n",
    "\n",
    "for i in tqdm(range(window, cutoff_index - P)):\n",
    "    j = i - window\n",
    "    x_past_train[j] = x_train[i-window:i]\n",
    "\n",
    "    # shift for u past last component\n",
    "    u_last_shift = torch.empty(1).uniform_(-0.1, 0.1).item()\n",
    "    x_past_train[j, -1, 3] += u_last_shift\n",
    "\n",
    "    y_past_train[j] = y_train[i-window:i]\n",
    "    x_future_train[j] = x_train[i:i+P, :3]         \n",
    "\n",
    "    # shift for temp future entire horizon\n",
    "    scalar_shift = torch.empty(1).uniform_(-0.1, 0.1).item()  # Random scalar shift for y_ref\n",
    "    y_ref_train_seq[j] = y_train[i:i+P, :1] + scalar_shift\n",
    "    # y_ref_train_seq[j] = y_ref_train[i:i+P]\n",
    "\n",
    "    y_const_train_seq[j] = y_const_train[i:i+P]\n",
    "\n",
    "# ------------------ Validation set ------------------\n",
    "val_cutoff = x_s.shape[0] - cutoff_index\n",
    "n_val = val_cutoff - P - window\n",
    "x_past_val = np.empty((n_val, window, 4))\n",
    "y_past_val = np.empty((n_val, window, 2))\n",
    "x_future_val = np.empty((n_val, P, 3))\n",
    "y_ref_val_seq = np.empty((n_val, P, 1))\n",
    "y_const_val_seq = np.empty((n_val, P, 2))\n",
    "\n",
    "for i in tqdm(range(window, val_cutoff - P)):\n",
    "    j = i - window\n",
    "    x_past_val[j] = x_val[i-window:i]\n",
    "    y_past_val[j] = y_val[i-window:i]\n",
    "    x_future_val[j] = x_val[i:i+P, :3]\n",
    "\n",
    "    scalar_shift = torch.empty(1).uniform_(-0.1, 0.1).item() \n",
    "    y_ref_val_seq[j] = y_val[i:i+P, :1] + scalar_shift\n",
    "    # y_ref_val_seq[j] = y_ref_val[i:i+P]\n",
    "\n",
    "    y_const_val_seq[j] = y_const_val[i:i+P]\n",
    "\n",
    "x_past_train = torch.tensor(x_past_train, dtype=torch.float32)\n",
    "y_past_train = torch.tensor(y_past_train, dtype=torch.float32)\n",
    "x_future_train = torch.tensor(x_future_train, dtype=torch.float32)\n",
    "y_ref_train_seq = torch.tensor(y_ref_train_seq, dtype=torch.float32)\n",
    "y_const_train_seq = torch.tensor(y_const_train_seq, dtype=torch.float32)\n",
    "\n",
    "print(\"x_past shape : \", x_past_train.shape)       # (n_train, 50, 4)\n",
    "print(\"y_past shape : \",y_past_train.shape)       # (n_train, 50, 2)\n",
    "print(\"x_future shape : \",x_future_train.shape)     # (n_train, 50, 3)\n",
    "print(\"y_ref shape : \",y_ref_train_seq.shape)    # (n_train, 50, 1)\n",
    "print(\"y_const shape : \",y_const_train_seq.shape)  # (n_train, 50, 2)\n",
    "\n",
    "x_past_val = torch.tensor(x_past_val, dtype=torch.float32)\n",
    "y_past_val = torch.tensor(y_past_val, dtype=torch.float32)\n",
    "x_future_val = torch.tensor(x_future_val, dtype=torch.float32)\n",
    "y_ref_val_seq = torch.tensor(y_ref_val_seq, dtype=torch.float32)\n",
    "y_const_val_seq = torch.tensor(y_const_val_seq, dtype=torch.float32)\n",
    "\n",
    "print(\"x_past_val shape : \", x_past_val.shape)       # (n_val, 50, 4)\n",
    "print(\"y_past_val shape : \", y_past_val.shape)       # (n_val, 50, 2)\n",
    "print(\"x_future_val shape : \", x_future_val.shape)   # (n_val, 50, 3)\n",
    "print(\"y_ref_val shape : \", y_ref_val_seq.shape)     # (n_val, 50, 1)\n",
    "print(\"y_const_val shape : \", y_const_val_seq.shape) # (n_val, 50, 2)"
   ]
  },
  {
   "cell_type": "code",
   "execution_count": 8,
   "id": "a216002c",
   "metadata": {},
   "outputs": [],
   "source": [
    "batch_size = 512\n",
    "\n",
    "# Make sure your training/validation tensors are torch.Tensor before this line\n",
    "train_dataset = TensorDataset(x_past_train, y_past_train, x_future_train, y_ref_train_seq, y_const_train_seq)\n",
    "train_loader = DataLoader(train_dataset, batch_size=batch_size, shuffle=True)\n",
    "\n",
    "val_dataset = TensorDataset(x_past_val, y_past_val, x_future_val, y_ref_val_seq, y_const_val_seq)\n",
    "val_loader = DataLoader(val_dataset, batch_size=batch_size, shuffle=False)"
   ]
  },
  {
   "cell_type": "markdown",
   "id": "e429acf0",
   "metadata": {},
   "source": [
    "# loss function\n"
   ]
  },
  {
   "cell_type": "code",
   "execution_count": 9,
   "id": "ef88e434",
   "metadata": {},
   "outputs": [],
   "source": [
    "def DPC_loss(x_past: torch.Tensor, tide_output: torch.Tensor, reference: torch.Tensor, u_output: torch.Tensor, constraint: torch.Tensor,\n",
    "             w_tracking=1.0, w_smooth=0, w_constraint=0):\n",
    "    \n",
    "    tide_output = tide_output.median(dim=-1).values\n",
    "    tide_output_temp = tide_output[:, :, 0]\n",
    "    reference = reference[:, :, 0]\n",
    "    tracking_loss = (reference - tide_output_temp) ** 2\n",
    "\n",
    "    u_diff = u_output[:, 1:, :] - u_output[:, :-1, :]\n",
    "    # u_diff_2 = x_past[:, -1, 3] - u_output[:,   0, :] ## added for smoothness loss\n",
    "    smoothness_loss = u_diff ** 2 \n",
    "    # smoothness_loss_2 = u_diff_2 ** 2\n",
    "\n",
    "    tide_output_depth = tide_output[:, :, 1]\n",
    "    low_violation = torch.relu(constraint[:, :, 0] - tide_output_depth) ** 2\n",
    "    up_violation = torch.relu(tide_output_depth - constraint[:, :, 1]) ** 2\n",
    "    constraint_loss = 0 * low_violation + up_violation\n",
    "\n",
    "    loss = (\n",
    "        w_tracking * torch.sqrt(tracking_loss.mean()) +\n",
    "        w_smooth * (torch.sqrt(smoothness_loss.mean())) + # +torch.sqrt(smoothness_loss_2.mean())) +\n",
    "        w_constraint * torch.sqrt(constraint_loss.mean())\n",
    "    )\n",
    "    return loss\n"
   ]
  },
  {
   "cell_type": "code",
   "execution_count": 10,
   "id": "c48412af",
   "metadata": {},
   "outputs": [],
   "source": [
    "import torch\n",
    "import pickle\n",
    "\n",
    "# Load model\n",
    "with open('TiDE_params_single_track_square_MV_temp_depth_less_cov_0915_w50_p50.pkl', 'rb') as file:\n",
    "    nominal_params = pickle.load(file)\n",
    "\n",
    "TiDE = nominal_params['model'].to(device)\n",
    "total_params = sum(p.numel() for p in TiDE.parameters())"
   ]
  },
  {
   "cell_type": "code",
   "execution_count": 11,
   "id": "a3b6ed9d",
   "metadata": {},
   "outputs": [],
   "source": [
    "import pickle\n",
    "import os\n",
    "\n",
    "def train_and_evaluate(n_layers, hidden_dim, setting_name,\n",
    "                       w_smooth, w_constraint):\n",
    "    model = PolicyNN(\n",
    "        past_input_dim=6,\n",
    "        future_input_dim=6,\n",
    "        output_dim=1,\n",
    "        p=50,\n",
    "        window=50,\n",
    "        hidden_dim=hidden_dim,\n",
    "        n_layers=n_layers,\n",
    "        dropout_p=0.1\n",
    "    ).to(device)\n",
    "\n",
    "    optimizer = torch.optim.Adam(model.parameters(), lr=learning_rate, weight_decay=weight_decay)\n",
    "    scheduler = torch.optim.lr_scheduler.StepLR(optimizer, step_size=10, gamma=0.95)\n",
    "\n",
    "    best_model = None\n",
    "    best_val_loss = float(\"inf\")\n",
    "    save_train_loss = np.zeros(num_epoch)\n",
    "    save_val_loss = np.zeros(num_epoch)\n",
    "    counter = 0\n",
    "\n",
    "    with tqdm(total=num_epoch, desc=setting_name) as pbar:\n",
    "        model.train()\n",
    "        for epoch in range(num_epoch):\n",
    "\n",
    "            for x_past, y_past, x_future, y_ref, y_const in train_loader:\n",
    "                x_past, y_past, x_future, y_ref, y_const = (\n",
    "                    x_past.to(device), y_past.to(device),\n",
    "                    x_future.to(device), y_ref.to(device), y_const.to(device)\n",
    "                )\n",
    "\n",
    "                policy_in_past = torch.cat((x_past, y_past), dim=2)\n",
    "                policy_in_future = torch.cat((x_future, y_ref, y_const), dim=2)\n",
    "\n",
    "                optimizer.zero_grad()\n",
    "\n",
    "                u_output = model((policy_in_past, policy_in_future))\n",
    "                x_future_tide = torch.cat((x_future, u_output), dim=2)\n",
    "                past_cov = torch.cat((y_past, x_past), dim=2)\n",
    "\n",
    "                tide_pred = TiDE((past_cov, x_future_tide, None))\n",
    "                loss = DPC_loss(x_past, tide_pred, y_ref, u_output, y_const,\n",
    "                                w_tracking=1.0, w_smooth=w_smooth, w_constraint=w_constraint)\n",
    "\n",
    "                loss.backward()\n",
    "                optimizer.step()\n",
    "\n",
    "            # validation\n",
    "            model.eval()\n",
    "            val_loss_total = 0.0\n",
    "            num_val_batches = 0\n",
    "\n",
    "            with torch.no_grad():\n",
    "                for val_x_past, val_y_past, val_x_future, val_y_ref, val_y_const in val_loader:\n",
    "                    val_x_past, val_y_past, val_x_future, val_y_ref, val_y_const = (\n",
    "                        val_x_past.to(device), val_y_past.to(device),\n",
    "                        val_x_future.to(device), val_y_ref.to(device), val_y_const.to(device)\n",
    "                    )\n",
    "\n",
    "                    val_policy_in_past = torch.cat((val_x_past, val_y_past), dim=2)\n",
    "                    val_policy_in_fut = torch.cat((val_x_future, val_y_ref, val_y_const), dim=2)\n",
    "\n",
    "                    val_u_output = model((val_policy_in_past, val_policy_in_fut))\n",
    "\n",
    "                    x_future_tide_val = torch.cat((val_x_future, val_u_output), dim=2)\n",
    "                    past_cov_val = torch.cat((val_y_past, val_x_past), dim=2)\n",
    "\n",
    "                    val_tide_pred = TiDE((past_cov_val, x_future_tide_val, None))\n",
    "                    val_loss = DPC_loss(val_x_past, val_tide_pred, val_y_ref, val_u_output, val_y_const,\n",
    "                                        w_tracking=1.0, w_smooth=w_smooth, w_constraint=w_constraint)\n",
    "\n",
    "                    val_loss_total += val_loss.item()\n",
    "                    num_val_batches += 1\n",
    "\n",
    "            val_loss_avg = val_loss_total / num_val_batches\n",
    "\n",
    "            if val_loss_avg < best_val_loss:\n",
    "                best_val_loss = val_loss_avg\n",
    "                best_model = model.state_dict()\n",
    "                counter = 0\n",
    "            else:\n",
    "                counter += 1\n",
    "                if counter >= patience:\n",
    "                    break\n",
    "\n",
    "            save_train_loss[epoch] = loss.item()\n",
    "            save_val_loss[epoch] = val_loss_avg\n",
    "            scheduler.step()\n",
    "            pbar.set_description(f\"{setting_name} | Epoch {epoch} | Train: {loss.item():.4f} | Val: {val_loss_avg:.4f}\")\n",
    "            pbar.update(1)\n",
    "\n",
    "\n",
    "    # directory where you want to store all results\n",
    "    train_dir = \"/home/ftk3187/github/DPC_research/02_DED/4_policy_0725/trainresults\"\n",
    "    os.makedirs(train_dir, exist_ok=True)\n",
    "\n",
    "    # build filename and full path\n",
    "    model_filename = f\"policy_model_{setting_name}.pth\"\n",
    "    model_path = os.path.join(train_dir, model_filename)\n",
    "\n",
    "    # save and report\n",
    "    torch.save(best_model, model_path)\n",
    "    print(f\"Saved model to: {model_path}\")\n",
    "\n",
    "    # Save model parameters as .pkl\n",
    "    model_params = {\n",
    "        \"model_name\": setting_name,\n",
    "        \"past_input_dim\": 6,\n",
    "        \"future_input_dim\": 6,\n",
    "        \"output_dim\": 1,\n",
    "        \"future_cov_dim\": 2,\n",
    "        \"static_cov_dim\": 0,\n",
    "        \"window\": 50,\n",
    "        \"p\": 50,\n",
    "        \"hidden_dim\": hidden_dim,\n",
    "        \"n_layers\": n_layers,\n",
    "        \"learning_rate\": learning_rate,\n",
    "        \"weight_decay\": weight_decay,\n",
    "        \"num_epoch\": num_epoch,\n",
    "        \"w_smooth\": w_smooth,\n",
    "        \"w_constraint\": w_constraint\n",
    "    }\n",
    "\n",
    "    train_dir = \"/home/ftk3187/github/DPC_research/02_DED/4_policy_0725/trainresults\"\n",
    "    os.makedirs(train_dir, exist_ok=True)\n",
    "\n",
    "    # save model parameters\n",
    "    param_filename = f\"policy_parameters_{setting_name}.pkl\"\n",
    "    param_path = os.path.join(train_dir, param_filename)\n",
    "    with open(param_path, \"wb\") as f:\n",
    "        pickle.dump(model_params, f)\n",
    "    print(f\"Saved model parameters to: {param_path}\")\n",
    "\n",
    "    return {\n",
    "        \"train_loss\": save_train_loss,\n",
    "        \"val_loss\": save_val_loss\n",
    "    }\n"
   ]
  },
  {
   "cell_type": "code",
   "execution_count": 12,
   "id": "fa94d005",
   "metadata": {},
   "outputs": [
    {
     "name": "stdout",
     "output_type": "stream",
     "text": [
      "\n",
      "▶ Training model: 3L_1024H_s0_c0\n"
     ]
    },
    {
     "name": "stderr",
     "output_type": "stream",
     "text": [
      "3L_1024H_s0_c0 | Epoch 19 | Train: 0.0228 | Val: 0.0226: 100%|██████████| 20/20 [05:13<00:00, 15.69s/it]"
     ]
    },
    {
     "name": "stdout",
     "output_type": "stream",
     "text": [
      "Saved model to: /home/ftk3187/github/DPC_research/02_DED/4_policy_0725/trainresults/policy_model_3L_1024H_s0_c0.pth\n",
      "Saved model parameters to: /home/ftk3187/github/DPC_research/02_DED/4_policy_0725/trainresults/policy_parameters_3L_1024H_s0_c0.pkl\n"
     ]
    },
    {
     "name": "stderr",
     "output_type": "stream",
     "text": [
      "\n"
     ]
    }
   ],
   "source": [
    "import torch\n",
    "import os\n",
    "from torch.utils.data import DataLoader, TensorDataset\n",
    "from tqdm import tqdm\n",
    "import numpy as np\n",
    "import pickle\n",
    "\n",
    "# Hyperparameters\n",
    "num_epoch = 20\n",
    "learning_rate = 1e-3\n",
    "weight_decay = 1e-5\n",
    "patience = 100\n",
    "\n",
    "target_configs = [\n",
    "    (3, 1024, 0, 0),  # s0c0\n",
    "]\n",
    "\n",
    "# Results dictionary\n",
    "results = {}\n",
    "\n",
    "# Run training for each configuration\n",
    "for n_layers, hidden_dim, w_smooth, w_constraint in target_configs:\n",
    "    setting_name = f\"{n_layers}L_{hidden_dim}H_s{w_smooth}_c{w_constraint}\"\n",
    "    print(f\"\\n▶ Training model: {setting_name}\")\n",
    "\n",
    "    result = train_and_evaluate(\n",
    "        n_layers=n_layers,\n",
    "        hidden_dim=hidden_dim,\n",
    "        setting_name=setting_name,\n",
    "        w_smooth=w_smooth,\n",
    "        w_constraint=w_constraint\n",
    "    )\n",
    "    results[setting_name] = result\n"
   ]
  },
  {
   "cell_type": "code",
   "execution_count": 13,
   "id": "7cbc0ec0",
   "metadata": {},
   "outputs": [
    {
     "data": {
      "image/png": "[encoded data removed]",
      "text/plain": [
       "<Figure size 800x600 with 1 Axes>"
      ]
     },
     "metadata": {},
     "output_type": "display_data"
    }
   ],
   "source": [
    "import matplotlib.pyplot as plt\n",
    "\n",
    "plt.figure(figsize=(8, 6))\n",
    "\n",
    "for setting_name, result in results.items():\n",
    "    plt.plot(result['train_loss'], label=f\"{setting_name} - Train\")\n",
    "    plt.plot(result['val_loss'], label=f\"{setting_name} - Val\", linestyle='--')\n",
    "\n",
    "plt.xlabel(\"Epoch\")\n",
    "plt.ylabel(\"Loss\")\n",
    "plt.title(\"Training and Validation Loss per Epoch\")\n",
    "plt.legend()\n",
    "plt.grid(True)\n",
    "plt.tight_layout()\n",
    "plt.show()\n"
   ]
  },
  {
   "cell_type": "markdown",
   "id": "4a4be7ea",
   "metadata": {},
   "source": []
  }
 ],
 "metadata": {
  "kernelspec": {
   "display_name": "dpc",
   "language": "python",
   "name": "python3"
  },
  "language_info": {
   "codemirror_mode": {
    "name": "ipython",
    "version": 3
   },
   "file_extension": ".py",
   "mimetype": "text/x-python",
   "name": "python",
   "nbconvert_exporter": "python",
   "pygments_lexer": "ipython3",
   "version": "3.11.11"
  }
 },
 "nbformat": 4,
 "nbformat_minor": 5
}
