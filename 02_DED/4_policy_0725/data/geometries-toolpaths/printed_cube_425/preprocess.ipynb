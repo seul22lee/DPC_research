{
 "cells": [
  {
   "cell_type": "code",
   "execution_count": 10,
   "metadata": {
    "ExecuteTime": {
     "end_time": "2023-05-24T19:19:14.984287Z",
     "start_time": "2023-05-24T19:19:13.047716Z"
    }
   },
   "outputs": [],
   "source": [
    "import sys\n",
    "# import numpy as np\n",
    "sys.path.append(\"../../includes\")\n",
    "from preprocessor import write_keywords,write_birth,write_parameters"
   ]
  },
  {
   "cell_type": "code",
   "execution_count": 11,
   "metadata": {},
   "outputs": [],
   "source": [
    "# np.bool = np.bool_"
   ]
  },
  {
   "cell_type": "code",
   "execution_count": 15,
   "metadata": {
    "ExecuteTime": {
     "end_time": "2023-05-24T20:51:00.786562Z",
     "start_time": "2023-05-24T20:50:50.932083Z"
    }
   },
   "outputs": [],
   "source": [
    "file_name = 'Hammer_Cube_425.inp' #input mesh file from abaqus\n",
    "toolpath_file = 'toolpath_cube_updated.crs'\n",
    "output_file = 'printed_cube.k' #define keyword file name\n",
    "\n",
    "substrate_height = 15.9 ## in mm\n",
    "radius = 1.12\n",
    "path_resolution = 0.1625 # half of the element size\n",
    "write_keywords(file_name,output_file,substrate_height)\n",
    "write_birth(output_file,toolpath_file,path_resolution,radius,gif_end=900,nFrame=180,mode=1,camera_position=[(0, -50, 20),(0, 0, 0),(0.0, 0.0, 1.0)])\n",
    "write_parameters(output_file)"
   ]
  },
  {
   "cell_type": "code",
   "execution_count": null,
   "metadata": {},
   "outputs": [],
   "source": []
  },
  {
   "cell_type": "code",
   "execution_count": null,
   "metadata": {},
   "outputs": [],
   "source": []
  }
 ],
 "metadata": {
  "kernelspec": {
   "display_name": "gamma",
   "language": "python",
   "name": "gamma"
  },
  "language_info": {
   "codemirror_mode": {
    "name": "ipython",
    "version": 3
   },
   "file_extension": ".py",
   "mimetype": "text/x-python",
   "name": "python",
   "nbconvert_exporter": "python",
   "pygments_lexer": "ipython3",
   "version": "3.10.13"
  }
 },
 "nbformat": 4,
 "nbformat_minor": 5
}
