{
 "cells": [
  {
   "cell_type": "markdown",
   "metadata": {},
   "source": [
    "## Getting all node location information "
   ]
  },
  {
   "cell_type": "code",
   "execution_count": 1,
   "metadata": {},
   "outputs": [],
   "source": [
    "laser_power_profile_number = 1\n"
   ]
  },
  {
   "cell_type": "code",
   "execution_count": 2,
   "metadata": {},
   "outputs": [
    {
     "name": "stdout",
     "output_type": "stream",
     "text": [
      "Downloaded Yi-Ping:/Exp_10_layer/compressed_laser_profile_1.zarr.zarr.tar.gz to /home/ycv5080/Github/DED/DT_DED/DED_DT_Thermomechanical_Solver/TiDE_surrogate/data_processing/compressed_laser_profile_1.zarr.zarr.tar.gz\n"
     ]
    }
   ],
   "source": [
    "import subprocess\n",
    "import os\n",
    "\n",
    "def download_with_progress(source_path, target_directory):\n",
    "    # Define the path for the local download\n",
    "    local_compressed_file_path = os.path.join(target_directory, os.path.basename(source_path))\n",
    "    \n",
    "    # Download the compressed file\n",
    "    subprocess.run(['rclone', 'copy', source_path, target_directory], check=True)\n",
    "    print(f\"Downloaded {source_path} to {local_compressed_file_path}\")\n",
    "\n",
    "# Example usage\n",
    "download_with_progress(f'Yi-Ping:/Exp_10_layer/compressed_laser_profile_{laser_power_profile_number}.zarr.zarr.tar.gz', '/home/ycv5080/Github/DED/DT_DED/DED_DT_Thermomechanical_Solver/TiDE_surrogate/data_processing')\n"
   ]
  },
  {
   "cell_type": "code",
   "execution_count": 3,
   "metadata": {},
   "outputs": [
    {
     "name": "stdout",
     "output_type": "stream",
     "text": [
      "Decompressed /home/ycv5080/Github/DED/DT_DED/DED_DT_Thermomechanical_Solver/TiDE_surrogate/data_processing/laser_profile_1.zarr.tar.gz into /home/ycv5080/Github/DED/DT_DED/DED_DT_Thermomechanical_Solver/TiDE_surrogate/data_processing\n"
     ]
    }
   ],
   "source": [
    "import tarfile\n",
    "\n",
    "def decompress_tar_gz(file_path, target_directory):\n",
    "    # Check if the target directory exists, create if not\n",
    "    if not os.path.exists(target_directory):\n",
    "        os.makedirs(target_directory)\n",
    "    \n",
    "    # Open the .tar.gz file\n",
    "    with tarfile.open(file_path, 'r:gz') as tar:\n",
    "        # Extract all the contents into the target directory\n",
    "        tar.extractall(path=target_directory)\n",
    "        print(f\"Decompressed {file_path} into {target_directory}\")\n",
    "\n",
    "# Example usage\n",
    "file_path = f\"/home/ycv5080/Github/DED/DT_DED/DED_DT_Thermomechanical_Solver/TiDE_surrogate/data_processing/laser_profile_{laser_power_profile_number}.zarr.tar.gz\"\n",
    "target_directory = '/home/ycv5080/Github/DED/DT_DED/DED_DT_Thermomechanical_Solver/TiDE_surrogate/data_processing' # Change this to your actual target directory\n",
    "decompress_tar_gz(file_path, target_directory)"
   ]
  },
  {
   "cell_type": "code",
   "execution_count": 37,
   "metadata": {},
   "outputs": [
    {
     "name": "stderr",
     "output_type": "stream",
     "text": [
      "Processing Time Steps: 100%|██████████| 6295/6295 [13:39<00:00,  7.68it/s]\n"
     ]
    }
   ],
   "source": [
    "import zarr\n",
    "import pandas as pd\n",
    "import numpy as np\n",
    "from scipy.interpolate import interp1d, Rbf\n",
    "\n",
    "# Assuming nodes_df is already defined and contains 'x', 'y', 'z' columns\n",
    "# If not, you'll need to read the CSV file as before\n",
    "filename = '/home/ycv5080/Github/DED/DT_DED/DED_DT_Thermomechanical_Solver/TiDE_surrogate/data_processing/domain_nodes.csv'\n",
    "nodes_df = pd.read_csv(filename)\n",
    "\n",
    "# Add a 'node_number' column starting from 0\n",
    "nodes_df['node_number'] = np.arange(len(nodes_df))\n",
    "\n",
    "def zarr_to_df(file_path):\n",
    "    # Open the Zarr array directly\n",
    "    zarr_array = zarr.open(file_path, mode='r')\n",
    "    \n",
    "    # Ensure the Zarr array is 2D\n",
    "    if zarr_array.ndim != 2:\n",
    "        raise ValueError(\"The Zarr array is not 2D. Additional processing may be required.\")\n",
    "    \n",
    "    # Convert the Zarr array to a NumPy array then to a DataFrame\n",
    "    numpy_array = np.array(zarr_array)\n",
    "    df = pd.DataFrame(numpy_array)\n",
    "    return df\n",
    "\n",
    "# Paths to the Zarr arrays for x, y, and z coordinates\n",
    "file_paths = {\n",
    "    'x': f\"/home/ycv5080/Github/DED/DT_DED/DED_DT_Thermomechanical_Solver/TiDE_surrogate/data_processing/laser_profile_{laser_power_profile_number}.zarr/dt_pos_x\",\n",
    "    'y': f\"/home/ycv5080/Github/DED/DT_DED/DED_DT_Thermomechanical_Solver/TiDE_surrogate/data_processing/laser_profile_{laser_power_profile_number}.zarr/dt_pos_y\",\n",
    "    'z': f\"/home/ycv5080/Github/DED/DT_DED/DED_DT_Thermomechanical_Solver/TiDE_surrogate/data_processing/laser_profile_{laser_power_profile_number}.zarr/dt_pos_z\"\n",
    "}\n",
    "\n",
    "# Convert each Zarr array to a DataFrame\n",
    "dfs = {coord: zarr_to_df(path) for coord, path in file_paths.items()}\n",
    "\n",
    "# Assuming the DataFrames are aligned and correspond to each other row-wise\n",
    "# Combine the DataFrames into a single DataFrame with x, y, and z columns\n",
    "tool_path_df = pd.concat([dfs['x'], dfs['y'], dfs['z']], axis=1)\n",
    "tool_path_df.columns = ['X', 'Y', 'Z']\n",
    "\n",
    "toolpath_data = tool_path_df.iloc[:6295]\n",
    "\n",
    "# Desired number of samples for interpolation\n",
    "desired_samples = 6295\n",
    "\n",
    "# Interpolating the toolpath data to reduce it to the desired number of samples\n",
    "df_reduced_laser_location = pd.DataFrame({\n",
    "    'X': np.interp(np.linspace(0, len(toolpath_data)-1, desired_samples), np.arange(len(toolpath_data)), toolpath_data['X']),\n",
    "    'Y': np.interp(np.linspace(0, len(toolpath_data)-1, desired_samples), np.arange(len(toolpath_data)), toolpath_data['Y']),\n",
    "    'Z': np.interp(np.linspace(0, len(toolpath_data)-1, desired_samples), np.arange(len(toolpath_data)), toolpath_data['Z']),})\n",
    "\n",
    "\n",
    "# Define the limits for x, y, and z\n",
    "x_limits = (-20, 20)\n",
    "y_limits = (-20, 20)\n",
    "z_limits = (0, 8)\n",
    "\n",
    "# Function to calculate distance to the nearest edge for each limit\n",
    "def distance_to_nearest_edge(value, limits):\n",
    "    return min(value - limits[0], limits[1] - value)\n",
    "\n",
    "# Calculating the distances and adding them as new columns\n",
    "df_reduced_laser_location['Dist_to_nearest_X'] = df_reduced_laser_location['X'].apply(distance_to_nearest_edge, args=(x_limits,))\n",
    "df_reduced_laser_location['Dist_to_nearest_Y'] = df_reduced_laser_location['Y'].apply(distance_to_nearest_edge, args=(y_limits,))\n",
    "df_reduced_laser_location['Dist_to_nearest_Z'] = 0\n",
    "\n",
    "\n",
    "from tqdm import tqdm\n",
    "\n",
    "# Load node locations (assuming this is already loaded as nodes_df with 'x', 'y', 'z', 'node_number')\n",
    "# Load node temperature data from the Zarr file\n",
    "\n",
    "solidus_temperature = 400\n",
    "temp_file_path = f\"/home/ycv5080/Github/DED/DT_DED/DED_DT_Thermomechanical_Solver/TiDE_surrogate/data_processing/laser_profile_{laser_power_profile_number}.zarr/ff_dt_temperature\"\n",
    "zarr_temp_array = zarr.open(temp_file_path, mode='r')\n",
    "temperature_data = np.array(zarr_temp_array).squeeze()  # Assuming it's a 2D array (time steps x nodes)\n",
    "# Pre-define lists to accumulate data\n",
    "time_steps = []\n",
    "xs = []\n",
    "ys = []\n",
    "zs = []\n",
    "temperatures = []\n",
    "\n",
    "x_range = 1.5\n",
    "y_range = 1.5\n",
    "z_range = 4\n",
    "half_x_range = x_range / 2\n",
    "half_y_range = y_range / 2\n",
    "\n",
    "melt_pool_depth_save = np.empty((len(toolpath_data),1))\n",
    "\n",
    "\n",
    "for specific_time_step in tqdm(range(len(toolpath_data)), desc=\"Processing Time Steps\"):\n",
    "    specific_temperatures = temperature_data[specific_time_step, :]\n",
    "    nodes_df['temperature'] = specific_temperatures\n",
    "\n",
    "    # Filter nodes above solidus temperature and find the max z\n",
    "    nodes_above_solidus = nodes_df[nodes_df['temperature'] > solidus_temperature]\n",
    "    max_z = nodes_above_solidus['z'].max()\n",
    "\n",
    "    # Filter for nodes with max_z\n",
    "    for _, row in nodes_above_solidus[nodes_above_solidus['z'] == max_z].iterrows():\n",
    "        time_steps.append(specific_time_step)\n",
    "        xs.append(row['x'])\n",
    "        ys.append(row['y'])\n",
    "        zs.append(row['z'])\n",
    "        temperatures.append(row['temperature'])\n",
    "    \n",
    "    # Filter nodes within the search box\n",
    "    from scipy.interpolate import griddata, Rbf, RBFInterpolator\n",
    "    laser_location_x = toolpath_data[\"X\"][specific_time_step]\n",
    "    laser_location_y = toolpath_data[\"Y\"][specific_time_step]\n",
    "    laser_location_z = toolpath_data[\"Z\"][specific_time_step]\n",
    "    \n",
    "    \n",
    "    in_cube_cond = (nodes_df[\"x\"]<= float(laser_location_x) + x_range/2) & \\\n",
    "                    (nodes_df[\"x\"]>= float(laser_location_x) - x_range/2) & \\\n",
    "                    (nodes_df[\"y\"]<= float(laser_location_y) + y_range/2) & \\\n",
    "                    (nodes_df[\"y\"]>= float(laser_location_y) - y_range/2) & \\\n",
    "                    (nodes_df[\"z\"]>= float(laser_location_z) - z_range)\n",
    "    \n",
    "    nodes_melt_pool_range = nodes_df[in_cube_cond]\n",
    "    \n",
    "    # Check if we have any nodes in the melt pool range\n",
    "    if not nodes_melt_pool_range.empty:\n",
    "        try:\n",
    "            points = nodes_melt_pool_range[['x', 'y', 'z']].values\n",
    "            values = nodes_melt_pool_range['temperature'].values\n",
    "\n",
    "            # # Define the grid for interpolation\n",
    "            grid_x, grid_y, grid_z = np.mgrid[\n",
    "                laser_location_x - half_x_range:laser_location_x + half_x_range:5j,\n",
    "                laser_location_y - half_y_range:laser_location_y + half_y_range:5j,\n",
    "                max(laser_location_z - z_range, nodes_melt_pool_range['z'].min()):laser_location_z:50j\n",
    "            ]\n",
    "\n",
    "            # # Perform interpolation using griddata\n",
    "            # temp_interp = griddata(points, values, (grid_x, grid_y, grid_z), method='cubic')\n",
    "            \n",
    "            # using RBF            \n",
    "            # rbf_cube = Rbf(nodes_melt_pool_range['x'], nodes_melt_pool_range['y'], nodes_melt_pool_range['z'],nodes_melt_pool_range['temperature'])\n",
    "            # temp_interp = rbf_cube(grid_x, grid_y, grid_z)\n",
    "            \n",
    "            # using RBFInterpolator\n",
    "            rbf_cube = RBFInterpolator(points, values)\n",
    "            points_3D = np.vstack([grid_x.ravel(), grid_y.ravel(), grid_z.ravel()]).T\n",
    "            temp_interp = rbf_cube(points_3D)\n",
    "            temp_interp = temp_interp.reshape(grid_x.shape)\n",
    "            \n",
    "            \n",
    "            # # Process interpolated temperature data\n",
    "            mask_above_solidus = temp_interp >= 1600\n",
    "            mp_z = grid_z[mask_above_solidus]\n",
    "            melt_pool_depth = np.max(mp_z) - np.min(mp_z) - 0.75\n",
    "        except:\n",
    "            melt_pool_depth = 0\n",
    "    else: \n",
    "        melt_pool_depth = 0\n",
    "    \n",
    "    melt_pool_depth_save[specific_time_step] = melt_pool_depth\n",
    "    "
   ]
  },
  {
   "cell_type": "code",
   "execution_count": 29,
   "metadata": {},
   "outputs": [
    {
     "data": {
      "text/plain": [
       "array([], dtype=float64)"
      ]
     },
     "execution_count": 29,
     "metadata": {},
     "output_type": "execute_result"
    }
   ],
   "source": [
    "mp_z = grid_z[mask_above_solidus]\n",
    "mp_z"
   ]
  },
  {
   "cell_type": "code",
   "execution_count": 7,
   "metadata": {},
   "outputs": [],
   "source": [
    "def collect_melt_pool_depth():\n",
    "    # Filter nodes within the search box\n",
    "    from scipy.interpolate import griddata\n",
    "    laser_location_x = toolpath_data[\"X\"][specific_time_step]\n",
    "    laser_location_y = toolpath_data[\"Y\"][specific_time_step]\n",
    "    laser_location_z = toolpath_data[\"Z\"][specific_time_step]\n",
    "    \n",
    "    \n",
    "    in_cube_cond = (nodes_df[\"x\"]<= float(laser_location_x) + x_range/2) & \\\n",
    "                    (nodes_df[\"x\"]>= float(laser_location_x) - x_range/2) & \\\n",
    "                    (nodes_df[\"y\"]<= float(laser_location_y) + y_range/2) & \\\n",
    "                    (nodes_df[\"y\"]>= float(laser_location_y) - y_range/2) & \\\n",
    "                    (nodes_df[\"z\"]>= float(laser_location_z) - z_range)\n",
    "    \n",
    "    nodes_melt_pool_range = nodes_df[in_cube_cond]\n",
    "    \n",
    "    # Check if we have any nodes in the melt pool range\n",
    "    if not nodes_melt_pool_range.empty:\n",
    "        try:\n",
    "            points = nodes_melt_pool_range[['x', 'y', 'z']].values\n",
    "            values = nodes_melt_pool_range['temperature'].values\n",
    "\n",
    "            # Define the grid for interpolation\n",
    "            grid_x, grid_y, grid_z = np.mgrid[\n",
    "                laser_location_x - half_x_range:laser_location_x + half_x_range:30j,\n",
    "                laser_location_y - half_y_range:laser_location_y + half_y_range:20j,\n",
    "                max(laser_location_z - z_range, nodes_melt_pool_range['z'].min()):laser_location_z:40j\n",
    "            ]\n",
    "\n",
    "            # Perform interpolation using griddata\n",
    "            temp_interp = griddata(points, values, (grid_x, grid_y, grid_z), method='linear')\n",
    "\n",
    "            # Process interpolated temperature data\n",
    "            mask_above_solidus = temp_interp >= 1600\n",
    "            mp_z = grid_z[mask_above_solidus]\n",
    "\n",
    "            \n",
    "            melt_pool_depth = np.max(mp_z) - np.min(mp_z) - 0.75\n",
    "        except:\n",
    "            melt_pool_depth = 0\n",
    "    else: \n",
    "        melt_pool_depth = 0\n",
    "    \n",
    "    melt_pool_depth_save[specific_time_step] = melt_pool_depth"
   ]
  },
  {
   "cell_type": "code",
   "execution_count": 36,
   "metadata": {},
   "outputs": [
    {
     "data": {
      "text/plain": [
       "[<matplotlib.lines.Line2D at 0x7fc2d1cfda80>]"
      ]
     },
     "execution_count": 36,
     "metadata": {},
     "output_type": "execute_result"
    },
    {
     "data": {
      "image/png": "[encoded data removed]",
      "text/plain": [
       "<Figure size 640x480 with 1 Axes>"
      ]
     },
     "metadata": {},
     "output_type": "display_data"
    }
   ],
   "source": [
    "import matplotlib.pyplot as plt\n",
    "def moving_average_1d(data, window_size):\n",
    "    if window_size < 1:\n",
    "        raise ValueError(\"Window size must be at least 1\")\n",
    "    kernel = np.ones(window_size) / window_size\n",
    "    return np.convolve(data, kernel, mode='valid')\n",
    "\n",
    "depth_mva = moving_average_1d(melt_pool_depth_save[:,0],2)\n",
    "\n",
    "plt.plot(depth_mva)"
   ]
  },
  {
   "cell_type": "code",
   "execution_count": 15,
   "metadata": {},
   "outputs": [
    {
     "name": "stderr",
     "output_type": "stream",
     "text": [
      "Processing Time Steps: 100%|██████████| 11252/11252 [01:08<00:00, 163.76it/s] \n",
      "100%|██████████| 6295/6295 [00:32<00:00, 193.22it/s]\n"
     ]
    }
   ],
   "source": [
    "import zarr\n",
    "import pandas as pd\n",
    "import numpy as np\n",
    "from scipy.interpolate import interp1d, Rbf\n",
    "\n",
    "# Assuming nodes_df is already defined and contains 'x', 'y', 'z' columns\n",
    "# If not, you'll need to read the CSV file as before\n",
    "filename = '/home/ycv5080/Github/DED/DT_DED/DED_DT_Thermomechanical_Solver/TiDE_surrogate/data_processing/domain_nodes.csv'\n",
    "nodes_df = pd.read_csv(filename)\n",
    "\n",
    "# Add a 'node_number' column starting from 0\n",
    "nodes_df['node_number'] = np.arange(len(nodes_df))\n",
    "\n",
    "def zarr_to_df(file_path):\n",
    "    # Open the Zarr array directly\n",
    "    zarr_array = zarr.open(file_path, mode='r')\n",
    "    \n",
    "    # Ensure the Zarr array is 2D\n",
    "    if zarr_array.ndim != 2:\n",
    "        raise ValueError(\"The Zarr array is not 2D. Additional processing may be required.\")\n",
    "    \n",
    "    # Convert the Zarr array to a NumPy array then to a DataFrame\n",
    "    numpy_array = np.array(zarr_array)\n",
    "    df = pd.DataFrame(numpy_array)\n",
    "    return df\n",
    "\n",
    "# Paths to the Zarr arrays for x, y, and z coordinates\n",
    "file_paths = {\n",
    "    'x': f\"/home/ycv5080/Github/DED/DT_DED/DED_DT_Thermomechanical_Solver/TiDE_surrogate/data_processing/laser_profile_{laser_power_profile_number}.zarr/dt_pos_x\",\n",
    "    'y': f\"/home/ycv5080/Github/DED/DT_DED/DED_DT_Thermomechanical_Solver/TiDE_surrogate/data_processing/laser_profile_{laser_power_profile_number}.zarr/dt_pos_y\",\n",
    "    'z': f\"/home/ycv5080/Github/DED/DT_DED/DED_DT_Thermomechanical_Solver/TiDE_surrogate/data_processing/laser_profile_{laser_power_profile_number}.zarr/dt_pos_z\"\n",
    "}\n",
    "\n",
    "# Convert each Zarr array to a DataFrame\n",
    "dfs = {coord: zarr_to_df(path) for coord, path in file_paths.items()}\n",
    "\n",
    "# Assuming the DataFrames are aligned and correspond to each other row-wise\n",
    "# Combine the DataFrames into a single DataFrame with x, y, and z columns\n",
    "tool_path_df = pd.concat([dfs['x'], dfs['y'], dfs['z']], axis=1)\n",
    "tool_path_df.columns = ['X', 'Y', 'Z']\n",
    "\n",
    "toolpath_data = tool_path_df.iloc[:6295]\n",
    "\n",
    "# Desired number of samples for interpolation\n",
    "desired_samples = 6295\n",
    "\n",
    "# Interpolating the toolpath data to reduce it to the desired number of samples\n",
    "df_reduced_laser_location = pd.DataFrame({\n",
    "    'X': np.interp(np.linspace(0, len(toolpath_data)-1, desired_samples), np.arange(len(toolpath_data)), toolpath_data['X']),\n",
    "    'Y': np.interp(np.linspace(0, len(toolpath_data)-1, desired_samples), np.arange(len(toolpath_data)), toolpath_data['Y']),\n",
    "    'Z': np.interp(np.linspace(0, len(toolpath_data)-1, desired_samples), np.arange(len(toolpath_data)), toolpath_data['Z']),})\n",
    "\n",
    "\n",
    "# Define the limits for x, y, and z\n",
    "x_limits = (-20, 20)\n",
    "y_limits = (-20, 20)\n",
    "z_limits = (0, 8)\n",
    "\n",
    "# Function to calculate distance to the nearest edge for each limit\n",
    "def distance_to_nearest_edge(value, limits):\n",
    "    return min(value - limits[0], limits[1] - value)\n",
    "\n",
    "# Calculating the distances and adding them as new columns\n",
    "df_reduced_laser_location['Dist_to_nearest_X'] = df_reduced_laser_location['X'].apply(distance_to_nearest_edge, args=(x_limits,))\n",
    "df_reduced_laser_location['Dist_to_nearest_Y'] = df_reduced_laser_location['Y'].apply(distance_to_nearest_edge, args=(y_limits,))\n",
    "df_reduced_laser_location['Dist_to_nearest_Z'] = 0\n",
    "\n",
    "\n",
    "from tqdm import tqdm\n",
    "\n",
    "# Load node locations (assuming this is already loaded as nodes_df with 'x', 'y', 'z', 'node_number')\n",
    "# Load node temperature data from the Zarr file\n",
    "\n",
    "solidus_temperature = 400\n",
    "temp_file_path = f\"/home/ycv5080/Github/DED/DT_DED/DED_DT_Thermomechanical_Solver/TiDE_surrogate/data_processing/laser_profile_{laser_power_profile_number}.zarr/ff_dt_temperature\"\n",
    "zarr_temp_array = zarr.open(temp_file_path, mode='r')\n",
    "temperature_data = np.array(zarr_temp_array).squeeze()  # Assuming it's a 2D array (time steps x nodes)\n",
    "# Pre-define lists to accumulate data\n",
    "time_steps = []\n",
    "xs = []\n",
    "ys = []\n",
    "zs = []\n",
    "temperatures = []\n",
    "\n",
    "\n",
    "for specific_time_step in tqdm(range(len(temperature_data)), desc=\"Processing Time Steps\"):\n",
    "    specific_temperatures = temperature_data[specific_time_step, :]\n",
    "    nodes_df['temperature'] = specific_temperatures\n",
    "\n",
    "    # Filter nodes above solidus temperature and find the max z\n",
    "    nodes_above_solidus = nodes_df[nodes_df['temperature'] > solidus_temperature]\n",
    "    max_z = nodes_above_solidus['z'].max()\n",
    "\n",
    "    # Filter for nodes with max_z\n",
    "    for _, row in nodes_above_solidus[nodes_above_solidus['z'] == max_z].iterrows():\n",
    "        time_steps.append(specific_time_step)\n",
    "        xs.append(row['x'])\n",
    "        ys.append(row['y'])\n",
    "        zs.append(row['z'])\n",
    "        temperatures.append(row['temperature'])\n",
    "        \n",
    "    \n",
    "    \n",
    "\n",
    "# Load the time index from the Zarr file\n",
    "file_path = f\"/home/ycv5080/Github/DED/DT_DED/DED_DT_Thermomechanical_Solver/TiDE_surrogate/data_processing/laser_profile_{laser_power_profile_number}.zarr/timestamp\"\n",
    "zarr_array = zarr.open(file_path, mode='r')\n",
    "time_index_array = np.array(zarr_array).squeeze()[:6295]  # Assuming it's a 1D array\n",
    "\n",
    "# Convert lists to DataFrame\n",
    "all_nodes_with_max_z = pd.DataFrame({\n",
    "    'time_step': time_steps,\n",
    "    'x': xs,\n",
    "    'y': ys,\n",
    "    'z': zs,\n",
    "    'temperature': temperatures\n",
    "})\n",
    "\n",
    "import zarr\n",
    "import pandas as pd\n",
    "import numpy as np\n",
    "\n",
    "def zarr_to_df(file_path):\n",
    "    # Open the Zarr array directly\n",
    "    zarr_array = zarr.open(file_path, mode='r')\n",
    "    \n",
    "    # Ensure the Zarr array is 2D\n",
    "    if zarr_array.ndim != 2:\n",
    "        raise ValueError(\"The Zarr array is not 2D. Additional processing may be required.\")\n",
    "    \n",
    "    # Convert the Zarr array to a NumPy array then to a DataFrame\n",
    "    numpy_array = np.array(zarr_array)\n",
    "    df = pd.DataFrame(numpy_array)\n",
    "    return df\n",
    "\n",
    "# Paths to the Zarr arrays for x, y, and z coordinates\n",
    "file_paths = {\n",
    "    'x': f\"/home/ycv5080/Github/DED/DT_DED/DED_DT_Thermomechanical_Solver/TiDE_surrogate/data_processing/laser_profile_{laser_power_profile_number}.zarr/dt_pos_x\",\n",
    "    'y': f\"/home/ycv5080/Github/DED/DT_DED/DED_DT_Thermomechanical_Solver/TiDE_surrogate/data_processing/laser_profile_{laser_power_profile_number}.zarr/dt_pos_y\",\n",
    "    'z': f\"/home/ycv5080/Github/DED/DT_DED/DED_DT_Thermomechanical_Solver/TiDE_surrogate/data_processing/laser_profile_{laser_power_profile_number}.zarr/dt_pos_z\"\n",
    "}\n",
    "\n",
    "# Convert each Zarr array to a DataFrame\n",
    "dfs = {coord: zarr_to_df(path) for coord, path in file_paths.items()}\n",
    "\n",
    "# Assuming the DataFrames are aligned and correspond to each other row-wise\n",
    "# Combine the DataFrames into a single DataFrame with x, y, and z columns\n",
    "tool_path_df = pd.concat([dfs['x'], dfs['y'], dfs['z']], axis=1)\n",
    "tool_path_df.columns = ['x', 'y', 'z']\n",
    "#tool_path_df = tool_path_df.iloc[1:]\n",
    "# Now `tool_path_df` contains the combined tool path with x, y, and z coordinates\n",
    "\n",
    "\n",
    "# Calculating the difference (delta) for each axis to determine direction change\n",
    "tool_path_df['dx'] = tool_path_df['x'].diff()\n",
    "tool_path_df['dy'] = tool_path_df['y'].diff()\n",
    "tool_path_df['dz'] = tool_path_df['z'].diff()\n",
    "\n",
    "# Since calculating direction at each second requires time data which is not provided,\n",
    "# We'll just calculate the direction change between each recorded point.\n",
    "# Note: For accurate per-second analysis, time data would be necessary.\n",
    "\n",
    "# Simply indicating direction change without normalization for simplicity\n",
    "direction_changes = tool_path_df[['dx', 'dy', 'dz']].fillna(0)\n",
    "\n",
    "direction_changes\n",
    "\n",
    "\n",
    "direction_changes_df = pd.DataFrame(direction_changes)\n",
    "\n",
    "\n",
    "# Calculate the magnitude of each vector\n",
    "magnitude = (direction_changes_df['dx']**2 + direction_changes_df['dy']**2 + direction_changes_df['dz']**2)**0.5\n",
    "\n",
    "# Avoid division by zero by setting zero magnitudes to 1 (effectively making the direction vector [0,0,0] for no movement)\n",
    "magnitude[magnitude == 0] = 1\n",
    "\n",
    "# Calculate unit vector components\n",
    "direction_changes_df['unit_dx'] = direction_changes_df['dx'] / magnitude\n",
    "direction_changes_df['unit_dy'] = direction_changes_df['dy'] / magnitude\n",
    "direction_changes_df['unit_dz'] = direction_changes_df['dz'] / magnitude\n",
    "\n",
    "direction_changes_df[['unit_dx', 'unit_dy', 'unit_dz']]\n",
    "\n",
    "\n",
    "import numpy as np\n",
    "import pandas as pd\n",
    "from scipy.interpolate import griddata\n",
    "import matplotlib.pyplot as plt\n",
    "from mpl_toolkits.mplot3d import Axes3D\n",
    "from tqdm import tqdm\n",
    "\n",
    "# Assuming all_nodes_with_max_z and direction_changes_df are pre-loaded\n",
    "\n",
    "solidus_temp = 1648.15\n",
    "liquidus_temp = 1673.15\n",
    "\n",
    "def fit_temperature_surface(time_step):\n",
    "    specific_data = all_nodes_with_max_z[all_nodes_with_max_z['time_step'] == time_step]\n",
    "    if specific_data.empty:\n",
    "        print(f\"No data available for time step {time_step}.\")\n",
    "        return np.nan, np.nan, np.nan\n",
    "    laser_center = specific_data.loc[specific_data['temperature'].idxmax(), ['x', 'y']]\n",
    "    bounding_box = {'xmin': laser_center['x'] - 3, 'xmax': laser_center['x'] + 3,\n",
    "                    'ymin': laser_center['y'] - 3, 'ymax': laser_center['y'] + 3}\n",
    "    bounded_data = specific_data[\n",
    "        (specific_data['x'] >= bounding_box['xmin']) & (specific_data['x'] <= bounding_box['xmax']) &\n",
    "        (specific_data['y'] >= bounding_box['ymin']) & (specific_data['y'] <= bounding_box['ymax']) &\n",
    "        (specific_data['temperature'] <= 20000)\n",
    "    ]\n",
    "    if bounded_data.shape[0] < 5:\n",
    "        print(f\"Not enough data points for interpolation at time step {time_step}.\")\n",
    "        return [np.nan], np.nan, np.nan, np.nan\n",
    "    # Prepare points and values for griddata interpolation\n",
    "    points = bounded_data[['x', 'y']].values\n",
    "    values = bounded_data['temperature'].values\n",
    "\n",
    "    return points, values, bounding_box, specific_data\n",
    "\n",
    "def calculate_melt_pool_temperature(points, values, center_x, center_y, radius=0.45):\n",
    "    # theta = np.linspace(0, 2 * np.pi, 100)\n",
    "    # x = center_x + radius * np.cos(theta)\n",
    "    # y = center_y + radius * np.sin(theta)\n",
    "    # # Use griddata for interpolation over a circle around the laser center\n",
    "    # z = griddata(points, values, (x, y), method='linear')\n",
    "    # return np.nanmean(z)  # Use nanmean to safely handle NaNs\n",
    "\n",
    "    RBF_surf = Rbf(points[:,0],points[:,1],values, function='linear')\n",
    "    x_range = np.linspace(center_x-radius,center_x+radius,30)\n",
    "    y_range = np.linspace(center_y-radius,center_y+radius,30)\n",
    "    X,Y = np.meshgrid(x_range,y_range)\n",
    "    Z = RBF_surf(X,Y)\n",
    "    Xr = X.ravel()\n",
    "    Yr = Y.ravel()\n",
    "    in_circle = np.sqrt((Xr-center_x)**2+(Yr-center_y)**2)\n",
    "    mask = np.where(in_circle<=(radius))\n",
    "    Zr = Z.ravel()\n",
    "    Z_in_circle = Zr[mask]\n",
    "    return np.mean(Z_in_circle)\n",
    "    \n",
    "\n",
    "def collect_melt_pool_temperatures():\n",
    "    temperatures = []\n",
    "    time_steps = np.sort(all_nodes_with_max_z['time_step'].unique())\n",
    "    for time_step in tqdm(time_steps):  \n",
    "        points, values, bounding_box, specific_data = fit_temperature_surface(time_step)\n",
    "        # Check if points is None or empty\n",
    "        if len(points) < 5:\n",
    "        # if points is None or len(points) == 0:\n",
    "            print(f\"No data available for time step {time_step}.\")\n",
    "            temperatures.append(np.nan)  # Append NaN if interpolation data isn't available\n",
    "            continue\n",
    "        else:\n",
    "            tool_position = specific_data.loc[specific_data['temperature'].idxmax(), ['x', 'y']]\n",
    "            melt_pool_temp = calculate_melt_pool_temperature(points, values, tool_position['x'], tool_position['y'])\n",
    "            temperatures.append(melt_pool_temp)\n",
    "    return np.array(temperatures)\n",
    "\n",
    "# Collecting melt pool temperatures for all time steps\n",
    "melt_pool_temperatures = collect_melt_pool_temperatures()\n",
    "\n",
    "\n",
    "# Read the data from the file 'toolpath.crs'\n",
    "file_path = '/home/ycv5080/Github/DED/DT_DED/DED_DT_Thermomechanical_Solver/TiDE_surrogate/data_processing/toolpath.crs'\n",
    "df_toolpath_crs = pd.read_csv(file_path, sep='\\t', header=None, names=['Time', 'X', 'Y', 'Z', 'Laser State'])\n",
    "\n",
    "# Interpolating and extrapolating functions for time and scanning speed\n",
    "def interpolate_extrapolate_time_steps(df_toolpath_crs, new_time_steps):\n",
    "    valid_points = df_toolpath_crs[df_toolpath_crs['Laser State'] == 1]\n",
    "    \n",
    "    # Interpolation functions for X, Y, Z coordinates\n",
    "    interp_func_x = interp1d(valid_points['Time'], valid_points['X'], fill_value=\"extrapolate\")\n",
    "    interp_func_y = interp1d(valid_points['Time'], valid_points['Y'], fill_value=\"extrapolate\")\n",
    "    interp_func_z = interp1d(valid_points['Time'], valid_points['Z'], fill_value=\"extrapolate\")\n",
    "    \n",
    "    # Interpolated coordinates for new time steps\n",
    "    interpolated_x = interp_func_x(new_time_steps)\n",
    "    interpolated_y = interp_func_y(new_time_steps)\n",
    "    interpolated_z = interp_func_z(new_time_steps)\n",
    "    \n",
    "    return pd.DataFrame({\n",
    "        'Time': new_time_steps,\n",
    "        'X': interpolated_x,\n",
    "        'Y': interpolated_y,\n",
    "        'Z': interpolated_z\n",
    "    })\n",
    "\n",
    "# Define the file path to the Zarr array that contains the laser power data\n",
    "file_path = f\"/home/ycv5080/Github/DED/DT_DED/DED_DT_Thermomechanical_Solver/TiDE_surrogate/data_processing/laser_profile_{laser_power_profile_number}.zarr/dt_laser_power\"\n",
    "\n",
    "# Open the Zarr array directly (ensure this is the correct path to the array)\n",
    "zarr_array = zarr.open(file_path, mode='r')\n",
    "\n",
    "# Initialize a DataFrame from the Zarr array if it is 2D\n",
    "if zarr_array.ndim == 2:\n",
    "    # Convert the Zarr array to a NumPy array\n",
    "    numpy_array = np.array(zarr_array)\n",
    "    \n",
    "    # Convert the NumPy array to a DataFrame and rename columns for clarity\n",
    "    laser_power_df = pd.DataFrame(numpy_array)\n",
    "else:\n",
    "    print(\"The Zarr array is not 2D. Additional processing may be required.\")\n",
    "\n",
    "laser_power_df = laser_power_df[1:6296]*2.5\n",
    "\n",
    "# Calculate scanning speed for interpolated/extrapolated time steps\n",
    "def calculate_scanning_speeds(df_interpolated):\n",
    "    scanning_speeds = []\n",
    "\n",
    "    for i in range(1, len(df_interpolated)):\n",
    "        time1 = df_interpolated.loc[i-1, 'Time']\n",
    "        time2 = df_interpolated.loc[i, 'Time']\n",
    "        x1, y1, z1 = df_interpolated.loc[i-1, ['X', 'Y', 'Z']]\n",
    "        x2, y2, z2 = df_interpolated.loc[i, ['X', 'Y', 'Z']]\n",
    "        \n",
    "        # Calculate Euclidean distance\n",
    "        distance = np.sqrt((x2 - x1)**2 + (y2 - y1)**2 + (z2 - z1)**2)\n",
    "        \n",
    "        # Calculate time difference\n",
    "        time_diff = time2 - time1\n",
    "        \n",
    "        # Calculate scanning speed\n",
    "        if time_diff > 0:\n",
    "            scanning_speed = distance / time_diff\n",
    "            scanning_speeds.append({\n",
    "                'time_step': time2,\n",
    "                'scanning_speed': scanning_speed\n",
    "            })\n",
    "\n",
    "    return pd.DataFrame(scanning_speeds)\n",
    "\n",
    "# Define new time steps for interpolation/extrapolation\n",
    "new_time_steps = np.linspace(0, 225, 6296)\n",
    "\n",
    "# Interpolate and extrapolate the data for the new time steps\n",
    "df_interpolated = interpolate_extrapolate_time_steps(df_toolpath_crs, new_time_steps)\n",
    "\n",
    "# Calculate scanning speeds for the interpolated/extrapolated time steps\n",
    "scanning_speeds_df = calculate_scanning_speeds(df_interpolated)['scanning_speed']\n",
    "\n",
    "\n"
   ]
  },
  {
   "cell_type": "code",
   "execution_count": 43,
   "metadata": {},
   "outputs": [
    {
     "data": {
      "text/plain": [
       "[<matplotlib.lines.Line2D at 0x7f6d6112ea70>]"
      ]
     },
     "execution_count": 43,
     "metadata": {},
     "output_type": "execute_result"
    },
    {
     "data": {
      "image/png": "[encoded data removed]",
      "text/plain": [
       "<Figure size 640x480 with 1 Axes>"
      ]
     },
     "metadata": {},
     "output_type": "display_data"
    }
   ],
   "source": []
  },
  {
   "cell_type": "code",
   "execution_count": 20,
   "metadata": {},
   "outputs": [],
   "source": [
    "for specific_time_step in tqdm(range(len(temperature_data)), desc=\"Processing Time Steps\"):\n",
    "    specific_temperatures = temperature_data[specific_time_step, :]\n",
    "    nodes_df['temperature'] = specific_temperatures\n",
    "\n",
    "    # Filter nodes above solidus temperature and find the max z\n",
    "    nodes_above_solidus = nodes_df[nodes_df['temperature'] > solidus_temperature]\n",
    "    max_z = nodes_above_solidus['z'].max()\n",
    "\n",
    "    # Filter for nodes with max_z\n",
    "    for _, row in nodes_above_solidus[nodes_above_solidus['z'] == max_z].iterrows():\n",
    "        time_steps.append(specific_time_step)\n",
    "        xs.append(row['x'])\n",
    "        ys.append(row['y'])\n",
    "        zs.append(row['z'])\n",
    "        temperatures.append(row['temperature'])\n",
    "\n",
    "\n",
    "def collect_melt_pool_depth():\n",
    "    # Filter nodes within the search box\n",
    "    from scipy.interpolate import griddata\n",
    "    x_range = 1.5\n",
    "    y_range = 1.5\n",
    "    z_range = 3\n",
    "    half_x_range = x_range / 2\n",
    "    half_y_range = y_range / 2\n",
    "\n",
    "    melt_pool_depth_save = np.empty((len(temperature_data),1))\n",
    "    \n",
    "    time_steps = 6296\n",
    "    for specific_time_step in tqdm(range(time_steps)):\n",
    "        laser_location_x = df_interpolated[\"X\"][specific_time_step]\n",
    "        laser_location_y = df_interpolated[\"Y\"][specific_time_step]\n",
    "        laser_location_z = df_interpolated[\"Z\"][specific_time_step]\n",
    "        \n",
    "        \n",
    "        in_cube_cond = (nodes_df[\"x\"]<= float(laser_location_x) + x_range/2) & \\\n",
    "                        (nodes_df[\"x\"]>= float(laser_location_x) - x_range/2) & \\\n",
    "                        (nodes_df[\"y\"]<= float(laser_location_y) + y_range/2) & \\\n",
    "                        (nodes_df[\"y\"]>= float(laser_location_y) - y_range/2) & \\\n",
    "                        (nodes_df[\"z\"]>= float(laser_location_z) - z_range)\n",
    "        \n",
    "        nodes_melt_pool_range = nodes_df[in_cube_cond]\n",
    "        \n",
    "        # Check if we have any nodes in the melt pool range\n",
    "        if not nodes_melt_pool_range.empty:\n",
    "            try:\n",
    "                points = nodes_melt_pool_range[['x', 'y', 'z']].values\n",
    "                values = nodes_melt_pool_range['temperature'].values\n",
    "\n",
    "                # Define the grid for interpolation\n",
    "                grid_x, grid_y, grid_z = np.mgrid[\n",
    "                    laser_location_x - half_x_range:laser_location_x + half_x_range:30j,\n",
    "                    laser_location_y - half_y_range:laser_location_y + half_y_range:20j,\n",
    "                    max(laser_location_z - z_range, nodes_melt_pool_range['z'].min()):laser_location_z:40j\n",
    "                ]\n",
    "\n",
    "                # Perform interpolation using griddata\n",
    "                temp_interp = griddata(points, values, (grid_x, grid_y, grid_z), method='cubic')\n",
    "\n",
    "                # Process interpolated temperature data\n",
    "                mask_above_solidus = temp_interp >= 1600\n",
    "                mp_z = grid_z[mask_above_solidus]\n",
    "\n",
    "                \n",
    "                melt_pool_depth = np.max(mp_z) - np.min(mp_z) - 0.75\n",
    "            except:\n",
    "                melt_pool_depth = 0\n",
    "        else: \n",
    "            melt_pool_depth = 0\n",
    "        \n",
    "        melt_pool_depth_save[specific_time_step] = melt_pool_depth\n",
    "    return melt_pool_depth_save"
   ]
  },
  {
   "cell_type": "code",
   "execution_count": 41,
   "metadata": {},
   "outputs": [
    {
     "data": {
      "text/html": [
       "<div>\n",
       "<style scoped>\n",
       "    .dataframe tbody tr th:only-of-type {\n",
       "        vertical-align: middle;\n",
       "    }\n",
       "\n",
       "    .dataframe tbody tr th {\n",
       "        vertical-align: top;\n",
       "    }\n",
       "\n",
       "    .dataframe thead th {\n",
       "        text-align: right;\n",
       "    }\n",
       "</style>\n",
       "<table border=\"1\" class=\"dataframe\">\n",
       "  <thead>\n",
       "    <tr style=\"text-align: right;\">\n",
       "      <th></th>\n",
       "      <th>X</th>\n",
       "      <th>Y</th>\n",
       "      <th>Z</th>\n",
       "      <th>Dist_to_nearest_X</th>\n",
       "      <th>Dist_to_nearest_Y</th>\n",
       "      <th>Dist_to_nearest_Z</th>\n",
       "    </tr>\n",
       "  </thead>\n",
       "  <tbody>\n",
       "    <tr>\n",
       "      <th>0</th>\n",
       "      <td>0.000000</td>\n",
       "      <td>0.000000</td>\n",
       "      <td>0.00</td>\n",
       "      <td>20.000000</td>\n",
       "      <td>20.000000</td>\n",
       "      <td>0</td>\n",
       "    </tr>\n",
       "    <tr>\n",
       "      <th>1</th>\n",
       "      <td>-17.000000</td>\n",
       "      <td>19.250000</td>\n",
       "      <td>0.75</td>\n",
       "      <td>3.000000</td>\n",
       "      <td>0.750000</td>\n",
       "      <td>0</td>\n",
       "    </tr>\n",
       "    <tr>\n",
       "      <th>2</th>\n",
       "      <td>-17.000000</td>\n",
       "      <td>19.250000</td>\n",
       "      <td>0.75</td>\n",
       "      <td>3.000000</td>\n",
       "      <td>0.750000</td>\n",
       "      <td>0</td>\n",
       "    </tr>\n",
       "    <tr>\n",
       "      <th>3</th>\n",
       "      <td>-16.999445</td>\n",
       "      <td>19.250000</td>\n",
       "      <td>0.75</td>\n",
       "      <td>3.000555</td>\n",
       "      <td>0.750000</td>\n",
       "      <td>0</td>\n",
       "    </tr>\n",
       "    <tr>\n",
       "      <th>4</th>\n",
       "      <td>-16.749265</td>\n",
       "      <td>19.250000</td>\n",
       "      <td>0.75</td>\n",
       "      <td>3.250735</td>\n",
       "      <td>0.750000</td>\n",
       "      <td>0</td>\n",
       "    </tr>\n",
       "    <tr>\n",
       "      <th>...</th>\n",
       "      <td>...</td>\n",
       "      <td>...</td>\n",
       "      <td>...</td>\n",
       "      <td>...</td>\n",
       "      <td>...</td>\n",
       "      <td>...</td>\n",
       "    </tr>\n",
       "    <tr>\n",
       "      <th>6290</th>\n",
       "      <td>17.063101</td>\n",
       "      <td>-18.170275</td>\n",
       "      <td>7.50</td>\n",
       "      <td>2.936899</td>\n",
       "      <td>1.829725</td>\n",
       "      <td>0</td>\n",
       "    </tr>\n",
       "    <tr>\n",
       "      <th>6291</th>\n",
       "      <td>17.051954</td>\n",
       "      <td>-18.361006</td>\n",
       "      <td>7.50</td>\n",
       "      <td>2.948046</td>\n",
       "      <td>1.638994</td>\n",
       "      <td>0</td>\n",
       "    </tr>\n",
       "    <tr>\n",
       "      <th>6292</th>\n",
       "      <td>17.040808</td>\n",
       "      <td>-18.551738</td>\n",
       "      <td>7.50</td>\n",
       "      <td>2.959192</td>\n",
       "      <td>1.448262</td>\n",
       "      <td>0</td>\n",
       "    </tr>\n",
       "    <tr>\n",
       "      <th>6293</th>\n",
       "      <td>17.029661</td>\n",
       "      <td>-18.742469</td>\n",
       "      <td>7.50</td>\n",
       "      <td>2.970339</td>\n",
       "      <td>1.257531</td>\n",
       "      <td>0</td>\n",
       "    </tr>\n",
       "    <tr>\n",
       "      <th>6294</th>\n",
       "      <td>17.018514</td>\n",
       "      <td>-18.933201</td>\n",
       "      <td>7.50</td>\n",
       "      <td>2.981486</td>\n",
       "      <td>1.066799</td>\n",
       "      <td>0</td>\n",
       "    </tr>\n",
       "  </tbody>\n",
       "</table>\n",
       "<p>6295 rows × 6 columns</p>\n",
       "</div>"
      ],
      "text/plain": [
       "              X          Y     Z  Dist_to_nearest_X  Dist_to_nearest_Y  \\\n",
       "0      0.000000   0.000000  0.00          20.000000          20.000000   \n",
       "1    -17.000000  19.250000  0.75           3.000000           0.750000   \n",
       "2    -17.000000  19.250000  0.75           3.000000           0.750000   \n",
       "3    -16.999445  19.250000  0.75           3.000555           0.750000   \n",
       "4    -16.749265  19.250000  0.75           3.250735           0.750000   \n",
       "...         ...        ...   ...                ...                ...   \n",
       "6290  17.063101 -18.170275  7.50           2.936899           1.829725   \n",
       "6291  17.051954 -18.361006  7.50           2.948046           1.638994   \n",
       "6292  17.040808 -18.551738  7.50           2.959192           1.448262   \n",
       "6293  17.029661 -18.742469  7.50           2.970339           1.257531   \n",
       "6294  17.018514 -18.933201  7.50           2.981486           1.066799   \n",
       "\n",
       "      Dist_to_nearest_Z  \n",
       "0                     0  \n",
       "1                     0  \n",
       "2                     0  \n",
       "3                     0  \n",
       "4                     0  \n",
       "...                 ...  \n",
       "6290                  0  \n",
       "6291                  0  \n",
       "6292                  0  \n",
       "6293                  0  \n",
       "6294                  0  \n",
       "\n",
       "[6295 rows x 6 columns]"
      ]
     },
     "execution_count": 41,
     "metadata": {},
     "output_type": "execute_result"
    }
   ],
   "source": [
    "df_reduced_laser_location"
   ]
  },
  {
   "cell_type": "code",
   "execution_count": 13,
   "metadata": {},
   "outputs": [
    {
     "data": {
      "text/plain": [
       "[<matplotlib.lines.Line2D at 0x7fa576849630>]"
      ]
     },
     "execution_count": 13,
     "metadata": {},
     "output_type": "execute_result"
    },
    {
     "data": {
      "image/png": "[encoded data removed]",
      "text/plain": [
       "<Figure size 640x480 with 1 Axes>"
      ]
     },
     "metadata": {},
     "output_type": "display_data"
    }
   ],
   "source": [
    "plt.plot(melt_pool_temperatures[:200][::2])"
   ]
  },
  {
   "cell_type": "code",
   "execution_count": null,
   "metadata": {},
   "outputs": [],
   "source": [
    "time_index_df = pd.DataFrame({'time_index': time_index_array})\n",
    "melt_pool_temperatures_df = pd.DataFrame({'melt_pool_temperature': melt_pool_temperatures[:-1]})\n",
    "melt_pool_depth_df = pd.DataFrame({'melt_pool_depth': melt_pool_depth[:,-1]})\n",
    "scanning_speeds_df = pd.DataFrame({'scanning_speed': scanning_speeds_df.to_numpy()})\n",
    "X_df = pd.DataFrame({'X': df_reduced_laser_location['X'].to_numpy()})\n",
    "Y_df = pd.DataFrame({'Y': df_reduced_laser_location['Y'].to_numpy()})\n",
    "Z_df = pd.DataFrame({'Z': df_reduced_laser_location['Z'].to_numpy()})\n",
    "Dist_to_nearest_X_df = pd.DataFrame({'Dist_to_nearest_X': df_reduced_laser_location['Dist_to_nearest_X'].to_numpy()})\n",
    "Dist_to_nearest_Y_df = pd.DataFrame({'Dist_to_nearest_Y': df_reduced_laser_location['Dist_to_nearest_Y'].to_numpy()})\n",
    "Dist_to_nearest_Z_df = pd.DataFrame({'Dist_to_nearest_Z': df_reduced_laser_location['Dist_to_nearest_Z'].to_numpy()})\n",
    "laser_power_number_df = pd.DataFrame({'laser_power_number': df_reduced_laser_location['Dist_to_nearest_Z'].to_numpy()})\n",
    "laser_power_number_df['laser_power_number']=laser_power_profile_number\n",
    "laser_power_df.columns = [\"Laser_power\"]\n",
    "laser_power_df.reset_index(drop=True, inplace=True)"
   ]
  },
  {
   "cell_type": "code",
   "execution_count": null,
   "metadata": {},
   "outputs": [],
   "source": [
    "# Merging all DataFrames into one\n",
    "merged_df = pd.concat([\n",
    "    time_index_df, \n",
    "    melt_pool_temperatures_df, \n",
    "    melt_pool_depth_df,\n",
    "    scanning_speeds_df, \n",
    "    X_df, \n",
    "    Y_df, \n",
    "    Z_df, \n",
    "    Dist_to_nearest_X_df, \n",
    "    Dist_to_nearest_Y_df, \n",
    "    Dist_to_nearest_Z_df, \n",
    "    laser_power_df,\n",
    "    laser_power_number_df\n",
    "], axis=1)"
   ]
  },
  {
   "cell_type": "code",
   "execution_count": null,
   "metadata": {},
   "outputs": [],
   "source": [
    "import shutil\n",
    "\n",
    "os.remove(f\"/home/ycv5080/Github/DED/DT_DED/DED_DT_Thermomechanical_Solver/TiDE_surrogate/data_processing/laser_profile_{laser_power_profile_number}.zarr.tar.gz\")\n",
    "shutil.rmtree(f\"/home/ycv5080/Github/DED/DT_DED/DED_DT_Thermomechanical_Solver/TiDE_surrogate/data_processing/laser_profile_{laser_power_profile_number}.zarr\")\n"
   ]
  },
  {
   "cell_type": "code",
   "execution_count": 4,
   "metadata": {},
   "outputs": [
    {
     "ename": "NameError",
     "evalue": "name 'merged_df' is not defined",
     "output_type": "error",
     "traceback": [
      "\u001b[0;31m---------------------------------------------------------------------------\u001b[0m",
      "\u001b[0;31mNameError\u001b[0m                                 Traceback (most recent call last)",
      "Cell \u001b[0;32mIn[4], line 2\u001b[0m\n\u001b[1;32m      1\u001b[0m csv_file_path \u001b[38;5;241m=\u001b[39m \u001b[38;5;124m'\u001b[39m\u001b[38;5;124m/home/ycv5080/Github/DED/DT_DED/DED_DT_Thermomechanical_Solver/TiDE_surrogate/data_processing/single_laser_profile.csv\u001b[39m\u001b[38;5;124m'\u001b[39m\n\u001b[0;32m----> 2\u001b[0m \u001b[43mmerged_df\u001b[49m\u001b[38;5;241m.\u001b[39mto_csv(csv_file_path, index\u001b[38;5;241m=\u001b[39m\u001b[38;5;28;01mFalse\u001b[39;00m)\n",
      "\u001b[0;31mNameError\u001b[0m: name 'merged_df' is not defined"
     ]
    }
   ],
   "source": [
    "csv_file_path = '/home/ycv5080/Github/DED/DT_DED/DED_DT_Thermomechanical_Solver/TiDE_surrogate/data_processing/single_laser_profile.csv'\n",
    "merged_df.to_csv(csv_file_path, index=False)"
   ]
  },
  {
   "cell_type": "markdown",
   "metadata": {},
   "source": [
    "# Complete For Loop"
   ]
  },
  {
   "cell_type": "code",
   "execution_count": 41,
   "metadata": {},
   "outputs": [],
   "source": [
    "\n",
    "import subprocess\n",
    "import os\n",
    "import tarfile\n",
    "import zarr\n",
    "import pandas as pd\n",
    "import numpy as np\n",
    "from scipy.interpolate import interp1d\n",
    "import numpy as np\n",
    "import pandas as pd\n",
    "from scipy.interpolate import griddata, Rbf\n",
    "import matplotlib.pyplot as plt\n",
    "from mpl_toolkits.mplot3d import Axes3D\n",
    "from tqdm import tqdm\n",
    "import copy"
   ]
  },
  {
   "cell_type": "markdown",
   "metadata": {},
   "source": [
    "### Functions"
   ]
  },
  {
   "cell_type": "code",
   "execution_count": 42,
   "metadata": {},
   "outputs": [],
   "source": [
    "def download_with_progress(source_path, target_directory):\n",
    "    # Define the path for the local download\n",
    "    local_compressed_file_path = os.path.join(target_directory, os.path.basename(source_path))\n",
    "    \n",
    "    # Download the compressed file\n",
    "    subprocess.run(['rclone', 'copy', source_path, target_directory], check=True)\n",
    "    print(f\"Downloaded {source_path} to {local_compressed_file_path}\")\n",
    "    \n",
    "    \n",
    "\n",
    "def decompress_tar_gz(file_path, target_directory):\n",
    "    # Check if the target directory exists, create if not\n",
    "    if not os.path.exists(target_directory):\n",
    "        os.makedirs(target_directory)\n",
    "    \n",
    "    # Open the .tar.gz file\n",
    "    with tarfile.open(file_path, 'r:gz') as tar:\n",
    "        # Extract all the contents into the target directory\n",
    "        tar.extractall(path=target_directory)\n",
    "        print(f\"Decompressed {file_path} into {target_directory}\")\n",
    "        \n",
    "def zarr_to_df(file_path):\n",
    "    # Open the Zarr array directly\n",
    "    zarr_array = zarr.open(file_path, mode='r')\n",
    "    \n",
    "    # Ensure the Zarr array is 2D\n",
    "    if zarr_array.ndim != 2:\n",
    "        raise ValueError(\"The Zarr array is not 2D. Additional processing may be required.\")\n",
    "    \n",
    "    # Convert the Zarr array to a NumPy array then to a DataFrame\n",
    "    numpy_array = np.array(zarr_array)\n",
    "    df = pd.DataFrame(numpy_array)\n",
    "    return df\n",
    "\n",
    "def fit_temperature_surface(time_step):\n",
    "    specific_data = all_nodes_with_max_z[all_nodes_with_max_z['time_step'] == time_step]\n",
    "    if specific_data.empty:\n",
    "        print(f\"No data available for time step {time_step}.\")\n",
    "        return np.nan, np.nan, np.nan\n",
    "    laser_center = specific_data.loc[specific_data['temperature'].idxmax(), ['x', 'y']]\n",
    "    bounding_box = {'xmin': laser_center['x'] - 3, 'xmax': laser_center['x'] + 3,\n",
    "                    'ymin': laser_center['y'] - 3, 'ymax': laser_center['y'] + 3}\n",
    "    bounded_data = specific_data[\n",
    "        (specific_data['x'] >= bounding_box['xmin']) & (specific_data['x'] <= bounding_box['xmax']) &\n",
    "        (specific_data['y'] >= bounding_box['ymin']) & (specific_data['y'] <= bounding_box['ymax']) &\n",
    "        (specific_data['temperature'] <= 20000)\n",
    "    ]\n",
    "    if bounded_data.shape[0] < 5:\n",
    "        print(f\"Not enough data points for interpolation at time step {time_step}.\")\n",
    "        return [np.nan], np.nan, np.nan, np.nan\n",
    "    # Prepare points and values for griddata interpolation\n",
    "    points = bounded_data[['x', 'y']].values\n",
    "    values = bounded_data['temperature'].values\n",
    "\n",
    "    return points, values, bounding_box, specific_data\n",
    "\n",
    "def calculate_melt_pool_temperature(points, values, center_x, center_y, radius=0.45):\n",
    "    # theta = np.linspace(0, 2 * np.pi, 100)\n",
    "    # x = center_x + radius * np.cos(theta)\n",
    "    # y = center_y + radius * np.sin(theta)\n",
    "    # # Use griddata for interpolation over a circle around the laser center\n",
    "    # z = griddata(points, values, (x, y), method='linear')\n",
    "    # return np.nanmean(z)  # Use nanmean to safely handle NaNs\n",
    "\n",
    "    RBF_surf = Rbf(points[:,0],points[:,1],values, function='linear')\n",
    "    x_range = np.linspace(center_x-radius,center_x+radius,30)\n",
    "    y_range = np.linspace(center_y-radius,center_y+radius,30)\n",
    "    X,Y = np.meshgrid(x_range,y_range)\n",
    "    Z = RBF_surf(X,Y)\n",
    "    Xr = X.ravel()\n",
    "    Yr = Y.ravel()\n",
    "    in_circle = np.sqrt((Xr-center_x)**2+(Yr-center_y)**2)\n",
    "    mask = np.where(in_circle<=(radius))\n",
    "    Zr = Z.ravel()\n",
    "    Z_in_circle = Zr[mask]\n",
    "    return np.mean(Z_in_circle)\n",
    "\n",
    "# def collect_melt_pool_temperatures():\n",
    "#     temperatures = []\n",
    "#     time_steps = np.sort(all_nodes_with_max_z['time_step'].unique())\n",
    "#     for time_step in tqdm(time_steps[::2]):  \n",
    "#         points, values, bounding_box, specific_data = fit_temperature_surface(time_step)\n",
    "#         # Check if points is None or empty\n",
    "#         if points is None or len(points) == 0:\n",
    "#             print(f\"No data available for time step {time_step}.\")\n",
    "#             temperatures.append(np.nan)  # Append NaN if interpolation data isn't available\n",
    "#             continue\n",
    "#         tool_position = specific_data.loc[specific_data['temperature'].idxmax(), ['x', 'y']]\n",
    "#         melt_pool_temp = calculate_melt_pool_temperature(points, values, tool_position['x'], tool_position['y'])\n",
    "#         temperatures.append(melt_pool_temp)\n",
    "#         temperatures.append(melt_pool_temp)    \n",
    "#     return np.array(temperatures)\n",
    "\n",
    "def collect_melt_pool_temperatures():\n",
    "    temperatures = []\n",
    "    time_steps = np.sort(all_nodes_with_max_z['time_step'].unique())\n",
    "    for time_step in tqdm(time_steps):  \n",
    "        points, values, bounding_box, specific_data = fit_temperature_surface(time_step)\n",
    "        # Check if points is None or empty\n",
    "        if len(points) < 5:\n",
    "        # if points is None or len(points) == 0:\n",
    "            print(f\"No data available for time step {time_step}.\")\n",
    "            temperatures.append(np.nan)  # Append NaN if interpolation data isn't available\n",
    "            continue\n",
    "        else:\n",
    "            tool_position = specific_data.loc[specific_data['temperature'].idxmax(), ['x', 'y']]\n",
    "            melt_pool_temp = calculate_melt_pool_temperature(points, values, tool_position['x'], tool_position['y'])\n",
    "            temperatures.append(melt_pool_temp)\n",
    "    return np.array(temperatures)\n",
    "\n",
    "# Interpolating and extrapolating functions for time and scanning speed\n",
    "def interpolate_extrapolate_time_steps(df_toolpath_crs, new_time_steps):\n",
    "    valid_points = df_toolpath_crs[df_toolpath_crs['Laser State'] == 1]\n",
    "    \n",
    "    # Interpolation functions for X, Y, Z coordinates\n",
    "    interp_func_x = interp1d(valid_points['Time'], valid_points['X'], fill_value=\"extrapolate\")\n",
    "    interp_func_y = interp1d(valid_points['Time'], valid_points['Y'], fill_value=\"extrapolate\")\n",
    "    interp_func_z = interp1d(valid_points['Time'], valid_points['Z'], fill_value=\"extrapolate\")\n",
    "    \n",
    "    # Interpolated coordinates for new time steps\n",
    "    interpolated_x = interp_func_x(new_time_steps)\n",
    "    interpolated_y = interp_func_y(new_time_steps)\n",
    "    interpolated_z = interp_func_z(new_time_steps)\n",
    "    \n",
    "    return pd.DataFrame({\n",
    "        'Time': new_time_steps,\n",
    "        'X': interpolated_x,\n",
    "        'Y': interpolated_y,\n",
    "        'Z': interpolated_z\n",
    "    })\n",
    "    \n",
    "# Calculate scanning speed for interpolated/extrapolated time steps\n",
    "def calculate_scanning_speeds(df_interpolated):\n",
    "    scanning_speeds = []\n",
    "\n",
    "    for i in range(1, len(df_interpolated)):\n",
    "        time1 = df_interpolated.loc[i-1, 'Time']\n",
    "        time2 = df_interpolated.loc[i, 'Time']\n",
    "        x1, y1, z1 = df_interpolated.loc[i-1, ['X', 'Y', 'Z']]\n",
    "        x2, y2, z2 = df_interpolated.loc[i, ['X', 'Y', 'Z']]\n",
    "        \n",
    "        # Calculate Euclidean distance\n",
    "        distance = np.sqrt((x2 - x1)**2 + (y2 - y1)**2 + (z2 - z1)**2)\n",
    "        \n",
    "        # Calculate time difference\n",
    "        time_diff = time2 - time1\n",
    "        \n",
    "        # Calculate scanning speed\n",
    "        if time_diff > 0:\n",
    "            scanning_speed = distance / time_diff\n",
    "            scanning_speeds.append({\n",
    "                'time_step': time2,\n",
    "                'scanning_speed': scanning_speed\n",
    "            })\n",
    "\n",
    "    return pd.DataFrame(scanning_speeds)\n",
    "\n"
   ]
  },
  {
   "cell_type": "code",
   "execution_count": 55,
   "metadata": {},
   "outputs": [
    {
     "name": "stdout",
     "output_type": "stream",
     "text": [
      "Downloaded Yi-Ping:/Exp_10_layer/compressed_laser_profile_2.zarr.zarr.tar.gz to /home/ycv5080/Github/DED/DT_DED/DED_DT_Thermomechanical_Solver/TiDE_surrogate/data_processing/compressed_laser_profile_2.zarr.zarr.tar.gz\n",
      "Decompressed /home/ycv5080/Github/DED/DT_DED/DED_DT_Thermomechanical_Solver/TiDE_surrogate/data_processing/laser_profile_2.zarr.tar.gz into /home/ycv5080/Github/DED/DT_DED/DED_DT_Thermomechanical_Solver/TiDE_surrogate/data_processing\n"
     ]
    },
    {
     "name": "stderr",
     "output_type": "stream",
     "text": [
      "Processing Time Steps: 100%|██████████| 6295/6295 [02:59<00:00, 35.13it/s]\n",
      "100%|██████████| 6294/6294 [00:38<00:00, 165.45it/s]\n"
     ]
    },
    {
     "name": "stdout",
     "output_type": "stream",
     "text": [
      "Melt Pool Temperatures for All Time Steps: [ 436.60750221  456.64453316 1004.17931731 ...  539.39514839  537.9644966\n",
      "  536.54353299]\n",
      "Downloaded Yi-Ping:/Exp_10_layer/compressed_laser_profile_3.zarr.zarr.tar.gz to /home/ycv5080/Github/DED/DT_DED/DED_DT_Thermomechanical_Solver/TiDE_surrogate/data_processing/compressed_laser_profile_3.zarr.zarr.tar.gz\n",
      "Decompressed /home/ycv5080/Github/DED/DT_DED/DED_DT_Thermomechanical_Solver/TiDE_surrogate/data_processing/laser_profile_3.zarr.tar.gz into /home/ycv5080/Github/DED/DT_DED/DED_DT_Thermomechanical_Solver/TiDE_surrogate/data_processing\n"
     ]
    },
    {
     "name": "stderr",
     "output_type": "stream",
     "text": [
      "Processing Time Steps: 100%|██████████| 6295/6295 [03:02<00:00, 34.52it/s]\n",
      "100%|██████████| 6294/6294 [00:38<00:00, 163.11it/s]\n"
     ]
    },
    {
     "name": "stdout",
     "output_type": "stream",
     "text": [
      "Melt Pool Temperatures for All Time Steps: [ 430.91811837  505.48702307 1155.26239382 ...  545.82173249  544.34904525\n",
      "  542.88636407]\n",
      "Downloaded Yi-Ping:/Exp_10_layer/compressed_laser_profile_4.zarr.zarr.tar.gz to /home/ycv5080/Github/DED/DT_DED/DED_DT_Thermomechanical_Solver/TiDE_surrogate/data_processing/compressed_laser_profile_4.zarr.zarr.tar.gz\n",
      "Decompressed /home/ycv5080/Github/DED/DT_DED/DED_DT_Thermomechanical_Solver/TiDE_surrogate/data_processing/laser_profile_4.zarr.tar.gz into /home/ycv5080/Github/DED/DT_DED/DED_DT_Thermomechanical_Solver/TiDE_surrogate/data_processing\n"
     ]
    },
    {
     "name": "stderr",
     "output_type": "stream",
     "text": [
      "Processing Time Steps: 100%|██████████| 6295/6295 [03:06<00:00, 33.81it/s]\n",
      "100%|██████████| 6294/6294 [00:38<00:00, 162.85it/s]\n"
     ]
    },
    {
     "name": "stdout",
     "output_type": "stream",
     "text": [
      "Melt Pool Temperatures for All Time Steps: [ 435.37441352  513.06361374 1183.37903249 ...  559.08517293  557.52818236\n",
      "  555.98180878]\n",
      "Downloaded Yi-Ping:/Exp_10_layer/compressed_laser_profile_5.zarr.zarr.tar.gz to /home/ycv5080/Github/DED/DT_DED/DED_DT_Thermomechanical_Solver/TiDE_surrogate/data_processing/compressed_laser_profile_5.zarr.zarr.tar.gz\n",
      "Decompressed /home/ycv5080/Github/DED/DT_DED/DED_DT_Thermomechanical_Solver/TiDE_surrogate/data_processing/laser_profile_5.zarr.tar.gz into /home/ycv5080/Github/DED/DT_DED/DED_DT_Thermomechanical_Solver/TiDE_surrogate/data_processing\n"
     ]
    },
    {
     "name": "stderr",
     "output_type": "stream",
     "text": [
      "Processing Time Steps: 100%|██████████| 6295/6295 [03:33<00:00, 29.48it/s]\n",
      "100%|██████████| 6294/6294 [00:37<00:00, 166.25it/s]\n"
     ]
    },
    {
     "name": "stdout",
     "output_type": "stream",
     "text": [
      "Melt Pool Temperatures for All Time Steps: [ 428.44375587  501.77161417 1139.67837554 ...  547.07935097  545.599373\n",
      "  544.12944566]\n",
      "Downloaded Yi-Ping:/Exp_10_layer/compressed_laser_profile_6.zarr.zarr.tar.gz to /home/ycv5080/Github/DED/DT_DED/DED_DT_Thermomechanical_Solver/TiDE_surrogate/data_processing/compressed_laser_profile_6.zarr.zarr.tar.gz\n",
      "Decompressed /home/ycv5080/Github/DED/DT_DED/DED_DT_Thermomechanical_Solver/TiDE_surrogate/data_processing/laser_profile_6.zarr.tar.gz into /home/ycv5080/Github/DED/DT_DED/DED_DT_Thermomechanical_Solver/TiDE_surrogate/data_processing\n"
     ]
    },
    {
     "name": "stderr",
     "output_type": "stream",
     "text": [
      "Processing Time Steps: 100%|██████████| 6295/6295 [03:33<00:00, 29.48it/s]\n",
      "100%|██████████| 6294/6294 [00:41<00:00, 150.16it/s]\n"
     ]
    },
    {
     "name": "stdout",
     "output_type": "stream",
     "text": [
      "Melt Pool Temperatures for All Time Steps: [ 444.32320977  527.0536312  1239.86047109 ...  551.66987496  550.16011862\n",
      "  548.66063446]\n",
      "Downloaded Yi-Ping:/Exp_10_layer/compressed_laser_profile_7.zarr.zarr.tar.gz to /home/ycv5080/Github/DED/DT_DED/DED_DT_Thermomechanical_Solver/TiDE_surrogate/data_processing/compressed_laser_profile_7.zarr.zarr.tar.gz\n",
      "Decompressed /home/ycv5080/Github/DED/DT_DED/DED_DT_Thermomechanical_Solver/TiDE_surrogate/data_processing/laser_profile_7.zarr.tar.gz into /home/ycv5080/Github/DED/DT_DED/DED_DT_Thermomechanical_Solver/TiDE_surrogate/data_processing\n"
     ]
    },
    {
     "name": "stderr",
     "output_type": "stream",
     "text": [
      "Processing Time Steps: 100%|██████████| 6295/6295 [03:39<00:00, 28.66it/s]\n",
      "100%|██████████| 6294/6294 [01:13<00:00, 85.58it/s] \n"
     ]
    },
    {
     "name": "stdout",
     "output_type": "stream",
     "text": [
      "Melt Pool Temperatures for All Time Steps: [ 442.87278158  470.22351925 1039.87767296 ...  527.07799044  525.72561224\n",
      "  524.38236315]\n",
      "Downloaded Yi-Ping:/Exp_10_layer/compressed_laser_profile_8.zarr.zarr.tar.gz to /home/ycv5080/Github/DED/DT_DED/DED_DT_Thermomechanical_Solver/TiDE_surrogate/data_processing/compressed_laser_profile_8.zarr.zarr.tar.gz\n",
      "Decompressed /home/ycv5080/Github/DED/DT_DED/DED_DT_Thermomechanical_Solver/TiDE_surrogate/data_processing/laser_profile_8.zarr.tar.gz into /home/ycv5080/Github/DED/DT_DED/DED_DT_Thermomechanical_Solver/TiDE_surrogate/data_processing\n"
     ]
    },
    {
     "name": "stderr",
     "output_type": "stream",
     "text": [
      "Processing Time Steps: 100%|██████████| 6295/6295 [03:23<00:00, 30.99it/s]\n",
      "100%|██████████| 6294/6294 [00:38<00:00, 162.78it/s]\n"
     ]
    },
    {
     "name": "stdout",
     "output_type": "stream",
     "text": [
      "Melt Pool Temperatures for All Time Steps: [ 430.52452926  504.89532442 1152.77157448 ...  555.69736149  554.16205036\n",
      "  552.63719689]\n",
      "Downloaded Yi-Ping:/Exp_10_layer/compressed_laser_profile_9.zarr.zarr.tar.gz to /home/ycv5080/Github/DED/DT_DED/DED_DT_Thermomechanical_Solver/TiDE_surrogate/data_processing/compressed_laser_profile_9.zarr.zarr.tar.gz\n",
      "Decompressed /home/ycv5080/Github/DED/DT_DED/DED_DT_Thermomechanical_Solver/TiDE_surrogate/data_processing/laser_profile_9.zarr.tar.gz into /home/ycv5080/Github/DED/DT_DED/DED_DT_Thermomechanical_Solver/TiDE_surrogate/data_processing\n"
     ]
    },
    {
     "name": "stderr",
     "output_type": "stream",
     "text": [
      "Processing Time Steps: 100%|██████████| 6295/6295 [03:48<00:00, 27.51it/s]\n",
      "100%|██████████| 6294/6294 [01:15<00:00, 83.23it/s] \n"
     ]
    },
    {
     "name": "stdout",
     "output_type": "stream",
     "text": [
      "Melt Pool Temperatures for All Time Steps: [ 432.18014723  508.25630657 1163.21009412 ...  544.63106676  543.16604566\n",
      "  541.71097541]\n",
      "Downloaded Yi-Ping:/Exp_10_layer/compressed_laser_profile_10.zarr.zarr.tar.gz to /home/ycv5080/Github/DED/DT_DED/DED_DT_Thermomechanical_Solver/TiDE_surrogate/data_processing/compressed_laser_profile_10.zarr.zarr.tar.gz\n",
      "Decompressed /home/ycv5080/Github/DED/DT_DED/DED_DT_Thermomechanical_Solver/TiDE_surrogate/data_processing/laser_profile_10.zarr.tar.gz into /home/ycv5080/Github/DED/DT_DED/DED_DT_Thermomechanical_Solver/TiDE_surrogate/data_processing\n"
     ]
    },
    {
     "name": "stderr",
     "output_type": "stream",
     "text": [
      "Processing Time Steps: 100%|██████████| 6295/6295 [03:15<00:00, 32.25it/s]\n",
      "100%|██████████| 6294/6294 [00:38<00:00, 163.77it/s]\n"
     ]
    },
    {
     "name": "stdout",
     "output_type": "stream",
     "text": [
      "Melt Pool Temperatures for All Time Steps: [ 444.0533046   526.65347429 1238.25349822 ...  556.01026442  554.47346708\n",
      "  552.94713425]\n",
      "Downloaded Yi-Ping:/Exp_10_layer/compressed_laser_profile_11.zarr.zarr.tar.gz to /home/ycv5080/Github/DED/DT_DED/DED_DT_Thermomechanical_Solver/TiDE_surrogate/data_processing/compressed_laser_profile_11.zarr.zarr.tar.gz\n",
      "Decompressed /home/ycv5080/Github/DED/DT_DED/DED_DT_Thermomechanical_Solver/TiDE_surrogate/data_processing/laser_profile_11.zarr.tar.gz into /home/ycv5080/Github/DED/DT_DED/DED_DT_Thermomechanical_Solver/TiDE_surrogate/data_processing\n"
     ]
    },
    {
     "name": "stderr",
     "output_type": "stream",
     "text": [
      "Processing Time Steps: 100%|██████████| 6295/6295 [02:56<00:00, 35.59it/s]\n",
      "100%|██████████| 6294/6294 [00:37<00:00, 167.31it/s]\n"
     ]
    },
    {
     "name": "stdout",
     "output_type": "stream",
     "text": [
      "Melt Pool Temperatures for All Time Steps: [ 449.78052251  479.49205322 1079.35029081 ...  528.0263023   526.66853051\n",
      "  525.31991977]\n",
      "Downloaded Yi-Ping:/Exp_10_layer/compressed_laser_profile_12.zarr.zarr.tar.gz to /home/ycv5080/Github/DED/DT_DED/DED_DT_Thermomechanical_Solver/TiDE_surrogate/data_processing/compressed_laser_profile_12.zarr.zarr.tar.gz\n",
      "Decompressed /home/ycv5080/Github/DED/DT_DED/DED_DT_Thermomechanical_Solver/TiDE_surrogate/data_processing/laser_profile_12.zarr.tar.gz into /home/ycv5080/Github/DED/DT_DED/DED_DT_Thermomechanical_Solver/TiDE_surrogate/data_processing\n"
     ]
    },
    {
     "name": "stderr",
     "output_type": "stream",
     "text": [
      "Processing Time Steps: 100%|██████████| 6295/6295 [02:56<00:00, 35.61it/s]\n",
      "  0%|          | 20/6294 [00:00<00:31, 199.35it/s]"
     ]
    },
    {
     "name": "stdout",
     "output_type": "stream",
     "text": [
      "Not enough data points for interpolation at time step 1.\n",
      "No data available for time step 1.\n"
     ]
    },
    {
     "name": "stderr",
     "output_type": "stream",
     "text": [
      "100%|██████████| 6294/6294 [00:39<00:00, 158.62it/s]\n"
     ]
    },
    {
     "name": "stdout",
     "output_type": "stream",
     "text": [
      "Melt Pool Temperatures for All Time Steps: [         nan 452.52261608 986.44243059 ... 534.11001078 532.71317448\n",
      " 531.32578429]\n",
      "Downloaded Yi-Ping:/Exp_10_layer/compressed_laser_profile_13.zarr.zarr.tar.gz to /home/ycv5080/Github/DED/DT_DED/DED_DT_Thermomechanical_Solver/TiDE_surrogate/data_processing/compressed_laser_profile_13.zarr.zarr.tar.gz\n",
      "Decompressed /home/ycv5080/Github/DED/DT_DED/DED_DT_Thermomechanical_Solver/TiDE_surrogate/data_processing/laser_profile_13.zarr.tar.gz into /home/ycv5080/Github/DED/DT_DED/DED_DT_Thermomechanical_Solver/TiDE_surrogate/data_processing\n"
     ]
    },
    {
     "name": "stderr",
     "output_type": "stream",
     "text": [
      "Processing Time Steps: 100%|██████████| 6295/6295 [02:59<00:00, 35.03it/s]\n",
      "100%|██████████| 6294/6294 [00:39<00:00, 159.81it/s]\n"
     ]
    },
    {
     "name": "stdout",
     "output_type": "stream",
     "text": [
      "Melt Pool Temperatures for All Time Steps: [ 448.0206094   477.12922388 1069.26151742 ...  538.7653754   537.33806443\n",
      "  535.92042678]\n",
      "Downloaded Yi-Ping:/Exp_10_layer/compressed_laser_profile_14.zarr.zarr.tar.gz to /home/ycv5080/Github/DED/DT_DED/DED_DT_Thermomechanical_Solver/TiDE_surrogate/data_processing/compressed_laser_profile_14.zarr.zarr.tar.gz\n",
      "Decompressed /home/ycv5080/Github/DED/DT_DED/DED_DT_Thermomechanical_Solver/TiDE_surrogate/data_processing/laser_profile_14.zarr.tar.gz into /home/ycv5080/Github/DED/DT_DED/DED_DT_Thermomechanical_Solver/TiDE_surrogate/data_processing\n"
     ]
    },
    {
     "name": "stderr",
     "output_type": "stream",
     "text": [
      "Processing Time Steps: 100%|██████████| 6295/6295 [03:02<00:00, 34.54it/s]\n",
      "100%|██████████| 6294/6294 [00:38<00:00, 165.58it/s]\n"
     ]
    },
    {
     "name": "stdout",
     "output_type": "stream",
     "text": [
      "Melt Pool Temperatures for All Time Steps: [ 459.00974103  499.4965964  1132.18133203 ...  546.72110927  545.24333299\n",
      "  543.77559128]\n",
      "Downloaded Yi-Ping:/Exp_10_layer/compressed_laser_profile_15.zarr.zarr.tar.gz to /home/ycv5080/Github/DED/DT_DED/DED_DT_Thermomechanical_Solver/TiDE_surrogate/data_processing/compressed_laser_profile_15.zarr.zarr.tar.gz\n",
      "Decompressed /home/ycv5080/Github/DED/DT_DED/DED_DT_Thermomechanical_Solver/TiDE_surrogate/data_processing/laser_profile_15.zarr.tar.gz into /home/ycv5080/Github/DED/DT_DED/DED_DT_Thermomechanical_Solver/TiDE_surrogate/data_processing\n"
     ]
    },
    {
     "name": "stderr",
     "output_type": "stream",
     "text": [
      "Processing Time Steps: 100%|██████████| 6295/6295 [03:02<00:00, 34.50it/s]\n",
      "100%|██████████| 6294/6294 [00:38<00:00, 161.49it/s]\n"
     ]
    },
    {
     "name": "stdout",
     "output_type": "stream",
     "text": [
      "Melt Pool Temperatures for All Time Steps: [ 445.59666314  473.88096853 1055.47139995 ...  529.94514417  528.5741328\n",
      "  527.21238821]\n",
      "Downloaded Yi-Ping:/Exp_10_layer/compressed_laser_profile_16.zarr.zarr.tar.gz to /home/ycv5080/Github/DED/DT_DED/DED_DT_Thermomechanical_Solver/TiDE_surrogate/data_processing/compressed_laser_profile_16.zarr.zarr.tar.gz\n",
      "Decompressed /home/ycv5080/Github/DED/DT_DED/DED_DT_Thermomechanical_Solver/TiDE_surrogate/data_processing/laser_profile_16.zarr.tar.gz into /home/ycv5080/Github/DED/DT_DED/DED_DT_Thermomechanical_Solver/TiDE_surrogate/data_processing\n"
     ]
    },
    {
     "name": "stderr",
     "output_type": "stream",
     "text": [
      "Processing Time Steps: 100%|██████████| 6295/6295 [03:11<00:00, 32.88it/s]\n",
      "100%|██████████| 6294/6294 [00:40<00:00, 155.72it/s]\n"
     ]
    },
    {
     "name": "stdout",
     "output_type": "stream",
     "text": [
      "Melt Pool Temperatures for All Time Steps: [ 432.12556956  508.17476407 1162.8745423  ...  548.99420113  547.50245295\n",
      "  546.02083636]\n",
      "Downloaded Yi-Ping:/Exp_10_layer/compressed_laser_profile_17.zarr.zarr.tar.gz to /home/ycv5080/Github/DED/DT_DED/DED_DT_Thermomechanical_Solver/TiDE_surrogate/data_processing/compressed_laser_profile_17.zarr.zarr.tar.gz\n",
      "Decompressed /home/ycv5080/Github/DED/DT_DED/DED_DT_Thermomechanical_Solver/TiDE_surrogate/data_processing/laser_profile_17.zarr.tar.gz into /home/ycv5080/Github/DED/DT_DED/DED_DT_Thermomechanical_Solver/TiDE_surrogate/data_processing\n"
     ]
    },
    {
     "name": "stderr",
     "output_type": "stream",
     "text": [
      "Processing Time Steps: 100%|██████████| 6295/6295 [03:10<00:00, 33.13it/s]\n",
      "100%|██████████| 6294/6294 [00:37<00:00, 165.90it/s]\n"
     ]
    },
    {
     "name": "stdout",
     "output_type": "stream",
     "text": [
      "Melt Pool Temperatures for All Time Steps: [ 433.33054437  509.98715929 1170.4644036  ...  546.84459297  545.36622449\n",
      "  543.89789453]\n",
      "Downloaded Yi-Ping:/Exp_10_layer/compressed_laser_profile_18.zarr.zarr.tar.gz to /home/ycv5080/Github/DED/DT_DED/DED_DT_Thermomechanical_Solver/TiDE_surrogate/data_processing/compressed_laser_profile_18.zarr.zarr.tar.gz\n",
      "Decompressed /home/ycv5080/Github/DED/DT_DED/DED_DT_Thermomechanical_Solver/TiDE_surrogate/data_processing/laser_profile_18.zarr.tar.gz into /home/ycv5080/Github/DED/DT_DED/DED_DT_Thermomechanical_Solver/TiDE_surrogate/data_processing\n"
     ]
    },
    {
     "name": "stderr",
     "output_type": "stream",
     "text": [
      "Processing Time Steps: 100%|██████████| 6295/6295 [03:11<00:00, 32.80it/s]\n",
      "100%|██████████| 6294/6294 [00:48<00:00, 129.36it/s]\n"
     ]
    },
    {
     "name": "stdout",
     "output_type": "stream",
     "text": [
      "Melt Pool Temperatures for All Time Steps: [ 451.62413836  481.9635956  1089.86938518 ...  528.36966719  527.00992968\n",
      "  525.6593635 ]\n",
      "Downloaded Yi-Ping:/Exp_10_layer/compressed_laser_profile_19.zarr.zarr.tar.gz to /home/ycv5080/Github/DED/DT_DED/DED_DT_Thermomechanical_Solver/TiDE_surrogate/data_processing/compressed_laser_profile_19.zarr.zarr.tar.gz\n",
      "Decompressed /home/ycv5080/Github/DED/DT_DED/DED_DT_Thermomechanical_Solver/TiDE_surrogate/data_processing/laser_profile_19.zarr.tar.gz into /home/ycv5080/Github/DED/DT_DED/DED_DT_Thermomechanical_Solver/TiDE_surrogate/data_processing\n"
     ]
    },
    {
     "name": "stderr",
     "output_type": "stream",
     "text": [
      "Processing Time Steps: 100%|██████████| 6295/6295 [03:20<00:00, 31.38it/s]\n",
      "100%|██████████| 6294/6294 [00:43<00:00, 143.26it/s]\n"
     ]
    },
    {
     "name": "stdout",
     "output_type": "stream",
     "text": [
      "Melt Pool Temperatures for All Time Steps: [ 449.44327527  479.03899341 1077.41238304 ...  533.12768677  531.73664998\n",
      "  530.3550215 ]\n",
      "Downloaded Yi-Ping:/Exp_10_layer/compressed_laser_profile_20.zarr.zarr.tar.gz to /home/ycv5080/Github/DED/DT_DED/DED_DT_Thermomechanical_Solver/TiDE_surrogate/data_processing/compressed_laser_profile_20.zarr.zarr.tar.gz\n",
      "Decompressed /home/ycv5080/Github/DED/DT_DED/DED_DT_Thermomechanical_Solver/TiDE_surrogate/data_processing/laser_profile_20.zarr.tar.gz into /home/ycv5080/Github/DED/DT_DED/DED_DT_Thermomechanical_Solver/TiDE_surrogate/data_processing\n"
     ]
    },
    {
     "name": "stderr",
     "output_type": "stream",
     "text": [
      "Processing Time Steps: 100%|██████████| 6295/6295 [03:20<00:00, 31.41it/s]\n",
      "100%|██████████| 6294/6294 [00:43<00:00, 145.72it/s]\n"
     ]
    },
    {
     "name": "stdout",
     "output_type": "stream",
     "text": [
      "Melt Pool Temperatures for All Time Steps: [ 433.9048428   510.85171419 1174.09400809 ...  547.57053143  546.08783383\n",
      "  544.61520268]\n",
      "Downloaded Yi-Ping:/Exp_10_layer/compressed_laser_profile_21.zarr.zarr.tar.gz to /home/ycv5080/Github/DED/DT_DED/DED_DT_Thermomechanical_Solver/TiDE_surrogate/data_processing/compressed_laser_profile_21.zarr.zarr.tar.gz\n",
      "Decompressed /home/ycv5080/Github/DED/DT_DED/DED_DT_Thermomechanical_Solver/TiDE_surrogate/data_processing/laser_profile_21.zarr.tar.gz into /home/ycv5080/Github/DED/DT_DED/DED_DT_Thermomechanical_Solver/TiDE_surrogate/data_processing\n"
     ]
    },
    {
     "name": "stderr",
     "output_type": "stream",
     "text": [
      "Processing Time Steps: 100%|██████████| 6295/6295 [03:11<00:00, 32.84it/s]\n",
      "  0%|          | 18/6294 [00:00<00:36, 173.01it/s]"
     ]
    },
    {
     "name": "stdout",
     "output_type": "stream",
     "text": [
      "Not enough data points for interpolation at time step 1.\n",
      "No data available for time step 1.\n"
     ]
    },
    {
     "name": "stderr",
     "output_type": "stream",
     "text": [
      "100%|██████████| 6294/6294 [00:42<00:00, 148.03it/s]\n"
     ]
    },
    {
     "name": "stdout",
     "output_type": "stream",
     "text": [
      "Melt Pool Temperatures for All Time Steps: [         nan 453.03604041 988.62452452 ... 533.4374468  532.0448584\n",
      " 530.66168516]\n",
      "Downloaded Yi-Ping:/Exp_10_layer/compressed_laser_profile_22.zarr.zarr.tar.gz to /home/ycv5080/Github/DED/DT_DED/DED_DT_Thermomechanical_Solver/TiDE_surrogate/data_processing/compressed_laser_profile_22.zarr.zarr.tar.gz\n",
      "Decompressed /home/ycv5080/Github/DED/DT_DED/DED_DT_Thermomechanical_Solver/TiDE_surrogate/data_processing/laser_profile_22.zarr.tar.gz into /home/ycv5080/Github/DED/DT_DED/DED_DT_Thermomechanical_Solver/TiDE_surrogate/data_processing\n"
     ]
    },
    {
     "name": "stderr",
     "output_type": "stream",
     "text": [
      "Processing Time Steps: 100%|██████████| 6295/6295 [03:11<00:00, 32.95it/s]\n",
      "100%|██████████| 6294/6294 [00:43<00:00, 144.47it/s]\n"
     ]
    },
    {
     "name": "stdout",
     "output_type": "stream",
     "text": [
      "Melt Pool Temperatures for All Time Steps: [ 444.97994048  528.0480194  1244.08073011 ...  556.87438591  555.33199321\n",
      "  553.80010533]\n",
      "Downloaded Yi-Ping:/Exp_10_layer/compressed_laser_profile_23.zarr.zarr.tar.gz to /home/ycv5080/Github/DED/DT_DED/DED_DT_Thermomechanical_Solver/TiDE_surrogate/data_processing/compressed_laser_profile_23.zarr.zarr.tar.gz\n",
      "Decompressed /home/ycv5080/Github/DED/DT_DED/DED_DT_Thermomechanical_Solver/TiDE_surrogate/data_processing/laser_profile_23.zarr.tar.gz into /home/ycv5080/Github/DED/DT_DED/DED_DT_Thermomechanical_Solver/TiDE_surrogate/data_processing\n"
     ]
    },
    {
     "name": "stderr",
     "output_type": "stream",
     "text": [
      "Processing Time Steps: 100%|██████████| 6295/6295 [03:15<00:00, 32.23it/s]\n",
      "100%|██████████| 6294/6294 [00:43<00:00, 143.69it/s]\n"
     ]
    },
    {
     "name": "stdout",
     "output_type": "stream",
     "text": [
      "Melt Pool Temperatures for All Time Steps: [ 456.71467423  495.37266727 1119.0427656  ...  546.68131647  545.20442929\n",
      "  543.73756345]\n",
      "Downloaded Yi-Ping:/Exp_10_layer/compressed_laser_profile_24.zarr.zarr.tar.gz to /home/ycv5080/Github/DED/DT_DED/DED_DT_Thermomechanical_Solver/TiDE_surrogate/data_processing/compressed_laser_profile_24.zarr.zarr.tar.gz\n",
      "Decompressed /home/ycv5080/Github/DED/DT_DED/DED_DT_Thermomechanical_Solver/TiDE_surrogate/data_processing/laser_profile_24.zarr.tar.gz into /home/ycv5080/Github/DED/DT_DED/DED_DT_Thermomechanical_Solver/TiDE_surrogate/data_processing\n"
     ]
    },
    {
     "name": "stderr",
     "output_type": "stream",
     "text": [
      "Processing Time Steps: 100%|██████████| 6295/6295 [03:09<00:00, 33.30it/s]\n",
      "100%|██████████| 6294/6294 [00:41<00:00, 152.27it/s]\n"
     ]
    },
    {
     "name": "stdout",
     "output_type": "stream",
     "text": [
      "Melt Pool Temperatures for All Time Steps: [ 450.71625656  480.74706144 1084.69711924 ...  539.9463528   538.51199998\n",
      "  537.08736534]\n",
      "Downloaded Yi-Ping:/Exp_10_layer/compressed_laser_profile_25.zarr.zarr.tar.gz to /home/ycv5080/Github/DED/DT_DED/DED_DT_Thermomechanical_Solver/TiDE_surrogate/data_processing/compressed_laser_profile_25.zarr.zarr.tar.gz\n",
      "Decompressed /home/ycv5080/Github/DED/DT_DED/DED_DT_Thermomechanical_Solver/TiDE_surrogate/data_processing/laser_profile_25.zarr.tar.gz into /home/ycv5080/Github/DED/DT_DED/DED_DT_Thermomechanical_Solver/TiDE_surrogate/data_processing\n"
     ]
    },
    {
     "name": "stderr",
     "output_type": "stream",
     "text": [
      "Processing Time Steps: 100%|██████████| 6295/6295 [03:10<00:00, 33.00it/s]\n",
      "100%|██████████| 6294/6294 [00:39<00:00, 159.60it/s]\n"
     ]
    },
    {
     "name": "stdout",
     "output_type": "stream",
     "text": [
      "Melt Pool Temperatures for All Time Steps: [ 442.00424312  523.56158408 1225.2534189  ...  555.78263398  554.2461641\n",
      "  552.7201673 ]\n",
      "Downloaded Yi-Ping:/Exp_10_layer/compressed_laser_profile_26.zarr.zarr.tar.gz to /home/ycv5080/Github/DED/DT_DED/DED_DT_Thermomechanical_Solver/TiDE_surrogate/data_processing/compressed_laser_profile_26.zarr.zarr.tar.gz\n",
      "Decompressed /home/ycv5080/Github/DED/DT_DED/DED_DT_Thermomechanical_Solver/TiDE_surrogate/data_processing/laser_profile_26.zarr.tar.gz into /home/ycv5080/Github/DED/DT_DED/DED_DT_Thermomechanical_Solver/TiDE_surrogate/data_processing\n"
     ]
    },
    {
     "name": "stderr",
     "output_type": "stream",
     "text": [
      "Processing Time Steps: 100%|██████████| 6295/6295 [03:10<00:00, 33.02it/s]\n",
      "100%|██████████| 6294/6294 [00:39<00:00, 159.72it/s]\n"
     ]
    },
    {
     "name": "stdout",
     "output_type": "stream",
     "text": [
      "Melt Pool Temperatures for All Time Steps: [ 448.62932415  477.94401665 1072.71318942 ...  532.23726321  530.85250567\n",
      "  529.47710753]\n",
      "Downloaded Yi-Ping:/Exp_10_layer/compressed_laser_profile_27.zarr.zarr.tar.gz to /home/ycv5080/Github/DED/DT_DED/DED_DT_Thermomechanical_Solver/TiDE_surrogate/data_processing/compressed_laser_profile_27.zarr.zarr.tar.gz\n",
      "Decompressed /home/ycv5080/Github/DED/DT_DED/DED_DT_Thermomechanical_Solver/TiDE_surrogate/data_processing/laser_profile_27.zarr.tar.gz into /home/ycv5080/Github/DED/DT_DED/DED_DT_Thermomechanical_Solver/TiDE_surrogate/data_processing\n"
     ]
    },
    {
     "name": "stderr",
     "output_type": "stream",
     "text": [
      "Processing Time Steps: 100%|██████████| 6295/6295 [03:10<00:00, 32.98it/s]\n",
      "100%|██████████| 6294/6294 [00:40<00:00, 156.01it/s]\n"
     ]
    },
    {
     "name": "stdout",
     "output_type": "stream",
     "text": [
      "Melt Pool Temperatures for All Time Steps: [ 446.61716513  530.51802442 1254.46573363 ...  555.07630054  553.54530704\n",
      "  552.02473703]\n",
      "Downloaded Yi-Ping:/Exp_10_layer/compressed_laser_profile_28.zarr.zarr.tar.gz to /home/ycv5080/Github/DED/DT_DED/DED_DT_Thermomechanical_Solver/TiDE_surrogate/data_processing/compressed_laser_profile_28.zarr.zarr.tar.gz\n",
      "Decompressed /home/ycv5080/Github/DED/DT_DED/DED_DT_Thermomechanical_Solver/TiDE_surrogate/data_processing/laser_profile_28.zarr.tar.gz into /home/ycv5080/Github/DED/DT_DED/DED_DT_Thermomechanical_Solver/TiDE_surrogate/data_processing\n"
     ]
    },
    {
     "name": "stderr",
     "output_type": "stream",
     "text": [
      "Processing Time Steps: 100%|██████████| 6295/6295 [03:07<00:00, 33.49it/s]\n",
      "100%|██████████| 6294/6294 [00:39<00:00, 160.85it/s]\n"
     ]
    },
    {
     "name": "stdout",
     "output_type": "stream",
     "text": [
      "Melt Pool Temperatures for All Time Steps: [ 440.89713816  521.89057271 1218.22655474 ...  547.97563603  546.48978272\n",
      "  545.01402519]\n",
      "Downloaded Yi-Ping:/Exp_10_layer/compressed_laser_profile_29.zarr.zarr.tar.gz to /home/ycv5080/Github/DED/DT_DED/DED_DT_Thermomechanical_Solver/TiDE_surrogate/data_processing/compressed_laser_profile_29.zarr.zarr.tar.gz\n",
      "Decompressed /home/ycv5080/Github/DED/DT_DED/DED_DT_Thermomechanical_Solver/TiDE_surrogate/data_processing/laser_profile_29.zarr.tar.gz into /home/ycv5080/Github/DED/DT_DED/DED_DT_Thermomechanical_Solver/TiDE_surrogate/data_processing\n"
     ]
    },
    {
     "name": "stderr",
     "output_type": "stream",
     "text": [
      "Processing Time Steps: 100%|██████████| 6295/6295 [03:01<00:00, 34.67it/s]\n",
      "100%|██████████| 6294/6294 [00:38<00:00, 162.87it/s]\n"
     ]
    },
    {
     "name": "stdout",
     "output_type": "stream",
     "text": [
      "Melt Pool Temperatures for All Time Steps: [ 449.43597358  479.02954666 1077.37591352 ...  539.7220205   538.28889481\n",
      "  536.86548177]\n",
      "Downloaded Yi-Ping:/Exp_10_layer/compressed_laser_profile_30.zarr.zarr.tar.gz to /home/ycv5080/Github/DED/DT_DED/DED_DT_Thermomechanical_Solver/TiDE_surrogate/data_processing/compressed_laser_profile_30.zarr.zarr.tar.gz\n",
      "Decompressed /home/ycv5080/Github/DED/DT_DED/DED_DT_Thermomechanical_Solver/TiDE_surrogate/data_processing/laser_profile_30.zarr.tar.gz into /home/ycv5080/Github/DED/DT_DED/DED_DT_Thermomechanical_Solver/TiDE_surrogate/data_processing\n"
     ]
    },
    {
     "name": "stderr",
     "output_type": "stream",
     "text": [
      "Processing Time Steps: 100%|██████████| 6295/6295 [02:59<00:00, 35.13it/s]\n",
      "100%|██████████| 6294/6294 [00:37<00:00, 167.99it/s]\n"
     ]
    },
    {
     "name": "stdout",
     "output_type": "stream",
     "text": [
      "Melt Pool Temperatures for All Time Steps: [ 455.29246055  493.43335835 1110.88228082 ...  543.29755664  541.84119606\n",
      "  540.39472277]\n",
      "Downloaded Yi-Ping:/Exp_10_layer/compressed_laser_profile_31.zarr.zarr.tar.gz to /home/ycv5080/Github/DED/DT_DED/DED_DT_Thermomechanical_Solver/TiDE_surrogate/data_processing/compressed_laser_profile_31.zarr.zarr.tar.gz\n",
      "Decompressed /home/ycv5080/Github/DED/DT_DED/DED_DT_Thermomechanical_Solver/TiDE_surrogate/data_processing/laser_profile_31.zarr.tar.gz into /home/ycv5080/Github/DED/DT_DED/DED_DT_Thermomechanical_Solver/TiDE_surrogate/data_processing\n"
     ]
    },
    {
     "name": "stderr",
     "output_type": "stream",
     "text": [
      "Processing Time Steps: 100%|██████████| 6295/6295 [02:52<00:00, 36.44it/s]\n",
      "100%|██████████| 6294/6294 [00:37<00:00, 169.68it/s]\n"
     ]
    },
    {
     "name": "stdout",
     "output_type": "stream",
     "text": [
      "Melt Pool Temperatures for All Time Steps: [ 440.74091194  462.10438515 1027.76671827 ...  533.88801307  532.4927427\n",
      "  531.10690548]\n",
      "Downloaded Yi-Ping:/Exp_10_layer/compressed_laser_profile_32.zarr.zarr.tar.gz to /home/ycv5080/Github/DED/DT_DED/DED_DT_Thermomechanical_Solver/TiDE_surrogate/data_processing/compressed_laser_profile_32.zarr.zarr.tar.gz\n",
      "Decompressed /home/ycv5080/Github/DED/DT_DED/DED_DT_Thermomechanical_Solver/TiDE_surrogate/data_processing/laser_profile_32.zarr.tar.gz into /home/ycv5080/Github/DED/DT_DED/DED_DT_Thermomechanical_Solver/TiDE_surrogate/data_processing\n"
     ]
    },
    {
     "name": "stderr",
     "output_type": "stream",
     "text": [
      "Processing Time Steps: 100%|██████████| 6295/6295 [02:55<00:00, 35.97it/s]\n",
      "100%|██████████| 6294/6294 [00:36<00:00, 171.35it/s]\n"
     ]
    },
    {
     "name": "stdout",
     "output_type": "stream",
     "text": [
      "Melt Pool Temperatures for All Time Steps: [ 445.5281605   473.78458981 1055.01265843 ...  540.28046972  538.8437993\n",
      "  537.41686503]\n",
      "Downloaded Yi-Ping:/Exp_10_layer/compressed_laser_profile_33.zarr.zarr.tar.gz to /home/ycv5080/Github/DED/DT_DED/DED_DT_Thermomechanical_Solver/TiDE_surrogate/data_processing/compressed_laser_profile_33.zarr.zarr.tar.gz\n",
      "Decompressed /home/ycv5080/Github/DED/DT_DED/DED_DT_Thermomechanical_Solver/TiDE_surrogate/data_processing/laser_profile_33.zarr.tar.gz into /home/ycv5080/Github/DED/DT_DED/DED_DT_Thermomechanical_Solver/TiDE_surrogate/data_processing\n"
     ]
    },
    {
     "name": "stderr",
     "output_type": "stream",
     "text": [
      "Processing Time Steps: 100%|██████████| 6295/6295 [02:50<00:00, 36.98it/s]\n",
      "100%|██████████| 6294/6294 [00:36<00:00, 171.47it/s]\n"
     ]
    },
    {
     "name": "stdout",
     "output_type": "stream",
     "text": [
      "Melt Pool Temperatures for All Time Steps: [ 437.49644927  457.81921108 1009.25620592 ...  530.05312753  528.68160257\n",
      "  527.31934809]\n",
      "Downloaded Yi-Ping:/Exp_10_layer/compressed_laser_profile_34.zarr.zarr.tar.gz to /home/ycv5080/Github/DED/DT_DED/DED_DT_Thermomechanical_Solver/TiDE_surrogate/data_processing/compressed_laser_profile_34.zarr.zarr.tar.gz\n",
      "Decompressed /home/ycv5080/Github/DED/DT_DED/DED_DT_Thermomechanical_Solver/TiDE_surrogate/data_processing/laser_profile_34.zarr.tar.gz into /home/ycv5080/Github/DED/DT_DED/DED_DT_Thermomechanical_Solver/TiDE_surrogate/data_processing\n"
     ]
    },
    {
     "name": "stderr",
     "output_type": "stream",
     "text": [
      "Processing Time Steps: 100%|██████████| 6295/6295 [02:54<00:00, 36.10it/s]\n",
      "100%|██████████| 6294/6294 [00:37<00:00, 167.41it/s]\n"
     ]
    },
    {
     "name": "stdout",
     "output_type": "stream",
     "text": [
      "Melt Pool Temperatures for All Time Steps: [ 429.52268286  503.39237848 1146.48070972 ...  549.82111214  548.32336335\n",
      "  546.83579825]\n",
      "Downloaded Yi-Ping:/Exp_10_layer/compressed_laser_profile_35.zarr.zarr.tar.gz to /home/ycv5080/Github/DED/DT_DED/DED_DT_Thermomechanical_Solver/TiDE_surrogate/data_processing/compressed_laser_profile_35.zarr.zarr.tar.gz\n",
      "Decompressed /home/ycv5080/Github/DED/DT_DED/DED_DT_Thermomechanical_Solver/TiDE_surrogate/data_processing/laser_profile_35.zarr.tar.gz into /home/ycv5080/Github/DED/DT_DED/DED_DT_Thermomechanical_Solver/TiDE_surrogate/data_processing\n"
     ]
    },
    {
     "name": "stderr",
     "output_type": "stream",
     "text": [
      "Processing Time Steps: 100%|██████████| 6295/6295 [02:55<00:00, 35.81it/s]\n",
      "100%|██████████| 6294/6294 [00:37<00:00, 168.37it/s]\n"
     ]
    },
    {
     "name": "stdout",
     "output_type": "stream",
     "text": [
      "Melt Pool Temperatures for All Time Steps: [ 445.83755841  529.34355997 1249.54798663 ...  558.28867931  556.73728706\n",
      "  555.19646488]\n",
      "Downloaded Yi-Ping:/Exp_10_layer/compressed_laser_profile_36.zarr.zarr.tar.gz to /home/ycv5080/Github/DED/DT_DED/DED_DT_Thermomechanical_Solver/TiDE_surrogate/data_processing/compressed_laser_profile_36.zarr.zarr.tar.gz\n",
      "Decompressed /home/ycv5080/Github/DED/DT_DED/DED_DT_Thermomechanical_Solver/TiDE_surrogate/data_processing/laser_profile_36.zarr.tar.gz into /home/ycv5080/Github/DED/DT_DED/DED_DT_Thermomechanical_Solver/TiDE_surrogate/data_processing\n"
     ]
    },
    {
     "name": "stderr",
     "output_type": "stream",
     "text": [
      "Processing Time Steps: 100%|██████████| 6295/6295 [02:53<00:00, 36.24it/s]\n",
      "100%|██████████| 6294/6294 [00:37<00:00, 168.42it/s]\n"
     ]
    },
    {
     "name": "stdout",
     "output_type": "stream",
     "text": [
      "Melt Pool Temperatures for All Time Steps: [ 450.38445011  480.30322323 1082.81888427 ...  546.8645195   545.38622073\n",
      "  543.9179576 ]\n",
      "Downloaded Yi-Ping:/Exp_10_layer/compressed_laser_profile_37.zarr.zarr.tar.gz to /home/ycv5080/Github/DED/DT_DED/DED_DT_Thermomechanical_Solver/TiDE_surrogate/data_processing/compressed_laser_profile_37.zarr.zarr.tar.gz\n",
      "Decompressed /home/ycv5080/Github/DED/DT_DED/DED_DT_Thermomechanical_Solver/TiDE_surrogate/data_processing/laser_profile_37.zarr.tar.gz into /home/ycv5080/Github/DED/DT_DED/DED_DT_Thermomechanical_Solver/TiDE_surrogate/data_processing\n"
     ]
    },
    {
     "name": "stderr",
     "output_type": "stream",
     "text": [
      "Processing Time Steps: 100%|██████████| 6295/6295 [02:58<00:00, 35.18it/s]\n",
      "100%|██████████| 6294/6294 [00:38<00:00, 164.08it/s]\n"
     ]
    },
    {
     "name": "stdout",
     "output_type": "stream",
     "text": [
      "Melt Pool Temperatures for All Time Steps: [ 447.90270967  532.45536423 1262.56407595 ...  559.58690907  558.02744544\n",
      "  556.47860782]\n",
      "Downloaded Yi-Ping:/Exp_10_layer/compressed_laser_profile_38.zarr.zarr.tar.gz to /home/ycv5080/Github/DED/DT_DED/DED_DT_Thermomechanical_Solver/TiDE_surrogate/data_processing/compressed_laser_profile_38.zarr.zarr.tar.gz\n",
      "Decompressed /home/ycv5080/Github/DED/DT_DED/DED_DT_Thermomechanical_Solver/TiDE_surrogate/data_processing/laser_profile_38.zarr.tar.gz into /home/ycv5080/Github/DED/DT_DED/DED_DT_Thermomechanical_Solver/TiDE_surrogate/data_processing\n"
     ]
    },
    {
     "name": "stderr",
     "output_type": "stream",
     "text": [
      "Processing Time Steps: 100%|██████████| 6295/6295 [02:48<00:00, 37.35it/s]\n",
      "  0%|          | 21/6294 [00:00<00:30, 202.64it/s]"
     ]
    },
    {
     "name": "stdout",
     "output_type": "stream",
     "text": [
      "Not enough data points for interpolation at time step 1.\n",
      "No data available for time step 1.\n"
     ]
    },
    {
     "name": "stderr",
     "output_type": "stream",
     "text": [
      "100%|██████████| 6294/6294 [00:36<00:00, 171.12it/s]\n"
     ]
    },
    {
     "name": "stdout",
     "output_type": "stream",
     "text": [
      "Melt Pool Temperatures for All Time Steps: [         nan 446.93064978 962.31408227 ... 520.18115065 518.87241372\n",
      " 517.57249411]\n",
      "Downloaded Yi-Ping:/Exp_10_layer/compressed_laser_profile_39.zarr.zarr.tar.gz to /home/ycv5080/Github/DED/DT_DED/DED_DT_Thermomechanical_Solver/TiDE_surrogate/data_processing/compressed_laser_profile_39.zarr.zarr.tar.gz\n",
      "Decompressed /home/ycv5080/Github/DED/DT_DED/DED_DT_Thermomechanical_Solver/TiDE_surrogate/data_processing/laser_profile_39.zarr.tar.gz into /home/ycv5080/Github/DED/DT_DED/DED_DT_Thermomechanical_Solver/TiDE_surrogate/data_processing\n"
     ]
    },
    {
     "name": "stderr",
     "output_type": "stream",
     "text": [
      "Processing Time Steps: 100%|██████████| 6295/6295 [02:55<00:00, 35.95it/s]\n",
      "100%|██████████| 6294/6294 [00:37<00:00, 168.64it/s]\n"
     ]
    },
    {
     "name": "stdout",
     "output_type": "stream",
     "text": [
      "Melt Pool Temperatures for All Time Steps: [ 431.18008929  505.87991756 1156.90650025 ...  546.87835516  545.40020918\n",
      "  543.93209469]\n",
      "Downloaded Yi-Ping:/Exp_10_layer/compressed_laser_profile_40.zarr.zarr.tar.gz to /home/ycv5080/Github/DED/DT_DED/DED_DT_Thermomechanical_Solver/TiDE_surrogate/data_processing/compressed_laser_profile_40.zarr.zarr.tar.gz\n",
      "Decompressed /home/ycv5080/Github/DED/DT_DED/DED_DT_Thermomechanical_Solver/TiDE_surrogate/data_processing/laser_profile_40.zarr.tar.gz into /home/ycv5080/Github/DED/DT_DED/DED_DT_Thermomechanical_Solver/TiDE_surrogate/data_processing\n"
     ]
    },
    {
     "name": "stderr",
     "output_type": "stream",
     "text": [
      "Processing Time Steps: 100%|██████████| 6295/6295 [02:56<00:00, 35.74it/s]\n",
      "100%|██████████| 6294/6294 [00:37<00:00, 168.30it/s]\n"
     ]
    },
    {
     "name": "stdout",
     "output_type": "stream",
     "text": [
      "Melt Pool Temperatures for All Time Steps: [ 429.77640915  503.77293287 1148.0722578  ...  549.39454848  547.90002296\n",
      "  546.41565149]\n",
      "Downloaded Yi-Ping:/Exp_10_layer/compressed_laser_profile_41.zarr.zarr.tar.gz to /home/ycv5080/Github/DED/DT_DED/DED_DT_Thermomechanical_Solver/TiDE_surrogate/data_processing/compressed_laser_profile_41.zarr.zarr.tar.gz\n",
      "Decompressed /home/ycv5080/Github/DED/DT_DED/DED_DT_Thermomechanical_Solver/TiDE_surrogate/data_processing/laser_profile_41.zarr.tar.gz into /home/ycv5080/Github/DED/DT_DED/DED_DT_Thermomechanical_Solver/TiDE_surrogate/data_processing\n"
     ]
    },
    {
     "name": "stderr",
     "output_type": "stream",
     "text": [
      "Processing Time Steps: 100%|██████████| 6295/6295 [02:55<00:00, 35.77it/s]\n",
      "100%|██████████| 6294/6294 [00:37<00:00, 169.27it/s]\n"
     ]
    },
    {
     "name": "stdout",
     "output_type": "stream",
     "text": [
      "Melt Pool Temperatures for All Time Steps: [ 440.73308101  521.64727061 1217.24892414 ...  550.77288215  549.26951596\n",
      "  547.77636859]\n",
      "Downloaded Yi-Ping:/Exp_10_layer/compressed_laser_profile_42.zarr.zarr.tar.gz to /home/ycv5080/Github/DED/DT_DED/DED_DT_Thermomechanical_Solver/TiDE_surrogate/data_processing/compressed_laser_profile_42.zarr.zarr.tar.gz\n",
      "Decompressed /home/ycv5080/Github/DED/DT_DED/DED_DT_Thermomechanical_Solver/TiDE_surrogate/data_processing/laser_profile_42.zarr.tar.gz into /home/ycv5080/Github/DED/DT_DED/DED_DT_Thermomechanical_Solver/TiDE_surrogate/data_processing\n"
     ]
    },
    {
     "name": "stderr",
     "output_type": "stream",
     "text": [
      "Processing Time Steps: 100%|██████████| 6295/6295 [02:54<00:00, 36.16it/s]\n",
      "100%|██████████| 6294/6294 [00:37<00:00, 167.09it/s]\n"
     ]
    },
    {
     "name": "stdout",
     "output_type": "stream",
     "text": [
      "Melt Pool Temperatures for All Time Steps: [ 452.85194067  483.6120275  1096.9153338  ...  539.08684312  537.65792488\n",
      "  536.23868795]\n",
      "Downloaded Yi-Ping:/Exp_10_layer/compressed_laser_profile_43.zarr.zarr.tar.gz to /home/ycv5080/Github/DED/DT_DED/DED_DT_Thermomechanical_Solver/TiDE_surrogate/data_processing/compressed_laser_profile_43.zarr.zarr.tar.gz\n",
      "Decompressed /home/ycv5080/Github/DED/DT_DED/DED_DT_Thermomechanical_Solver/TiDE_surrogate/data_processing/laser_profile_43.zarr.tar.gz into /home/ycv5080/Github/DED/DT_DED/DED_DT_Thermomechanical_Solver/TiDE_surrogate/data_processing\n"
     ]
    },
    {
     "name": "stderr",
     "output_type": "stream",
     "text": [
      "Processing Time Steps: 100%|██████████| 6295/6295 [02:52<00:00, 36.46it/s]\n",
      "100%|██████████| 6294/6294 [00:37<00:00, 167.64it/s]\n"
     ]
    },
    {
     "name": "stdout",
     "output_type": "stream",
     "text": [
      "Melt Pool Temperatures for All Time Steps: [ 451.04045048  481.18066968 1086.53176088 ...  532.94604775  531.5557701\n",
      "  530.17490016]\n",
      "Downloaded Yi-Ping:/Exp_10_layer/compressed_laser_profile_44.zarr.zarr.tar.gz to /home/ycv5080/Github/DED/DT_DED/DED_DT_Thermomechanical_Solver/TiDE_surrogate/data_processing/compressed_laser_profile_44.zarr.zarr.tar.gz\n",
      "Decompressed /home/ycv5080/Github/DED/DT_DED/DED_DT_Thermomechanical_Solver/TiDE_surrogate/data_processing/laser_profile_44.zarr.tar.gz into /home/ycv5080/Github/DED/DT_DED/DED_DT_Thermomechanical_Solver/TiDE_surrogate/data_processing\n"
     ]
    },
    {
     "name": "stderr",
     "output_type": "stream",
     "text": [
      "Processing Time Steps: 100%|██████████| 6295/6295 [02:52<00:00, 36.54it/s]\n",
      "100%|██████████| 6294/6294 [00:37<00:00, 170.05it/s]\n"
     ]
    },
    {
     "name": "stdout",
     "output_type": "stream",
     "text": [
      "Melt Pool Temperatures for All Time Steps: [ 441.16720483  467.93472569 1030.14165777 ...  534.93910724  533.53700589\n",
      "  532.14438818]\n",
      "Downloaded Yi-Ping:/Exp_10_layer/compressed_laser_profile_45.zarr.zarr.tar.gz to /home/ycv5080/Github/DED/DT_DED/DED_DT_Thermomechanical_Solver/TiDE_surrogate/data_processing/compressed_laser_profile_45.zarr.zarr.tar.gz\n",
      "Decompressed /home/ycv5080/Github/DED/DT_DED/DED_DT_Thermomechanical_Solver/TiDE_surrogate/data_processing/laser_profile_45.zarr.tar.gz into /home/ycv5080/Github/DED/DT_DED/DED_DT_Thermomechanical_Solver/TiDE_surrogate/data_processing\n"
     ]
    },
    {
     "name": "stderr",
     "output_type": "stream",
     "text": [
      "Processing Time Steps: 100%|██████████| 6295/6295 [02:54<00:00, 36.03it/s]\n",
      "100%|██████████| 6294/6294 [00:37<00:00, 169.62it/s]\n"
     ]
    },
    {
     "name": "stdout",
     "output_type": "stream",
     "text": [
      "Melt Pool Temperatures for All Time Steps: [ 431.45767945  506.29604648 1158.64592949 ...  543.72022162  542.26137556\n",
      "  540.81242974]\n",
      "Downloaded Yi-Ping:/Exp_10_layer/compressed_laser_profile_46.zarr.zarr.tar.gz to /home/ycv5080/Github/DED/DT_DED/DED_DT_Thermomechanical_Solver/TiDE_surrogate/data_processing/compressed_laser_profile_46.zarr.zarr.tar.gz\n",
      "Decompressed /home/ycv5080/Github/DED/DT_DED/DED_DT_Thermomechanical_Solver/TiDE_surrogate/data_processing/laser_profile_46.zarr.tar.gz into /home/ycv5080/Github/DED/DT_DED/DED_DT_Thermomechanical_Solver/TiDE_surrogate/data_processing\n"
     ]
    },
    {
     "name": "stderr",
     "output_type": "stream",
     "text": [
      "Processing Time Steps: 100%|██████████| 6295/6295 [02:53<00:00, 36.33it/s]\n",
      "100%|██████████| 6294/6294 [00:37<00:00, 169.44it/s]\n"
     ]
    },
    {
     "name": "stdout",
     "output_type": "stream",
     "text": [
      "Melt Pool Temperatures for All Time Steps: [ 451.87669162  482.30207116 1091.30940362 ...  534.50870881  533.10934879\n",
      "  531.71945476]\n",
      "Downloaded Yi-Ping:/Exp_10_layer/compressed_laser_profile_47.zarr.zarr.tar.gz to /home/ycv5080/Github/DED/DT_DED/DED_DT_Thermomechanical_Solver/TiDE_surrogate/data_processing/compressed_laser_profile_47.zarr.zarr.tar.gz\n",
      "Decompressed /home/ycv5080/Github/DED/DT_DED/DED_DT_Thermomechanical_Solver/TiDE_surrogate/data_processing/laser_profile_47.zarr.tar.gz into /home/ycv5080/Github/DED/DT_DED/DED_DT_Thermomechanical_Solver/TiDE_surrogate/data_processing\n"
     ]
    },
    {
     "name": "stderr",
     "output_type": "stream",
     "text": [
      "Processing Time Steps: 100%|██████████| 6295/6295 [02:51<00:00, 36.74it/s]\n",
      "100%|██████████| 6294/6294 [00:37<00:00, 167.12it/s]\n"
     ]
    },
    {
     "name": "stdout",
     "output_type": "stream",
     "text": [
      "Melt Pool Temperatures for All Time Steps: [ 440.40848618  461.66234059 1025.82335675 ...  527.68038777  526.32372236\n",
      "  524.97622339]\n",
      "Downloaded Yi-Ping:/Exp_10_layer/compressed_laser_profile_48.zarr.zarr.tar.gz to /home/ycv5080/Github/DED/DT_DED/DED_DT_Thermomechanical_Solver/TiDE_surrogate/data_processing/compressed_laser_profile_48.zarr.zarr.tar.gz\n",
      "Decompressed /home/ycv5080/Github/DED/DT_DED/DED_DT_Thermomechanical_Solver/TiDE_surrogate/data_processing/laser_profile_48.zarr.tar.gz into /home/ycv5080/Github/DED/DT_DED/DED_DT_Thermomechanical_Solver/TiDE_surrogate/data_processing\n"
     ]
    },
    {
     "name": "stderr",
     "output_type": "stream",
     "text": [
      "Processing Time Steps: 100%|██████████| 6295/6295 [02:56<00:00, 35.69it/s]\n",
      "100%|██████████| 6294/6294 [00:37<00:00, 167.77it/s]\n"
     ]
    },
    {
     "name": "stdout",
     "output_type": "stream",
     "text": [
      "Melt Pool Temperatures for All Time Steps: [ 435.6748825   513.51440291 1185.25642543 ...  555.72601614  554.19025639\n",
      "  552.66496109]\n",
      "Downloaded Yi-Ping:/Exp_10_layer/compressed_laser_profile_49.zarr.zarr.tar.gz to /home/ycv5080/Github/DED/DT_DED/DED_DT_Thermomechanical_Solver/TiDE_surrogate/data_processing/compressed_laser_profile_49.zarr.zarr.tar.gz\n",
      "Decompressed /home/ycv5080/Github/DED/DT_DED/DED_DT_Thermomechanical_Solver/TiDE_surrogate/data_processing/laser_profile_49.zarr.tar.gz into /home/ycv5080/Github/DED/DT_DED/DED_DT_Thermomechanical_Solver/TiDE_surrogate/data_processing\n"
     ]
    },
    {
     "name": "stderr",
     "output_type": "stream",
     "text": [
      "Processing Time Steps: 100%|██████████| 6295/6295 [02:53<00:00, 36.18it/s]\n",
      "100%|██████████| 6294/6294 [00:36<00:00, 170.12it/s]\n"
     ]
    },
    {
     "name": "stdout",
     "output_type": "stream",
     "text": [
      "Melt Pool Temperatures for All Time Steps: [ 439.3090617   519.49788066 1208.20384087 ...  547.48072016  545.99855042\n",
      "  544.52644366]\n",
      "Downloaded Yi-Ping:/Exp_10_layer/compressed_laser_profile_50.zarr.zarr.tar.gz to /home/ycv5080/Github/DED/DT_DED/DED_DT_Thermomechanical_Solver/TiDE_surrogate/data_processing/compressed_laser_profile_50.zarr.zarr.tar.gz\n",
      "Decompressed /home/ycv5080/Github/DED/DT_DED/DED_DT_Thermomechanical_Solver/TiDE_surrogate/data_processing/laser_profile_50.zarr.tar.gz into /home/ycv5080/Github/DED/DT_DED/DED_DT_Thermomechanical_Solver/TiDE_surrogate/data_processing\n"
     ]
    },
    {
     "name": "stderr",
     "output_type": "stream",
     "text": [
      "Processing Time Steps: 100%|██████████| 6295/6295 [03:00<00:00, 34.96it/s]\n",
      "100%|██████████| 6294/6294 [00:37<00:00, 167.97it/s]\n"
     ]
    },
    {
     "name": "stdout",
     "output_type": "stream",
     "text": [
      "Melt Pool Temperatures for All Time Steps: [ 441.30918675  468.1233294  1030.92278121 ...  531.71706603  530.33536015\n",
      "  528.96299363]\n",
      "Downloaded Yi-Ping:/Exp_10_layer/compressed_laser_profile_51.zarr.zarr.tar.gz to /home/ycv5080/Github/DED/DT_DED/DED_DT_Thermomechanical_Solver/TiDE_surrogate/data_processing/compressed_laser_profile_51.zarr.zarr.tar.gz\n",
      "Decompressed /home/ycv5080/Github/DED/DT_DED/DED_DT_Thermomechanical_Solver/TiDE_surrogate/data_processing/laser_profile_51.zarr.tar.gz into /home/ycv5080/Github/DED/DT_DED/DED_DT_Thermomechanical_Solver/TiDE_surrogate/data_processing\n"
     ]
    },
    {
     "name": "stderr",
     "output_type": "stream",
     "text": [
      "Processing Time Steps: 100%|██████████| 6295/6295 [02:51<00:00, 36.69it/s]\n",
      "100%|██████████| 6294/6294 [00:36<00:00, 170.52it/s]\n"
     ]
    },
    {
     "name": "stdout",
     "output_type": "stream",
     "text": [
      "Melt Pool Temperatures for All Time Steps: [ 444.74392083  472.73503678 1050.57430459 ...  536.7620988   535.34792737\n",
      "  533.9433305 ]\n",
      "Downloaded Yi-Ping:/Exp_10_layer/compressed_laser_profile_52.zarr.zarr.tar.gz to /home/ycv5080/Github/DED/DT_DED/DED_DT_Thermomechanical_Solver/TiDE_surrogate/data_processing/compressed_laser_profile_52.zarr.zarr.tar.gz\n",
      "Decompressed /home/ycv5080/Github/DED/DT_DED/DED_DT_Thermomechanical_Solver/TiDE_surrogate/data_processing/laser_profile_52.zarr.tar.gz into /home/ycv5080/Github/DED/DT_DED/DED_DT_Thermomechanical_Solver/TiDE_surrogate/data_processing\n"
     ]
    },
    {
     "name": "stderr",
     "output_type": "stream",
     "text": [
      "Processing Time Steps: 100%|██████████| 6295/6295 [02:54<00:00, 36.11it/s]\n",
      "100%|██████████| 6294/6294 [00:36<00:00, 170.39it/s]\n"
     ]
    },
    {
     "name": "stdout",
     "output_type": "stream",
     "text": [
      "Melt Pool Temperatures for All Time Steps: [ 455.32463384  493.47710516 1111.06494037 ...  539.89505721  538.46096687\n",
      "  537.03659263]\n",
      "Downloaded Yi-Ping:/Exp_10_layer/compressed_laser_profile_53.zarr.zarr.tar.gz to /home/ycv5080/Github/DED/DT_DED/DED_DT_Thermomechanical_Solver/TiDE_surrogate/data_processing/compressed_laser_profile_53.zarr.zarr.tar.gz\n",
      "Decompressed /home/ycv5080/Github/DED/DT_DED/DED_DT_Thermomechanical_Solver/TiDE_surrogate/data_processing/laser_profile_53.zarr.tar.gz into /home/ycv5080/Github/DED/DT_DED/DED_DT_Thermomechanical_Solver/TiDE_surrogate/data_processing\n"
     ]
    },
    {
     "name": "stderr",
     "output_type": "stream",
     "text": [
      "Processing Time Steps: 100%|██████████| 6295/6295 [02:51<00:00, 36.79it/s]\n",
      "100%|██████████| 6294/6294 [00:37<00:00, 168.47it/s]\n"
     ]
    },
    {
     "name": "stdout",
     "output_type": "stream",
     "text": [
      "Melt Pool Temperatures for All Time Steps: [ 439.87201215  460.95538577 1022.78608701 ...  535.60589356  534.19957916\n",
      "  532.80277646]\n",
      "Downloaded Yi-Ping:/Exp_10_layer/compressed_laser_profile_54.zarr.zarr.tar.gz to /home/ycv5080/Github/DED/DT_DED/DED_DT_Thermomechanical_Solver/TiDE_surrogate/data_processing/compressed_laser_profile_54.zarr.zarr.tar.gz\n",
      "Decompressed /home/ycv5080/Github/DED/DT_DED/DED_DT_Thermomechanical_Solver/TiDE_surrogate/data_processing/laser_profile_54.zarr.tar.gz into /home/ycv5080/Github/DED/DT_DED/DED_DT_Thermomechanical_Solver/TiDE_surrogate/data_processing\n"
     ]
    },
    {
     "name": "stderr",
     "output_type": "stream",
     "text": [
      "Processing Time Steps: 100%|██████████| 6295/6295 [02:52<00:00, 36.49it/s]\n",
      "100%|██████████| 6294/6294 [00:37<00:00, 168.59it/s]\n"
     ]
    },
    {
     "name": "stdout",
     "output_type": "stream",
     "text": [
      "Melt Pool Temperatures for All Time Steps: [ 454.13347879  488.82758147 1104.23026015 ...  538.98825013  537.55962604\n",
      "  536.1406842 ]\n",
      "Downloaded Yi-Ping:/Exp_10_layer/compressed_laser_profile_55.zarr.zarr.tar.gz to /home/ycv5080/Github/DED/DT_DED/DED_DT_Thermomechanical_Solver/TiDE_surrogate/data_processing/compressed_laser_profile_55.zarr.zarr.tar.gz\n",
      "Decompressed /home/ycv5080/Github/DED/DT_DED/DED_DT_Thermomechanical_Solver/TiDE_surrogate/data_processing/laser_profile_55.zarr.tar.gz into /home/ycv5080/Github/DED/DT_DED/DED_DT_Thermomechanical_Solver/TiDE_surrogate/data_processing\n"
     ]
    },
    {
     "name": "stderr",
     "output_type": "stream",
     "text": [
      "Processing Time Steps: 100%|██████████| 6295/6295 [02:51<00:00, 36.74it/s]\n",
      "100%|██████████| 6294/6294 [00:36<00:00, 170.62it/s]\n"
     ]
    },
    {
     "name": "stdout",
     "output_type": "stream",
     "text": [
      "Melt Pool Temperatures for All Time Steps: [ 450.09442813  479.91254115 1081.135875   ...  538.52722646  537.10179689\n",
      "  535.68602245]\n",
      "Downloaded Yi-Ping:/Exp_10_layer/compressed_laser_profile_56.zarr.zarr.tar.gz to /home/ycv5080/Github/DED/DT_DED/DED_DT_Thermomechanical_Solver/TiDE_surrogate/data_processing/compressed_laser_profile_56.zarr.zarr.tar.gz\n",
      "Decompressed /home/ycv5080/Github/DED/DT_DED/DED_DT_Thermomechanical_Solver/TiDE_surrogate/data_processing/laser_profile_56.zarr.tar.gz into /home/ycv5080/Github/DED/DT_DED/DED_DT_Thermomechanical_Solver/TiDE_surrogate/data_processing\n"
     ]
    },
    {
     "name": "stderr",
     "output_type": "stream",
     "text": [
      "Processing Time Steps: 100%|██████████| 6295/6295 [02:54<00:00, 36.06it/s]\n",
      "100%|██████████| 6294/6294 [00:37<00:00, 166.95it/s]\n"
     ]
    },
    {
     "name": "stdout",
     "output_type": "stream",
     "text": [
      "Melt Pool Temperatures for All Time Steps: [ 433.18454864  509.76731975 1169.54094486 ...  545.57256281  544.10195415\n",
      "  542.64133204]\n",
      "Downloaded Yi-Ping:/Exp_10_layer/compressed_laser_profile_57.zarr.zarr.tar.gz to /home/ycv5080/Github/DED/DT_DED/DED_DT_Thermomechanical_Solver/TiDE_surrogate/data_processing/compressed_laser_profile_57.zarr.zarr.tar.gz\n",
      "Decompressed /home/ycv5080/Github/DED/DT_DED/DED_DT_Thermomechanical_Solver/TiDE_surrogate/data_processing/laser_profile_57.zarr.tar.gz into /home/ycv5080/Github/DED/DT_DED/DED_DT_Thermomechanical_Solver/TiDE_surrogate/data_processing\n"
     ]
    },
    {
     "name": "stderr",
     "output_type": "stream",
     "text": [
      "Processing Time Steps: 100%|██████████| 6295/6295 [02:55<00:00, 35.83it/s]\n",
      "100%|██████████| 6294/6294 [00:37<00:00, 167.43it/s]\n"
     ]
    },
    {
     "name": "stdout",
     "output_type": "stream",
     "text": [
      "Melt Pool Temperatures for All Time Steps: [ 430.39960601  504.71073187 1152.02888862 ...  547.68251276  546.19928992\n",
      "  544.72613501]\n",
      "Downloaded Yi-Ping:/Exp_10_layer/compressed_laser_profile_58.zarr.zarr.tar.gz to /home/ycv5080/Github/DED/DT_DED/DED_DT_Thermomechanical_Solver/TiDE_surrogate/data_processing/compressed_laser_profile_58.zarr.zarr.tar.gz\n",
      "Decompressed /home/ycv5080/Github/DED/DT_DED/DED_DT_Thermomechanical_Solver/TiDE_surrogate/data_processing/laser_profile_58.zarr.tar.gz into /home/ycv5080/Github/DED/DT_DED/DED_DT_Thermomechanical_Solver/TiDE_surrogate/data_processing\n"
     ]
    },
    {
     "name": "stderr",
     "output_type": "stream",
     "text": [
      "Processing Time Steps: 100%|██████████| 6295/6295 [02:53<00:00, 36.25it/s]\n",
      "100%|██████████| 6294/6294 [00:37<00:00, 169.99it/s]\n"
     ]
    },
    {
     "name": "stdout",
     "output_type": "stream",
     "text": [
      "Melt Pool Temperatures for All Time Steps: [ 435.36521127  513.04764318 1183.28923903 ...  539.96213806  538.52831244\n",
      "  537.10419471]\n",
      "Downloaded Yi-Ping:/Exp_10_layer/compressed_laser_profile_59.zarr.zarr.tar.gz to /home/ycv5080/Github/DED/DT_DED/DED_DT_Thermomechanical_Solver/TiDE_surrogate/data_processing/compressed_laser_profile_59.zarr.zarr.tar.gz\n",
      "Decompressed /home/ycv5080/Github/DED/DT_DED/DED_DT_Thermomechanical_Solver/TiDE_surrogate/data_processing/laser_profile_59.zarr.tar.gz into /home/ycv5080/Github/DED/DT_DED/DED_DT_Thermomechanical_Solver/TiDE_surrogate/data_processing\n"
     ]
    },
    {
     "name": "stderr",
     "output_type": "stream",
     "text": [
      "Processing Time Steps: 100%|██████████| 6295/6295 [02:53<00:00, 36.20it/s]\n",
      "100%|██████████| 6294/6294 [00:36<00:00, 170.48it/s]\n"
     ]
    },
    {
     "name": "stdout",
     "output_type": "stream",
     "text": [
      "Melt Pool Temperatures for All Time Steps: [ 448.41983857  477.66684944 1071.57426206 ...  541.74699089  540.30069698\n",
      "  538.86421311]\n",
      "Downloaded Yi-Ping:/Exp_10_layer/compressed_laser_profile_60.zarr.zarr.tar.gz to /home/ycv5080/Github/DED/DT_DED/DED_DT_Thermomechanical_Solver/TiDE_surrogate/data_processing/compressed_laser_profile_60.zarr.zarr.tar.gz\n",
      "Decompressed /home/ycv5080/Github/DED/DT_DED/DED_DT_Thermomechanical_Solver/TiDE_surrogate/data_processing/laser_profile_60.zarr.tar.gz into /home/ycv5080/Github/DED/DT_DED/DED_DT_Thermomechanical_Solver/TiDE_surrogate/data_processing\n"
     ]
    },
    {
     "name": "stderr",
     "output_type": "stream",
     "text": [
      "Processing Time Steps: 100%|██████████| 6295/6295 [02:57<00:00, 35.41it/s]\n",
      "100%|██████████| 6294/6294 [00:41<00:00, 152.54it/s]\n"
     ]
    },
    {
     "name": "stdout",
     "output_type": "stream",
     "text": [
      "Melt Pool Temperatures for All Time Steps: [ 433.6319747   510.44148226 1172.37757643 ...  551.97808481  550.46646318\n",
      "  548.96512776]\n",
      "Downloaded Yi-Ping:/Exp_10_layer/compressed_laser_profile_61.zarr.zarr.tar.gz to /home/ycv5080/Github/DED/DT_DED/DED_DT_Thermomechanical_Solver/TiDE_surrogate/data_processing/compressed_laser_profile_61.zarr.zarr.tar.gz\n",
      "Decompressed /home/ycv5080/Github/DED/DT_DED/DED_DT_Thermomechanical_Solver/TiDE_surrogate/data_processing/laser_profile_61.zarr.tar.gz into /home/ycv5080/Github/DED/DT_DED/DED_DT_Thermomechanical_Solver/TiDE_surrogate/data_processing\n"
     ]
    },
    {
     "name": "stderr",
     "output_type": "stream",
     "text": [
      "Processing Time Steps: 100%|██████████| 6295/6295 [02:59<00:00, 35.01it/s]\n",
      "100%|██████████| 6294/6294 [00:40<00:00, 154.08it/s]\n"
     ]
    },
    {
     "name": "stdout",
     "output_type": "stream",
     "text": [
      "Melt Pool Temperatures for All Time Steps: [ 432.36620071  508.53379929 1164.34681668 ...  547.22653379  545.7455266\n",
      "  544.27457902]\n",
      "Downloaded Yi-Ping:/Exp_10_layer/compressed_laser_profile_62.zarr.zarr.tar.gz to /home/ycv5080/Github/DED/DT_DED/DED_DT_Thermomechanical_Solver/TiDE_surrogate/data_processing/compressed_laser_profile_62.zarr.zarr.tar.gz\n",
      "Decompressed /home/ycv5080/Github/DED/DT_DED/DED_DT_Thermomechanical_Solver/TiDE_surrogate/data_processing/laser_profile_62.zarr.tar.gz into /home/ycv5080/Github/DED/DT_DED/DED_DT_Thermomechanical_Solver/TiDE_surrogate/data_processing\n"
     ]
    },
    {
     "name": "stderr",
     "output_type": "stream",
     "text": [
      "Processing Time Steps: 100%|██████████| 6295/6295 [02:59<00:00, 35.09it/s]\n",
      "100%|██████████| 6294/6294 [00:38<00:00, 163.42it/s]\n"
     ]
    },
    {
     "name": "stdout",
     "output_type": "stream",
     "text": [
      "Melt Pool Temperatures for All Time Steps: [ 444.70045637  527.62326116 1242.26098881 ...  548.29617275  546.80851051\n",
      "  545.33095492]\n",
      "Downloaded Yi-Ping:/Exp_10_layer/compressed_laser_profile_63.zarr.zarr.tar.gz to /home/ycv5080/Github/DED/DT_DED/DED_DT_Thermomechanical_Solver/TiDE_surrogate/data_processing/compressed_laser_profile_63.zarr.zarr.tar.gz\n",
      "Decompressed /home/ycv5080/Github/DED/DT_DED/DED_DT_Thermomechanical_Solver/TiDE_surrogate/data_processing/laser_profile_63.zarr.tar.gz into /home/ycv5080/Github/DED/DT_DED/DED_DT_Thermomechanical_Solver/TiDE_surrogate/data_processing\n"
     ]
    },
    {
     "name": "stderr",
     "output_type": "stream",
     "text": [
      "Processing Time Steps: 100%|██████████| 6295/6295 [03:08<00:00, 33.48it/s]\n",
      "100%|██████████| 6294/6294 [00:40<00:00, 157.28it/s]\n"
     ]
    },
    {
     "name": "stdout",
     "output_type": "stream",
     "text": [
      "Melt Pool Temperatures for All Time Steps: [ 446.5014465   530.34092969 1253.69539994 ...  559.16579805  557.60902341\n",
      "  556.06285437]\n",
      "Downloaded Yi-Ping:/Exp_10_layer/compressed_laser_profile_64.zarr.zarr.tar.gz to /home/ycv5080/Github/DED/DT_DED/DED_DT_Thermomechanical_Solver/TiDE_surrogate/data_processing/compressed_laser_profile_64.zarr.zarr.tar.gz\n",
      "Decompressed /home/ycv5080/Github/DED/DT_DED/DED_DT_Thermomechanical_Solver/TiDE_surrogate/data_processing/laser_profile_64.zarr.tar.gz into /home/ycv5080/Github/DED/DT_DED/DED_DT_Thermomechanical_Solver/TiDE_surrogate/data_processing\n"
     ]
    },
    {
     "name": "stderr",
     "output_type": "stream",
     "text": [
      "Processing Time Steps: 100%|██████████| 6295/6295 [02:59<00:00, 35.05it/s]\n",
      "100%|██████████| 6294/6294 [00:40<00:00, 155.91it/s]\n"
     ]
    },
    {
     "name": "stdout",
     "output_type": "stream",
     "text": [
      "Melt Pool Temperatures for All Time Steps: [ 448.74942791  478.10832259 1073.44790066 ...  535.49817944  534.09241401\n",
      "  532.69616021]\n",
      "Downloaded Yi-Ping:/Exp_10_layer/compressed_laser_profile_65.zarr.zarr.tar.gz to /home/ycv5080/Github/DED/DT_DED/DED_DT_Thermomechanical_Solver/TiDE_surrogate/data_processing/compressed_laser_profile_65.zarr.zarr.tar.gz\n",
      "Decompressed /home/ycv5080/Github/DED/DT_DED/DED_DT_Thermomechanical_Solver/TiDE_surrogate/data_processing/laser_profile_65.zarr.tar.gz into /home/ycv5080/Github/DED/DT_DED/DED_DT_Thermomechanical_Solver/TiDE_surrogate/data_processing\n"
     ]
    },
    {
     "name": "stderr",
     "output_type": "stream",
     "text": [
      "Processing Time Steps: 100%|██████████| 6295/6295 [02:58<00:00, 35.34it/s]\n",
      "100%|██████████| 6294/6294 [00:38<00:00, 164.45it/s]\n"
     ]
    },
    {
     "name": "stdout",
     "output_type": "stream",
     "text": [
      "Melt Pool Temperatures for All Time Steps: [ 455.55877229  493.79620524 1112.40563653 ...  531.09910398  529.72187807\n",
      "  528.35395267]\n",
      "Downloaded Yi-Ping:/Exp_10_layer/compressed_laser_profile_66.zarr.zarr.tar.gz to /home/ycv5080/Github/DED/DT_DED/DED_DT_Thermomechanical_Solver/TiDE_surrogate/data_processing/compressed_laser_profile_66.zarr.zarr.tar.gz\n",
      "Decompressed /home/ycv5080/Github/DED/DT_DED/DED_DT_Thermomechanical_Solver/TiDE_surrogate/data_processing/laser_profile_66.zarr.tar.gz into /home/ycv5080/Github/DED/DT_DED/DED_DT_Thermomechanical_Solver/TiDE_surrogate/data_processing\n"
     ]
    },
    {
     "name": "stderr",
     "output_type": "stream",
     "text": [
      "Processing Time Steps: 100%|██████████| 6295/6295 [02:56<00:00, 35.66it/s]\n",
      "100%|██████████| 6294/6294 [00:37<00:00, 168.98it/s]\n"
     ]
    },
    {
     "name": "stdout",
     "output_type": "stream",
     "text": [
      "Melt Pool Temperatures for All Time Steps: [ 451.13692947  481.31089515 1087.09573904 ...  539.69102122  538.25799429\n",
      "  536.83467832]\n",
      "Downloaded Yi-Ping:/Exp_10_layer/compressed_laser_profile_67.zarr.zarr.tar.gz to /home/ycv5080/Github/DED/DT_DED/DED_DT_Thermomechanical_Solver/TiDE_surrogate/data_processing/compressed_laser_profile_67.zarr.zarr.tar.gz\n",
      "Decompressed /home/ycv5080/Github/DED/DT_DED/DED_DT_Thermomechanical_Solver/TiDE_surrogate/data_processing/laser_profile_67.zarr.tar.gz into /home/ycv5080/Github/DED/DT_DED/DED_DT_Thermomechanical_Solver/TiDE_surrogate/data_processing\n"
     ]
    },
    {
     "name": "stderr",
     "output_type": "stream",
     "text": [
      "Processing Time Steps: 100%|██████████| 6295/6295 [02:56<00:00, 35.76it/s]\n",
      "100%|██████████| 6294/6294 [00:37<00:00, 166.79it/s]\n"
     ]
    },
    {
     "name": "stdout",
     "output_type": "stream",
     "text": [
      "Melt Pool Temperatures for All Time Steps: [ 446.76890187  530.7419792  1255.3509185  ...  550.17079568  548.67124995\n",
      "  547.18189531]\n",
      "Downloaded Yi-Ping:/Exp_10_layer/compressed_laser_profile_68.zarr.zarr.tar.gz to /home/ycv5080/Github/DED/DT_DED/DED_DT_Thermomechanical_Solver/TiDE_surrogate/data_processing/compressed_laser_profile_68.zarr.zarr.tar.gz\n",
      "Decompressed /home/ycv5080/Github/DED/DT_DED/DED_DT_Thermomechanical_Solver/TiDE_surrogate/data_processing/laser_profile_68.zarr.tar.gz into /home/ycv5080/Github/DED/DT_DED/DED_DT_Thermomechanical_Solver/TiDE_surrogate/data_processing\n"
     ]
    },
    {
     "name": "stderr",
     "output_type": "stream",
     "text": [
      "Processing Time Steps: 100%|██████████| 6295/6295 [02:49<00:00, 37.04it/s]\n",
      "100%|██████████| 6294/6294 [00:36<00:00, 171.54it/s]\n"
     ]
    },
    {
     "name": "stdout",
     "output_type": "stream",
     "text": [
      "Melt Pool Temperatures for All Time Steps: [435.43046883 455.08802328 997.44336888 ... 528.18300326 526.82266873\n",
      " 525.47153012]\n",
      "Downloaded Yi-Ping:/Exp_10_layer/compressed_laser_profile_69.zarr.zarr.tar.gz to /home/ycv5080/Github/DED/DT_DED/DED_DT_Thermomechanical_Solver/TiDE_surrogate/data_processing/compressed_laser_profile_69.zarr.zarr.tar.gz\n",
      "Decompressed /home/ycv5080/Github/DED/DT_DED/DED_DT_Thermomechanical_Solver/TiDE_surrogate/data_processing/laser_profile_69.zarr.tar.gz into /home/ycv5080/Github/DED/DT_DED/DED_DT_Thermomechanical_Solver/TiDE_surrogate/data_processing\n"
     ]
    },
    {
     "name": "stderr",
     "output_type": "stream",
     "text": [
      "Processing Time Steps: 100%|██████████| 6295/6295 [02:53<00:00, 36.20it/s]\n",
      "100%|██████████| 6294/6294 [00:37<00:00, 168.01it/s]\n"
     ]
    },
    {
     "name": "stdout",
     "output_type": "stream",
     "text": [
      "Melt Pool Temperatures for All Time Steps: [ 435.44697273  513.17350207 1183.84775408 ...  547.50258834  546.02020484\n",
      "  544.54788459]\n",
      "Downloaded Yi-Ping:/Exp_10_layer/compressed_laser_profile_70.zarr.zarr.tar.gz to /home/ycv5080/Github/DED/DT_DED/DED_DT_Thermomechanical_Solver/TiDE_surrogate/data_processing/compressed_laser_profile_70.zarr.zarr.tar.gz\n",
      "Decompressed /home/ycv5080/Github/DED/DT_DED/DED_DT_Thermomechanical_Solver/TiDE_surrogate/data_processing/laser_profile_70.zarr.tar.gz into /home/ycv5080/Github/DED/DT_DED/DED_DT_Thermomechanical_Solver/TiDE_surrogate/data_processing\n"
     ]
    },
    {
     "name": "stderr",
     "output_type": "stream",
     "text": [
      "Processing Time Steps: 100%|██████████| 6295/6295 [02:53<00:00, 36.25it/s]\n",
      "100%|██████████| 6294/6294 [00:37<00:00, 167.90it/s]\n"
     ]
    },
    {
     "name": "stdout",
     "output_type": "stream",
     "text": [
      "Melt Pool Temperatures for All Time Steps: [ 458.22272897  498.42007721 1127.64889613 ...  551.86229273  550.35166643\n",
      "  548.85131398]\n",
      "Downloaded Yi-Ping:/Exp_10_layer/compressed_laser_profile_71.zarr.zarr.tar.gz to /home/ycv5080/Github/DED/DT_DED/DED_DT_Thermomechanical_Solver/TiDE_surrogate/data_processing/compressed_laser_profile_71.zarr.zarr.tar.gz\n",
      "Decompressed /home/ycv5080/Github/DED/DT_DED/DED_DT_Thermomechanical_Solver/TiDE_surrogate/data_processing/laser_profile_71.zarr.tar.gz into /home/ycv5080/Github/DED/DT_DED/DED_DT_Thermomechanical_Solver/TiDE_surrogate/data_processing\n"
     ]
    },
    {
     "name": "stderr",
     "output_type": "stream",
     "text": [
      "Processing Time Steps: 100%|██████████| 6295/6295 [02:53<00:00, 36.19it/s]\n",
      "100%|██████████| 6294/6294 [00:37<00:00, 168.31it/s]\n"
     ]
    },
    {
     "name": "stdout",
     "output_type": "stream",
     "text": [
      "Melt Pool Temperatures for All Time Steps: [ 432.04262033  508.05088413 1162.36531954 ...  547.24715982  545.76594823\n",
      "  544.29479857]\n",
      "Downloaded Yi-Ping:/Exp_10_layer/compressed_laser_profile_72.zarr.zarr.tar.gz to /home/ycv5080/Github/DED/DT_DED/DED_DT_Thermomechanical_Solver/TiDE_surrogate/data_processing/compressed_laser_profile_72.zarr.zarr.tar.gz\n",
      "Decompressed /home/ycv5080/Github/DED/DT_DED/DED_DT_Thermomechanical_Solver/TiDE_surrogate/data_processing/laser_profile_72.zarr.tar.gz into /home/ycv5080/Github/DED/DT_DED/DED_DT_Thermomechanical_Solver/TiDE_surrogate/data_processing\n"
     ]
    },
    {
     "name": "stderr",
     "output_type": "stream",
     "text": [
      "Processing Time Steps: 100%|██████████| 6295/6295 [02:55<00:00, 35.85it/s]\n",
      "100%|██████████| 6294/6294 [00:37<00:00, 167.02it/s]\n"
     ]
    },
    {
     "name": "stdout",
     "output_type": "stream",
     "text": [
      "Melt Pool Temperatures for All Time Steps: [ 445.65658009  529.06940023 1248.38276164 ...  550.45493132  548.9531991\n",
      "  547.46168061]\n",
      "Downloaded Yi-Ping:/Exp_10_layer/compressed_laser_profile_73.zarr.zarr.tar.gz to /home/ycv5080/Github/DED/DT_DED/DED_DT_Thermomechanical_Solver/TiDE_surrogate/data_processing/compressed_laser_profile_73.zarr.zarr.tar.gz\n",
      "Decompressed /home/ycv5080/Github/DED/DT_DED/DED_DT_Thermomechanical_Solver/TiDE_surrogate/data_processing/laser_profile_73.zarr.tar.gz into /home/ycv5080/Github/DED/DT_DED/DED_DT_Thermomechanical_Solver/TiDE_surrogate/data_processing\n"
     ]
    },
    {
     "name": "stderr",
     "output_type": "stream",
     "text": [
      "Processing Time Steps: 100%|██████████| 6295/6295 [02:54<00:00, 36.02it/s]\n",
      "100%|██████████| 6294/6294 [00:37<00:00, 166.75it/s]\n"
     ]
    },
    {
     "name": "stdout",
     "output_type": "stream",
     "text": [
      "Melt Pool Temperatures for All Time Steps: [ 458.29398672  498.51818067 1128.06866794 ...  545.25519292  543.78674287\n",
      "  542.32826113]\n",
      "Downloaded Yi-Ping:/Exp_10_layer/compressed_laser_profile_74.zarr.zarr.tar.gz to /home/ycv5080/Github/DED/DT_DED/DED_DT_Thermomechanical_Solver/TiDE_surrogate/data_processing/compressed_laser_profile_74.zarr.zarr.tar.gz\n",
      "Decompressed /home/ycv5080/Github/DED/DT_DED/DED_DT_Thermomechanical_Solver/TiDE_surrogate/data_processing/laser_profile_74.zarr.tar.gz into /home/ycv5080/Github/DED/DT_DED/DED_DT_Thermomechanical_Solver/TiDE_surrogate/data_processing\n"
     ]
    },
    {
     "name": "stderr",
     "output_type": "stream",
     "text": [
      "Processing Time Steps: 100%|██████████| 6295/6295 [02:51<00:00, 36.72it/s]\n",
      "100%|██████████| 6294/6294 [00:37<00:00, 169.43it/s]\n"
     ]
    },
    {
     "name": "stdout",
     "output_type": "stream",
     "text": [
      "Melt Pool Temperatures for All Time Steps: [ 436.39643947  456.3673124  1002.99986746 ...  535.63463198  534.22807372\n",
      "  532.83103186]\n",
      "Downloaded Yi-Ping:/Exp_10_layer/compressed_laser_profile_75.zarr.zarr.tar.gz to /home/ycv5080/Github/DED/DT_DED/DED_DT_Thermomechanical_Solver/TiDE_surrogate/data_processing/compressed_laser_profile_75.zarr.zarr.tar.gz\n",
      "Decompressed /home/ycv5080/Github/DED/DT_DED/DED_DT_Thermomechanical_Solver/TiDE_surrogate/data_processing/laser_profile_75.zarr.tar.gz into /home/ycv5080/Github/DED/DT_DED/DED_DT_Thermomechanical_Solver/TiDE_surrogate/data_processing\n"
     ]
    },
    {
     "name": "stderr",
     "output_type": "stream",
     "text": [
      "Processing Time Steps: 100%|██████████| 6295/6295 [02:50<00:00, 36.90it/s]\n",
      "100%|██████████| 6294/6294 [00:36<00:00, 171.79it/s]\n"
     ]
    },
    {
     "name": "stdout",
     "output_type": "stream",
     "text": [
      "Melt Pool Temperatures for All Time Steps: [ 437.18964713  457.41224119 1007.47996651 ...  524.68378175  523.34594299\n",
      "  522.01713449]\n",
      "Downloaded Yi-Ping:/Exp_10_layer/compressed_laser_profile_76.zarr.zarr.tar.gz to /home/ycv5080/Github/DED/DT_DED/DED_DT_Thermomechanical_Solver/TiDE_surrogate/data_processing/compressed_laser_profile_76.zarr.zarr.tar.gz\n",
      "Decompressed /home/ycv5080/Github/DED/DT_DED/DED_DT_Thermomechanical_Solver/TiDE_surrogate/data_processing/laser_profile_76.zarr.tar.gz into /home/ycv5080/Github/DED/DT_DED/DED_DT_Thermomechanical_Solver/TiDE_surrogate/data_processing\n"
     ]
    },
    {
     "name": "stderr",
     "output_type": "stream",
     "text": [
      "Processing Time Steps: 100%|██████████| 6295/6295 [02:52<00:00, 36.44it/s]\n",
      "100%|██████████| 6294/6294 [00:37<00:00, 168.17it/s]\n"
     ]
    },
    {
     "name": "stdout",
     "output_type": "stream",
     "text": [
      "Melt Pool Temperatures for All Time Steps: [ 450.78561375  480.84112992 1085.1093528  ...  547.1180723   545.63786059\n",
      "  544.16770126]\n",
      "Downloaded Yi-Ping:/Exp_10_layer/compressed_laser_profile_77.zarr.zarr.tar.gz to /home/ycv5080/Github/DED/DT_DED/DED_DT_Thermomechanical_Solver/TiDE_surrogate/data_processing/compressed_laser_profile_77.zarr.zarr.tar.gz\n",
      "Decompressed /home/ycv5080/Github/DED/DT_DED/DED_DT_Thermomechanical_Solver/TiDE_surrogate/data_processing/laser_profile_77.zarr.tar.gz into /home/ycv5080/Github/DED/DT_DED/DED_DT_Thermomechanical_Solver/TiDE_surrogate/data_processing\n"
     ]
    },
    {
     "name": "stderr",
     "output_type": "stream",
     "text": [
      "Processing Time Steps: 100%|██████████| 6295/6295 [02:54<00:00, 36.16it/s]\n",
      "100%|██████████| 6294/6294 [00:37<00:00, 168.29it/s]\n"
     ]
    },
    {
     "name": "stdout",
     "output_type": "stream",
     "text": [
      "Melt Pool Temperatures for All Time Steps: [ 428.47702894  501.82332992 1139.91389054 ...  544.22685393  542.76471642\n",
      "  541.31250539]\n",
      "Downloaded Yi-Ping:/Exp_10_layer/compressed_laser_profile_78.zarr.zarr.tar.gz to /home/ycv5080/Github/DED/DT_DED/DED_DT_Thermomechanical_Solver/TiDE_surrogate/data_processing/compressed_laser_profile_78.zarr.zarr.tar.gz\n",
      "Decompressed /home/ycv5080/Github/DED/DT_DED/DED_DT_Thermomechanical_Solver/TiDE_surrogate/data_processing/laser_profile_78.zarr.tar.gz into /home/ycv5080/Github/DED/DT_DED/DED_DT_Thermomechanical_Solver/TiDE_surrogate/data_processing\n"
     ]
    },
    {
     "name": "stderr",
     "output_type": "stream",
     "text": [
      "Processing Time Steps: 100%|██████████| 6295/6295 [02:51<00:00, 36.62it/s]\n",
      "100%|██████████| 6294/6294 [00:37<00:00, 168.66it/s]\n"
     ]
    },
    {
     "name": "stdout",
     "output_type": "stream",
     "text": [
      "Melt Pool Temperatures for All Time Steps: [ 436.42086185  456.39891578 1003.1290577  ...  535.81346932  534.40549116\n",
      "  533.00704124]\n",
      "Downloaded Yi-Ping:/Exp_10_layer/compressed_laser_profile_79.zarr.zarr.tar.gz to /home/ycv5080/Github/DED/DT_DED/DED_DT_Thermomechanical_Solver/TiDE_surrogate/data_processing/compressed_laser_profile_79.zarr.zarr.tar.gz\n",
      "Decompressed /home/ycv5080/Github/DED/DT_DED/DED_DT_Thermomechanical_Solver/TiDE_surrogate/data_processing/laser_profile_79.zarr.tar.gz into /home/ycv5080/Github/DED/DT_DED/DED_DT_Thermomechanical_Solver/TiDE_surrogate/data_processing\n"
     ]
    },
    {
     "name": "stderr",
     "output_type": "stream",
     "text": [
      "Processing Time Steps: 100%|██████████| 6295/6295 [02:54<00:00, 36.17it/s]\n",
      "100%|██████████| 6294/6294 [00:36<00:00, 170.27it/s]\n"
     ]
    },
    {
     "name": "stdout",
     "output_type": "stream",
     "text": [
      "Melt Pool Temperatures for All Time Steps: [ 428.93056129  502.50171105 1142.72953026 ...  545.97256876  544.49900102\n",
      "  543.03544572]\n",
      "Downloaded Yi-Ping:/Exp_10_layer/compressed_laser_profile_81.zarr.zarr.tar.gz to /home/ycv5080/Github/DED/DT_DED/DED_DT_Thermomechanical_Solver/TiDE_surrogate/data_processing/compressed_laser_profile_81.zarr.zarr.tar.gz\n",
      "Decompressed /home/ycv5080/Github/DED/DT_DED/DED_DT_Thermomechanical_Solver/TiDE_surrogate/data_processing/laser_profile_81.zarr.tar.gz into /home/ycv5080/Github/DED/DT_DED/DED_DT_Thermomechanical_Solver/TiDE_surrogate/data_processing\n"
     ]
    },
    {
     "name": "stderr",
     "output_type": "stream",
     "text": [
      "Processing Time Steps: 100%|██████████| 6295/6295 [02:51<00:00, 36.61it/s]\n",
      "100%|██████████| 6294/6294 [00:37<00:00, 168.06it/s]\n"
     ]
    },
    {
     "name": "stdout",
     "output_type": "stream",
     "text": [
      "Melt Pool Temperatures for All Time Steps: [ 449.40754289  478.99542764 1077.27429004 ...  535.0756861   533.67287147\n",
      "  532.27954473]\n",
      "Downloaded Yi-Ping:/Exp_10_layer/compressed_laser_profile_82.zarr.zarr.tar.gz to /home/ycv5080/Github/DED/DT_DED/DED_DT_Thermomechanical_Solver/TiDE_surrogate/data_processing/compressed_laser_profile_82.zarr.zarr.tar.gz\n",
      "Decompressed /home/ycv5080/Github/DED/DT_DED/DED_DT_Thermomechanical_Solver/TiDE_surrogate/data_processing/laser_profile_82.zarr.tar.gz into /home/ycv5080/Github/DED/DT_DED/DED_DT_Thermomechanical_Solver/TiDE_surrogate/data_processing\n"
     ]
    },
    {
     "name": "stderr",
     "output_type": "stream",
     "text": [
      "Processing Time Steps: 100%|██████████| 6295/6295 [02:57<00:00, 35.37it/s]\n",
      "100%|██████████| 6294/6294 [00:37<00:00, 166.40it/s]\n"
     ]
    },
    {
     "name": "stdout",
     "output_type": "stream",
     "text": [
      "Melt Pool Temperatures for All Time Steps: [ 439.10089805  519.18447704 1206.89383876 ...  554.73707085  553.20816905\n",
      "  551.68967573]\n",
      "Downloaded Yi-Ping:/Exp_10_layer/compressed_laser_profile_83.zarr.zarr.tar.gz to /home/ycv5080/Github/DED/DT_DED/DED_DT_Thermomechanical_Solver/TiDE_surrogate/data_processing/compressed_laser_profile_83.zarr.zarr.tar.gz\n",
      "Decompressed /home/ycv5080/Github/DED/DT_DED/DED_DT_Thermomechanical_Solver/TiDE_surrogate/data_processing/laser_profile_83.zarr.tar.gz into /home/ycv5080/Github/DED/DT_DED/DED_DT_Thermomechanical_Solver/TiDE_surrogate/data_processing\n"
     ]
    },
    {
     "name": "stderr",
     "output_type": "stream",
     "text": [
      "Processing Time Steps: 100%|██████████| 6295/6295 [02:53<00:00, 36.21it/s]\n",
      "100%|██████████| 6294/6294 [00:37<00:00, 168.63it/s]\n"
     ]
    },
    {
     "name": "stdout",
     "output_type": "stream",
     "text": [
      "Melt Pool Temperatures for All Time Steps: [ 453.15112001  484.01271248 1098.61762734 ...  531.67917926  530.29717684\n",
      "  528.9245188 ]\n",
      "Downloaded Yi-Ping:/Exp_10_layer/compressed_laser_profile_84.zarr.zarr.tar.gz to /home/ycv5080/Github/DED/DT_DED/DED_DT_Thermomechanical_Solver/TiDE_surrogate/data_processing/compressed_laser_profile_84.zarr.zarr.tar.gz\n",
      "Decompressed /home/ycv5080/Github/DED/DT_DED/DED_DT_Thermomechanical_Solver/TiDE_surrogate/data_processing/laser_profile_84.zarr.tar.gz into /home/ycv5080/Github/DED/DT_DED/DED_DT_Thermomechanical_Solver/TiDE_surrogate/data_processing\n"
     ]
    },
    {
     "name": "stderr",
     "output_type": "stream",
     "text": [
      "Processing Time Steps: 100%|██████████| 6295/6295 [02:51<00:00, 36.61it/s]\n",
      "100%|██████████| 6294/6294 [00:37<00:00, 169.22it/s]\n"
     ]
    },
    {
     "name": "stdout",
     "output_type": "stream",
     "text": [
      "Melt Pool Temperatures for All Time Steps: [ 436.3515429   456.30337186 1002.67266899 ...  534.55706748  533.15693782\n",
      "  531.76628112]\n",
      "Downloaded Yi-Ping:/Exp_10_layer/compressed_laser_profile_85.zarr.zarr.tar.gz to /home/ycv5080/Github/DED/DT_DED/DED_DT_Thermomechanical_Solver/TiDE_surrogate/data_processing/compressed_laser_profile_85.zarr.zarr.tar.gz\n",
      "Decompressed /home/ycv5080/Github/DED/DT_DED/DED_DT_Thermomechanical_Solver/TiDE_surrogate/data_processing/laser_profile_85.zarr.tar.gz into /home/ycv5080/Github/DED/DT_DED/DED_DT_Thermomechanical_Solver/TiDE_surrogate/data_processing\n"
     ]
    },
    {
     "name": "stderr",
     "output_type": "stream",
     "text": [
      "Processing Time Steps: 100%|██████████| 6295/6295 [02:54<00:00, 36.06it/s]\n",
      "100%|██████████| 6294/6294 [00:37<00:00, 166.75it/s]\n"
     ]
    },
    {
     "name": "stdout",
     "output_type": "stream",
     "text": [
      "Melt Pool Temperatures for All Time Steps: [ 441.67325823  523.06168644 1223.14782501 ...  549.85708163  548.35901906\n",
      "  546.87114568]\n",
      "Downloaded Yi-Ping:/Exp_10_layer/compressed_laser_profile_86.zarr.zarr.tar.gz to /home/ycv5080/Github/DED/DT_DED/DED_DT_Thermomechanical_Solver/TiDE_surrogate/data_processing/compressed_laser_profile_86.zarr.zarr.tar.gz\n",
      "Decompressed /home/ycv5080/Github/DED/DT_DED/DED_DT_Thermomechanical_Solver/TiDE_surrogate/data_processing/laser_profile_86.zarr.tar.gz into /home/ycv5080/Github/DED/DT_DED/DED_DT_Thermomechanical_Solver/TiDE_surrogate/data_processing\n"
     ]
    },
    {
     "name": "stderr",
     "output_type": "stream",
     "text": [
      "Processing Time Steps: 100%|██████████| 6295/6295 [02:55<00:00, 35.96it/s]\n",
      "100%|██████████| 6294/6294 [00:37<00:00, 166.92it/s]\n"
     ]
    },
    {
     "name": "stdout",
     "output_type": "stream",
     "text": [
      "Melt Pool Temperatures for All Time Steps: [ 436.03476563  514.0541166  1187.50212256 ...  548.23572608  546.74816385\n",
      "  545.2707116 ]\n",
      "Downloaded Yi-Ping:/Exp_10_layer/compressed_laser_profile_87.zarr.zarr.tar.gz to /home/ycv5080/Github/DED/DT_DED/DED_DT_Thermomechanical_Solver/TiDE_surrogate/data_processing/compressed_laser_profile_87.zarr.zarr.tar.gz\n",
      "Decompressed /home/ycv5080/Github/DED/DT_DED/DED_DT_Thermomechanical_Solver/TiDE_surrogate/data_processing/laser_profile_87.zarr.tar.gz into /home/ycv5080/Github/DED/DT_DED/DED_DT_Thermomechanical_Solver/TiDE_surrogate/data_processing\n"
     ]
    },
    {
     "name": "stderr",
     "output_type": "stream",
     "text": [
      "Processing Time Steps: 100%|██████████| 6295/6295 [02:51<00:00, 36.64it/s]\n",
      "100%|██████████| 6294/6294 [00:37<00:00, 166.52it/s]\n"
     ]
    },
    {
     "name": "stdout",
     "output_type": "stream",
     "text": [
      "Melt Pool Temperatures for All Time Steps: [ 452.80996329  483.55626362 1096.68340689 ...  541.75229788  540.30638057\n",
      "  538.87026502]\n",
      "Downloaded Yi-Ping:/Exp_10_layer/compressed_laser_profile_88.zarr.zarr.tar.gz to /home/ycv5080/Github/DED/DT_DED/DED_DT_Thermomechanical_Solver/TiDE_surrogate/data_processing/compressed_laser_profile_88.zarr.zarr.tar.gz\n",
      "Decompressed /home/ycv5080/Github/DED/DT_DED/DED_DT_Thermomechanical_Solver/TiDE_surrogate/data_processing/laser_profile_88.zarr.tar.gz into /home/ycv5080/Github/DED/DT_DED/DED_DT_Thermomechanical_Solver/TiDE_surrogate/data_processing\n"
     ]
    },
    {
     "name": "stderr",
     "output_type": "stream",
     "text": [
      "Processing Time Steps: 100%|██████████| 6295/6295 [02:52<00:00, 36.45it/s]\n",
      "100%|██████████| 6294/6294 [00:37<00:00, 168.46it/s]\n"
     ]
    },
    {
     "name": "stdout",
     "output_type": "stream",
     "text": [
      "Melt Pool Temperatures for All Time Steps: [ 429.61313019  503.52688459 1147.03080878 ...  543.92977024  542.46975547\n",
      "  541.01964784]\n",
      "Downloaded Yi-Ping:/Exp_10_layer/compressed_laser_profile_89.zarr.zarr.tar.gz to /home/ycv5080/Github/DED/DT_DED/DED_DT_Thermomechanical_Solver/TiDE_surrogate/data_processing/compressed_laser_profile_89.zarr.zarr.tar.gz\n",
      "Decompressed /home/ycv5080/Github/DED/DT_DED/DED_DT_Thermomechanical_Solver/TiDE_surrogate/data_processing/laser_profile_89.zarr.tar.gz into /home/ycv5080/Github/DED/DT_DED/DED_DT_Thermomechanical_Solver/TiDE_surrogate/data_processing\n"
     ]
    },
    {
     "name": "stderr",
     "output_type": "stream",
     "text": [
      "Processing Time Steps: 100%|██████████| 6295/6295 [02:53<00:00, 36.35it/s]\n",
      "100%|██████████| 6294/6294 [00:37<00:00, 168.99it/s]\n"
     ]
    },
    {
     "name": "stdout",
     "output_type": "stream",
     "text": [
      "Melt Pool Temperatures for All Time Steps: [ 456.70659139  495.36140133 1118.99273533 ...  543.73997844  542.28076931\n",
      "  540.83146776]\n",
      "Downloaded Yi-Ping:/Exp_10_layer/compressed_laser_profile_90.zarr.zarr.tar.gz to /home/ycv5080/Github/DED/DT_DED/DED_DT_Thermomechanical_Solver/TiDE_surrogate/data_processing/compressed_laser_profile_90.zarr.zarr.tar.gz\n",
      "Decompressed /home/ycv5080/Github/DED/DT_DED/DED_DT_Thermomechanical_Solver/TiDE_surrogate/data_processing/laser_profile_90.zarr.tar.gz into /home/ycv5080/Github/DED/DT_DED/DED_DT_Thermomechanical_Solver/TiDE_surrogate/data_processing\n"
     ]
    },
    {
     "name": "stderr",
     "output_type": "stream",
     "text": [
      "Processing Time Steps: 100%|██████████| 6295/6295 [02:54<00:00, 35.99it/s]\n",
      "100%|██████████| 6294/6294 [00:37<00:00, 168.72it/s]\n"
     ]
    },
    {
     "name": "stdout",
     "output_type": "stream",
     "text": [
      "Melt Pool Temperatures for All Time Steps: [ 430.31007774  504.5739157  1151.42916441 ...  549.96562586  548.46695172\n",
      "  546.97846729]\n",
      "Downloaded Yi-Ping:/Exp_10_layer/compressed_laser_profile_91.zarr.zarr.tar.gz to /home/ycv5080/Github/DED/DT_DED/DED_DT_Thermomechanical_Solver/TiDE_surrogate/data_processing/compressed_laser_profile_91.zarr.zarr.tar.gz\n",
      "Decompressed /home/ycv5080/Github/DED/DT_DED/DED_DT_Thermomechanical_Solver/TiDE_surrogate/data_processing/laser_profile_91.zarr.tar.gz into /home/ycv5080/Github/DED/DT_DED/DED_DT_Thermomechanical_Solver/TiDE_surrogate/data_processing\n"
     ]
    },
    {
     "name": "stderr",
     "output_type": "stream",
     "text": [
      "Processing Time Steps: 100%|██████████| 6295/6295 [02:51<00:00, 36.66it/s]\n",
      "100%|██████████| 6294/6294 [00:36<00:00, 170.76it/s]\n"
     ]
    },
    {
     "name": "stdout",
     "output_type": "stream",
     "text": [
      "Melt Pool Temperatures for All Time Steps: [ 451.206217    481.40339247 1087.48523465 ...  536.07951524  534.67006749\n",
      "  533.27015835]\n",
      "Downloaded Yi-Ping:/Exp_10_layer/compressed_laser_profile_92.zarr.zarr.tar.gz to /home/ycv5080/Github/DED/DT_DED/DED_DT_Thermomechanical_Solver/TiDE_surrogate/data_processing/compressed_laser_profile_92.zarr.zarr.tar.gz\n",
      "Decompressed /home/ycv5080/Github/DED/DT_DED/DED_DT_Thermomechanical_Solver/TiDE_surrogate/data_processing/laser_profile_92.zarr.tar.gz into /home/ycv5080/Github/DED/DT_DED/DED_DT_Thermomechanical_Solver/TiDE_surrogate/data_processing\n"
     ]
    },
    {
     "name": "stderr",
     "output_type": "stream",
     "text": [
      "Processing Time Steps: 100%|██████████| 6295/6295 [02:50<00:00, 36.92it/s]\n",
      "  0%|          | 21/6294 [00:00<00:30, 205.56it/s]"
     ]
    },
    {
     "name": "stdout",
     "output_type": "stream",
     "text": [
      "Not enough data points for interpolation at time step 1.\n",
      "No data available for time step 1.\n"
     ]
    },
    {
     "name": "stderr",
     "output_type": "stream",
     "text": [
      "100%|██████████| 6294/6294 [00:36<00:00, 171.74it/s]\n"
     ]
    },
    {
     "name": "stdout",
     "output_type": "stream",
     "text": [
      "Melt Pool Temperatures for All Time Steps: [         nan 450.99850701 979.82797412 ... 531.83279819 530.44959334\n",
      " 529.07574433]\n",
      "Downloaded Yi-Ping:/Exp_10_layer/compressed_laser_profile_93.zarr.zarr.tar.gz to /home/ycv5080/Github/DED/DT_DED/DED_DT_Thermomechanical_Solver/TiDE_surrogate/data_processing/compressed_laser_profile_93.zarr.zarr.tar.gz\n",
      "Decompressed /home/ycv5080/Github/DED/DT_DED/DED_DT_Thermomechanical_Solver/TiDE_surrogate/data_processing/laser_profile_93.zarr.tar.gz into /home/ycv5080/Github/DED/DT_DED/DED_DT_Thermomechanical_Solver/TiDE_surrogate/data_processing\n"
     ]
    },
    {
     "name": "stderr",
     "output_type": "stream",
     "text": [
      "Processing Time Steps: 100%|██████████| 6295/6295 [02:51<00:00, 36.63it/s]\n",
      "100%|██████████| 6294/6294 [00:37<00:00, 169.27it/s]\n"
     ]
    },
    {
     "name": "stdout",
     "output_type": "stream",
     "text": [
      "Melt Pool Temperatures for All Time Steps: [ 441.13680606  467.89555934 1029.99276458 ...  540.0811881   538.64648739\n",
      "  537.22150281]\n",
      "Downloaded Yi-Ping:/Exp_10_layer/compressed_laser_profile_94.zarr.zarr.tar.gz to /home/ycv5080/Github/DED/DT_DED/DED_DT_Thermomechanical_Solver/TiDE_surrogate/data_processing/compressed_laser_profile_94.zarr.zarr.tar.gz\n",
      "Decompressed /home/ycv5080/Github/DED/DT_DED/DED_DT_Thermomechanical_Solver/TiDE_surrogate/data_processing/laser_profile_94.zarr.tar.gz into /home/ycv5080/Github/DED/DT_DED/DED_DT_Thermomechanical_Solver/TiDE_surrogate/data_processing\n"
     ]
    },
    {
     "name": "stderr",
     "output_type": "stream",
     "text": [
      "Processing Time Steps: 100%|██████████| 6295/6295 [02:55<00:00, 35.88it/s]\n",
      "100%|██████████| 6294/6294 [00:37<00:00, 166.46it/s]\n"
     ]
    },
    {
     "name": "stdout",
     "output_type": "stream",
     "text": [
      "Melt Pool Temperatures for All Time Steps: [ 441.85329196  523.33339644 1224.29010265 ...  552.52606216  551.01130957\n",
      "  549.50686191]\n",
      "Downloaded Yi-Ping:/Exp_10_layer/compressed_laser_profile_95.zarr.zarr.tar.gz to /home/ycv5080/Github/DED/DT_DED/DED_DT_Thermomechanical_Solver/TiDE_surrogate/data_processing/compressed_laser_profile_95.zarr.zarr.tar.gz\n",
      "Decompressed /home/ycv5080/Github/DED/DT_DED/DED_DT_Thermomechanical_Solver/TiDE_surrogate/data_processing/laser_profile_95.zarr.tar.gz into /home/ycv5080/Github/DED/DT_DED/DED_DT_Thermomechanical_Solver/TiDE_surrogate/data_processing\n"
     ]
    },
    {
     "name": "stderr",
     "output_type": "stream",
     "text": [
      "Processing Time Steps: 100%|██████████| 6295/6295 [02:52<00:00, 36.54it/s]\n",
      "100%|██████████| 6294/6294 [00:36<00:00, 170.58it/s]\n"
     ]
    },
    {
     "name": "stdout",
     "output_type": "stream",
     "text": [
      "Melt Pool Temperatures for All Time Steps: [ 450.07545713  479.88462418 1080.98997463 ...  542.28124208  540.83215942\n",
      "  539.39290083]\n",
      "Downloaded Yi-Ping:/Exp_10_layer/compressed_laser_profile_96.zarr.zarr.tar.gz to /home/ycv5080/Github/DED/DT_DED/DED_DT_Thermomechanical_Solver/TiDE_surrogate/data_processing/compressed_laser_profile_96.zarr.zarr.tar.gz\n",
      "Decompressed /home/ycv5080/Github/DED/DT_DED/DED_DT_Thermomechanical_Solver/TiDE_surrogate/data_processing/laser_profile_96.zarr.tar.gz into /home/ycv5080/Github/DED/DT_DED/DED_DT_Thermomechanical_Solver/TiDE_surrogate/data_processing\n"
     ]
    },
    {
     "name": "stderr",
     "output_type": "stream",
     "text": [
      "Processing Time Steps: 100%|██████████| 6295/6295 [02:51<00:00, 36.74it/s]\n",
      "100%|██████████| 6294/6294 [00:37<00:00, 170.05it/s]\n"
     ]
    },
    {
     "name": "stdout",
     "output_type": "stream",
     "text": [
      "Melt Pool Temperatures for All Time Steps: [ 438.28997764  458.86722736 1013.78039897 ...  538.01449499  536.59236962\n",
      "  535.17987503]\n",
      "Downloaded Yi-Ping:/Exp_10_layer/compressed_laser_profile_97.zarr.zarr.tar.gz to /home/ycv5080/Github/DED/DT_DED/DED_DT_Thermomechanical_Solver/TiDE_surrogate/data_processing/compressed_laser_profile_97.zarr.zarr.tar.gz\n",
      "Decompressed /home/ycv5080/Github/DED/DT_DED/DED_DT_Thermomechanical_Solver/TiDE_surrogate/data_processing/laser_profile_97.zarr.tar.gz into /home/ycv5080/Github/DED/DT_DED/DED_DT_Thermomechanical_Solver/TiDE_surrogate/data_processing\n"
     ]
    },
    {
     "name": "stderr",
     "output_type": "stream",
     "text": [
      "Processing Time Steps: 100%|██████████| 6295/6295 [02:55<00:00, 35.92it/s]\n",
      "100%|██████████| 6294/6294 [00:37<00:00, 169.14it/s]\n"
     ]
    },
    {
     "name": "stdout",
     "output_type": "stream",
     "text": [
      "Melt Pool Temperatures for All Time Steps: [ 429.69428887  503.65370272 1147.61570239 ...  549.23591753  547.74242068\n",
      "  546.25907135]\n",
      "Downloaded Yi-Ping:/Exp_10_layer/compressed_laser_profile_98.zarr.zarr.tar.gz to /home/ycv5080/Github/DED/DT_DED/DED_DT_Thermomechanical_Solver/TiDE_surrogate/data_processing/compressed_laser_profile_98.zarr.zarr.tar.gz\n",
      "Decompressed /home/ycv5080/Github/DED/DT_DED/DED_DT_Thermomechanical_Solver/TiDE_surrogate/data_processing/laser_profile_98.zarr.tar.gz into /home/ycv5080/Github/DED/DT_DED/DED_DT_Thermomechanical_Solver/TiDE_surrogate/data_processing\n"
     ]
    },
    {
     "name": "stderr",
     "output_type": "stream",
     "text": [
      "Processing Time Steps: 100%|██████████| 6295/6295 [02:55<00:00, 35.93it/s]\n",
      "100%|██████████| 6294/6294 [00:37<00:00, 169.19it/s]\n"
     ]
    },
    {
     "name": "stdout",
     "output_type": "stream",
     "text": [
      "Melt Pool Temperatures for All Time Steps: [ 433.92778707  510.88415607 1174.20780206 ...  556.91896312  555.37544578\n",
      "  553.84245105]\n",
      "Downloaded Yi-Ping:/Exp_10_layer/compressed_laser_profile_99.zarr.zarr.tar.gz to /home/ycv5080/Github/DED/DT_DED/DED_DT_Thermomechanical_Solver/TiDE_surrogate/data_processing/compressed_laser_profile_99.zarr.zarr.tar.gz\n",
      "Decompressed /home/ycv5080/Github/DED/DT_DED/DED_DT_Thermomechanical_Solver/TiDE_surrogate/data_processing/laser_profile_99.zarr.tar.gz into /home/ycv5080/Github/DED/DT_DED/DED_DT_Thermomechanical_Solver/TiDE_surrogate/data_processing\n"
     ]
    },
    {
     "name": "stderr",
     "output_type": "stream",
     "text": [
      "Processing Time Steps: 100%|██████████| 6295/6295 [02:55<00:00, 35.89it/s]\n",
      "100%|██████████| 6294/6294 [00:37<00:00, 166.17it/s]\n"
     ]
    },
    {
     "name": "stdout",
     "output_type": "stream",
     "text": [
      "Melt Pool Temperatures for All Time Steps: [ 443.85380522  526.35343009 1237.00192419 ...  552.57601387  551.06091596\n",
      "  549.55612631]\n"
     ]
    },
    {
     "name": "stderr",
     "output_type": "stream",
     "text": [
      "2024/08/16 02:13:23 ERROR : OneDrive root 'Exp_10_layer/compressed_laser_profile_100.zarr.zarr.tar.gz': error reading source root directory: directory not found\n",
      "2024/08/16 02:13:23 ERROR : Attempt 1/3 failed with 1 errors and: directory not found\n",
      "2024/08/16 02:13:23 ERROR : OneDrive root 'Exp_10_layer/compressed_laser_profile_100.zarr.zarr.tar.gz': error reading source root directory: directory not found\n",
      "2024/08/16 02:13:23 ERROR : Attempt 2/3 failed with 1 errors and: directory not found\n",
      "2024/08/16 02:13:23 ERROR : OneDrive root 'Exp_10_layer/compressed_laser_profile_100.zarr.zarr.tar.gz': error reading source root directory: directory not found\n",
      "2024/08/16 02:13:23 ERROR : Attempt 3/3 failed with 1 errors and: directory not found\n",
      "2024/08/16 02:13:23 Failed to copy: directory not found\n"
     ]
    },
    {
     "ename": "CalledProcessError",
     "evalue": "Command '['rclone', 'copy', 'Yi-Ping:/Exp_10_layer/compressed_laser_profile_100.zarr.zarr.tar.gz', '/home/ycv5080/Github/DED/DT_DED/DED_DT_Thermomechanical_Solver/TiDE_surrogate/data_processing']' returned non-zero exit status 3.",
     "output_type": "error",
     "traceback": [
      "\u001b[0;31m---------------------------------------------------------------------------\u001b[0m",
      "\u001b[0;31mCalledProcessError\u001b[0m                        Traceback (most recent call last)",
      "Cell \u001b[0;32mIn[55], line 11\u001b[0m\n\u001b[1;32m      8\u001b[0m     laser_power_profile_number \u001b[38;5;241m=\u001b[39m \u001b[38;5;241m81\u001b[39m\n\u001b[1;32m     10\u001b[0m \u001b[38;5;66;03m# download\u001b[39;00m\n\u001b[0;32m---> 11\u001b[0m \u001b[43mdownload_with_progress\u001b[49m\u001b[43m(\u001b[49m\u001b[38;5;124;43mf\u001b[39;49m\u001b[38;5;124;43m'\u001b[39;49m\u001b[38;5;124;43mYi-Ping:/Exp_10_layer/compressed_laser_profile_\u001b[39;49m\u001b[38;5;132;43;01m{\u001b[39;49;00m\u001b[43mlaser_power_profile_number\u001b[49m\u001b[38;5;132;43;01m}\u001b[39;49;00m\u001b[38;5;124;43m.zarr.zarr.tar.gz\u001b[39;49m\u001b[38;5;124;43m'\u001b[39;49m\u001b[43m,\u001b[49m\u001b[43m \u001b[49m\u001b[38;5;124;43m'\u001b[39;49m\u001b[38;5;124;43m/home/ycv5080/Github/DED/DT_DED/DED_DT_Thermomechanical_Solver/TiDE_surrogate/data_processing\u001b[39;49m\u001b[38;5;124;43m'\u001b[39;49m\u001b[43m)\u001b[49m\n\u001b[1;32m     12\u001b[0m \u001b[38;5;66;03m# decompress\u001b[39;00m\n\u001b[1;32m     13\u001b[0m file_path \u001b[38;5;241m=\u001b[39m \u001b[38;5;124mf\u001b[39m\u001b[38;5;124m\"\u001b[39m\u001b[38;5;124m/home/ycv5080/Github/DED/DT_DED/DED_DT_Thermomechanical_Solver/TiDE_surrogate/data_processing/laser_profile_\u001b[39m\u001b[38;5;132;01m{\u001b[39;00mlaser_power_profile_number\u001b[38;5;132;01m}\u001b[39;00m\u001b[38;5;124m.zarr.tar.gz\u001b[39m\u001b[38;5;124m\"\u001b[39m\n",
      "Cell \u001b[0;32mIn[42], line 6\u001b[0m, in \u001b[0;36mdownload_with_progress\u001b[0;34m(source_path, target_directory)\u001b[0m\n\u001b[1;32m      3\u001b[0m local_compressed_file_path \u001b[38;5;241m=\u001b[39m os\u001b[38;5;241m.\u001b[39mpath\u001b[38;5;241m.\u001b[39mjoin(target_directory, os\u001b[38;5;241m.\u001b[39mpath\u001b[38;5;241m.\u001b[39mbasename(source_path))\n\u001b[1;32m      5\u001b[0m \u001b[38;5;66;03m# Download the compressed file\u001b[39;00m\n\u001b[0;32m----> 6\u001b[0m \u001b[43msubprocess\u001b[49m\u001b[38;5;241;43m.\u001b[39;49m\u001b[43mrun\u001b[49m\u001b[43m(\u001b[49m\u001b[43m[\u001b[49m\u001b[38;5;124;43m'\u001b[39;49m\u001b[38;5;124;43mrclone\u001b[39;49m\u001b[38;5;124;43m'\u001b[39;49m\u001b[43m,\u001b[49m\u001b[43m \u001b[49m\u001b[38;5;124;43m'\u001b[39;49m\u001b[38;5;124;43mcopy\u001b[39;49m\u001b[38;5;124;43m'\u001b[39;49m\u001b[43m,\u001b[49m\u001b[43m \u001b[49m\u001b[43msource_path\u001b[49m\u001b[43m,\u001b[49m\u001b[43m \u001b[49m\u001b[43mtarget_directory\u001b[49m\u001b[43m]\u001b[49m\u001b[43m,\u001b[49m\u001b[43m \u001b[49m\u001b[43mcheck\u001b[49m\u001b[38;5;241;43m=\u001b[39;49m\u001b[38;5;28;43;01mTrue\u001b[39;49;00m\u001b[43m)\u001b[49m\n\u001b[1;32m      7\u001b[0m \u001b[38;5;28mprint\u001b[39m(\u001b[38;5;124mf\u001b[39m\u001b[38;5;124m\"\u001b[39m\u001b[38;5;124mDownloaded \u001b[39m\u001b[38;5;132;01m{\u001b[39;00msource_path\u001b[38;5;132;01m}\u001b[39;00m\u001b[38;5;124m to \u001b[39m\u001b[38;5;132;01m{\u001b[39;00mlocal_compressed_file_path\u001b[38;5;132;01m}\u001b[39;00m\u001b[38;5;124m\"\u001b[39m)\n",
      "File \u001b[0;32m~/miniconda3/envs/GAMMA_TiDE/lib/python3.10/subprocess.py:526\u001b[0m, in \u001b[0;36mrun\u001b[0;34m(input, capture_output, timeout, check, *popenargs, **kwargs)\u001b[0m\n\u001b[1;32m    524\u001b[0m     retcode \u001b[38;5;241m=\u001b[39m process\u001b[38;5;241m.\u001b[39mpoll()\n\u001b[1;32m    525\u001b[0m     \u001b[38;5;28;01mif\u001b[39;00m check \u001b[38;5;129;01mand\u001b[39;00m retcode:\n\u001b[0;32m--> 526\u001b[0m         \u001b[38;5;28;01mraise\u001b[39;00m CalledProcessError(retcode, process\u001b[38;5;241m.\u001b[39margs,\n\u001b[1;32m    527\u001b[0m                                  output\u001b[38;5;241m=\u001b[39mstdout, stderr\u001b[38;5;241m=\u001b[39mstderr)\n\u001b[1;32m    528\u001b[0m \u001b[38;5;28;01mreturn\u001b[39;00m CompletedProcess(process\u001b[38;5;241m.\u001b[39margs, retcode, stdout, stderr)\n",
      "\u001b[0;31mCalledProcessError\u001b[0m: Command '['rclone', 'copy', 'Yi-Ping:/Exp_10_layer/compressed_laser_profile_100.zarr.zarr.tar.gz', '/home/ycv5080/Github/DED/DT_DED/DED_DT_Thermomechanical_Solver/TiDE_surrogate/data_processing']' returned non-zero exit status 3."
     ]
    }
   ],
   "source": [
    "laser_power_profile_number = 1\n",
    "for laser_number in range(99):\n",
    "\n",
    "# laser_power_profile_number = 0\n",
    "# for laser_number in range(1):\n",
    "    laser_power_profile_number += 1\n",
    "    if laser_power_profile_number == 80:\n",
    "        laser_power_profile_number = 81\n",
    "    \n",
    "    # download\n",
    "    download_with_progress(f'Yi-Ping:/Exp_10_layer/compressed_laser_profile_{laser_power_profile_number}.zarr.zarr.tar.gz', '/home/ycv5080/Github/DED/DT_DED/DED_DT_Thermomechanical_Solver/TiDE_surrogate/data_processing')\n",
    "    # decompress\n",
    "    file_path = f\"/home/ycv5080/Github/DED/DT_DED/DED_DT_Thermomechanical_Solver/TiDE_surrogate/data_processing/laser_profile_{laser_power_profile_number}.zarr.tar.gz\"\n",
    "    target_directory = '/home/ycv5080/Github/DED/DT_DED/DED_DT_Thermomechanical_Solver/TiDE_surrogate/data_processing' # Change this to your actual target directory\n",
    "    decompress_tar_gz(file_path, target_directory)\n",
    "    \n",
    "    # Assuming nodes_df is already defined and contains 'x', 'y', 'z' columns\n",
    "    # If not, you'll need to read the CSV file as before\n",
    "    filename = '/home/ycv5080/Github/DED/DT_DED/DED_DT_Thermomechanical_Solver/TiDE_surrogate/data_processing/domain_nodes.csv'\n",
    "    nodes_df = pd.read_csv(filename)\n",
    "\n",
    "    # Add a 'node_number' column starting from 0\n",
    "    nodes_df['node_number'] = np.arange(len(nodes_df))\n",
    "    \n",
    "    # Paths to the Zarr arrays for x, y, and z coordinates\n",
    "    file_paths = {\n",
    "        'x': f\"/home/ycv5080/Github/DED/DT_DED/DED_DT_Thermomechanical_Solver/TiDE_surrogate/data_processing/laser_profile_{laser_power_profile_number}.zarr/dt_pos_x\",\n",
    "        'y': f\"/home/ycv5080/Github/DED/DT_DED/DED_DT_Thermomechanical_Solver/TiDE_surrogate/data_processing/laser_profile_{laser_power_profile_number}.zarr/dt_pos_y\",\n",
    "        'z': f\"/home/ycv5080/Github/DED/DT_DED/DED_DT_Thermomechanical_Solver/TiDE_surrogate/data_processing/laser_profile_{laser_power_profile_number}.zarr/dt_pos_z\"\n",
    "    }\n",
    "\n",
    "    # Convert each Zarr array to a DataFrame\n",
    "    dfs = {coord: zarr_to_df(path) for coord, path in file_paths.items()}\n",
    "\n",
    "    # Assuming the DataFrames are aligned and correspond to each other row-wise\n",
    "    # Combine the DataFrames into a single DataFrame with x, y, and z columns\n",
    "    tool_path_df = pd.concat([dfs['x'], dfs['y'], dfs['z']], axis=1)\n",
    "    tool_path_df.columns = ['X', 'Y', 'Z']\n",
    "\n",
    "    toolpath_data = tool_path_df.iloc[:6295]\n",
    "\n",
    "    # Desired number of samples for interpolation\n",
    "    desired_samples = 6295\n",
    "\n",
    "    # Interpolating the toolpath data to reduce it to the desired number of samples\n",
    "    df_reduced_laser_location = pd.DataFrame({\n",
    "        'X': np.interp(np.linspace(0, len(toolpath_data)-1, desired_samples), np.arange(len(toolpath_data)), toolpath_data['X']),\n",
    "        'Y': np.interp(np.linspace(0, len(toolpath_data)-1, desired_samples), np.arange(len(toolpath_data)), toolpath_data['Y']),\n",
    "        'Z': np.interp(np.linspace(0, len(toolpath_data)-1, desired_samples), np.arange(len(toolpath_data)), toolpath_data['Z']),})\n",
    "\n",
    "\n",
    "    # Define the limits for x, y, and z\n",
    "    x_limits = (-20, 20)\n",
    "    y_limits = (-20, 20)\n",
    "    z_limits = (0, 8)\n",
    "\n",
    "    # Function to calculate distance to the nearest edge for each limit\n",
    "    def distance_to_nearest_edge(value, limits):\n",
    "        return min(value - limits[0], limits[1] - value)\n",
    "\n",
    "    # Calculating the distances and adding them as new columns\n",
    "    df_reduced_laser_location['Dist_to_nearest_X'] = df_reduced_laser_location['X'].apply(distance_to_nearest_edge, args=(x_limits,))\n",
    "    df_reduced_laser_location['Dist_to_nearest_Y'] = df_reduced_laser_location['Y'].apply(distance_to_nearest_edge, args=(y_limits,))\n",
    "    df_reduced_laser_location['Dist_to_nearest_Z'] = 0\n",
    "\n",
    "\n",
    "    from tqdm import tqdm\n",
    "\n",
    "    # Load node locations (assuming this is already loaded as nodes_df with 'x', 'y', 'z', 'node_number')\n",
    "    # Load node temperature data from the Zarr file\n",
    "\n",
    "    solidus_temperature = 400\n",
    "    temp_file_path = f\"/home/ycv5080/Github/DED/DT_DED/DED_DT_Thermomechanical_Solver/TiDE_surrogate/data_processing/laser_profile_{laser_power_profile_number}.zarr/ff_dt_temperature\"\n",
    "    zarr_temp_array = zarr.open(temp_file_path, mode='r')\n",
    "    temperature_data = np.array(zarr_temp_array).squeeze()  # Assuming it's a 2D array (time steps x nodes)\n",
    "    # Pre-define lists to accumulate data\n",
    "    time_steps = []\n",
    "    xs = []\n",
    "    ys = []\n",
    "    zs = []\n",
    "    temperatures = []\n",
    "    \n",
    "    x_range = 1.5\n",
    "    y_range = 1.5\n",
    "    z_range = 4\n",
    "    half_x_range = x_range / 2\n",
    "    half_y_range = y_range / 2\n",
    "\n",
    "    melt_pool_depth_save = np.empty((len(toolpath_data),1))\n",
    "\n",
    "    for specific_time_step in tqdm(range(len(toolpath_data)), desc=\"Processing Time Steps\"):\n",
    "        specific_temperatures = temperature_data[specific_time_step, :]\n",
    "        nodes_df['temperature'] = specific_temperatures\n",
    "\n",
    "        # Filter nodes above solidus temperature and find the max z\n",
    "        nodes_above_solidus = nodes_df[nodes_df['temperature'] > solidus_temperature]\n",
    "        max_z = nodes_above_solidus['z'].max()\n",
    "\n",
    "        # Filter for nodes with max_z\n",
    "        for _, row in nodes_above_solidus[nodes_above_solidus['z'] == max_z].iterrows():\n",
    "            time_steps.append(specific_time_step)\n",
    "            xs.append(row['x'])\n",
    "            ys.append(row['y'])\n",
    "            zs.append(row['z'])\n",
    "            temperatures.append(row['temperature'])\n",
    "    # Filter nodes within the search box\n",
    "        from scipy.interpolate import griddata, Rbf, RBFInterpolator\n",
    "        laser_location_x = toolpath_data[\"X\"][specific_time_step]\n",
    "        laser_location_y = toolpath_data[\"Y\"][specific_time_step]\n",
    "        laser_location_z = toolpath_data[\"Z\"][specific_time_step]\n",
    "        \n",
    "        \n",
    "        in_cube_cond = (nodes_df[\"x\"]<= float(laser_location_x) + x_range/2) & \\\n",
    "                        (nodes_df[\"x\"]>= float(laser_location_x) - x_range/2) & \\\n",
    "                        (nodes_df[\"y\"]<= float(laser_location_y) + y_range/2) & \\\n",
    "                        (nodes_df[\"y\"]>= float(laser_location_y) - y_range/2) & \\\n",
    "                        (nodes_df[\"z\"]>= float(laser_location_z) - z_range)\n",
    "        \n",
    "        nodes_melt_pool_range = nodes_df[in_cube_cond]\n",
    "        \n",
    "        # Check if we have any nodes in the melt pool range\n",
    "        if not nodes_melt_pool_range.empty:\n",
    "            try:\n",
    "                points = nodes_melt_pool_range[['x', 'y', 'z']].values\n",
    "                values = nodes_melt_pool_range['temperature'].values\n",
    "\n",
    "                # # Define the grid for interpolation\n",
    "                grid_x, grid_y, grid_z = np.mgrid[\n",
    "                    laser_location_x - half_x_range:laser_location_x + half_x_range:5j,\n",
    "                    laser_location_y - half_y_range:laser_location_y + half_y_range:5j,\n",
    "                    max(laser_location_z - z_range, nodes_melt_pool_range['z'].min()):laser_location_z:50j\n",
    "                ]\n",
    "\n",
    "                # # Perform interpolation using griddata\n",
    "                # temp_interp = griddata(points, values, (grid_x, grid_y, grid_z), method='cubic')\n",
    "                \n",
    "                # using RBF            \n",
    "                # rbf_cube = Rbf(nodes_melt_pool_range['x'], nodes_melt_pool_range['y'], nodes_melt_pool_range['z'],nodes_melt_pool_range['temperature'])\n",
    "                # temp_interp = rbf_cube(grid_x, grid_y, grid_z)\n",
    "                \n",
    "                # using RBFInterpolator\n",
    "                rbf_cube = RBFInterpolator(points, values)\n",
    "                points_3D = np.vstack([grid_x.ravel(), grid_y.ravel(), grid_z.ravel()]).T\n",
    "                temp_interp = rbf_cube(points_3D)\n",
    "                temp_interp = temp_interp.reshape(grid_x.shape)\n",
    "                \n",
    "                \n",
    "                # # Process interpolated temperature data\n",
    "                mask_above_solidus = temp_interp >= 1600\n",
    "                mp_z = grid_z[mask_above_solidus]\n",
    "                melt_pool_depth = np.max(mp_z) - np.min(mp_z) - 0.75\n",
    "            except:\n",
    "                melt_pool_depth = 0\n",
    "        else: \n",
    "            melt_pool_depth = 0\n",
    "        \n",
    "        melt_pool_depth_save[specific_time_step] = melt_pool_depth\n",
    "        \n",
    "    # Load the time index from the Zarr file\n",
    "    file_path = f\"/home/ycv5080/Github/DED/DT_DED/DED_DT_Thermomechanical_Solver/TiDE_surrogate/data_processing/laser_profile_{laser_power_profile_number}.zarr/timestamp\"\n",
    "    zarr_array = zarr.open(file_path, mode='r')\n",
    "    time_index_array = np.array(zarr_array).squeeze()[:6295]  # Assuming it's a 1D array\n",
    "\n",
    "    # Convert lists to DataFrame\n",
    "    all_nodes_with_max_z = pd.DataFrame({\n",
    "        'time_step': time_steps,\n",
    "        'x': xs,\n",
    "        'y': ys,\n",
    "        'z': zs,\n",
    "        'temperature': temperatures\n",
    "    })\n",
    "\n",
    "\n",
    "        # Paths to the Zarr arrays for x, y, and z coordinates\n",
    "    file_paths = {\n",
    "        'x': f\"/home/ycv5080/Github/DED/DT_DED/DED_DT_Thermomechanical_Solver/TiDE_surrogate/data_processing/laser_profile_{laser_power_profile_number}.zarr/dt_pos_x\",\n",
    "        'y': f\"/home/ycv5080/Github/DED/DT_DED/DED_DT_Thermomechanical_Solver/TiDE_surrogate/data_processing/laser_profile_{laser_power_profile_number}.zarr/dt_pos_y\",\n",
    "        'z': f\"/home/ycv5080/Github/DED/DT_DED/DED_DT_Thermomechanical_Solver/TiDE_surrogate/data_processing/laser_profile_{laser_power_profile_number}.zarr/dt_pos_z\"\n",
    "    }\n",
    "\n",
    "    # Convert each Zarr array to a DataFrame\n",
    "    dfs = {coord: zarr_to_df(path) for coord, path in file_paths.items()}\n",
    "\n",
    "    # Assuming the DataFrames are aligned and correspond to each other row-wise\n",
    "    # Combine the DataFrames into a single DataFrame with x, y, and z columns\n",
    "    tool_path_df = pd.concat([dfs['x'], dfs['y'], dfs['z']], axis=1)\n",
    "    tool_path_df.columns = ['x', 'y', 'z']\n",
    "    #tool_path_df = tool_path_df.iloc[1:]\n",
    "    # Now `tool_path_df` contains the combined tool path with x, y, and z coordinates\n",
    "\n",
    "\n",
    "    # Calculating the difference (delta) for each axis to determine direction change\n",
    "    tool_path_df['dx'] = tool_path_df['x'].diff()\n",
    "    tool_path_df['dy'] = tool_path_df['y'].diff()\n",
    "    tool_path_df['dz'] = tool_path_df['z'].diff()\n",
    "\n",
    "    # Since calculating direction at each second requires time data which is not provided,\n",
    "    # We'll just calculate the direction change between each recorded point.\n",
    "    # Note: For accurate per-second analysis, time data would be necessary.\n",
    "\n",
    "    # Simply indicating direction change without normalization for simplicity\n",
    "    direction_changes = tool_path_df[['dx', 'dy', 'dz']].fillna(0)\n",
    "\n",
    "    direction_changes\n",
    "\n",
    "\n",
    "    direction_changes_df = pd.DataFrame(direction_changes)\n",
    "\n",
    "    # Calculate the magnitude of each vector\n",
    "    magnitude = (direction_changes_df['dx']**2 + direction_changes_df['dy']**2 + direction_changes_df['dz']**2)**0.5\n",
    "\n",
    "    # Avoid division by zero by setting zero magnitudes to 1 (effectively making the direction vector [0,0,0] for no movement)\n",
    "    magnitude[magnitude == 0] = 1\n",
    "\n",
    "    # Calculate unit vector components\n",
    "    direction_changes_df['unit_dx'] = direction_changes_df['dx'] / magnitude\n",
    "    direction_changes_df['unit_dy'] = direction_changes_df['dy'] / magnitude\n",
    "    direction_changes_df['unit_dz'] = direction_changes_df['dz'] / magnitude\n",
    "\n",
    "    direction_changes_df[['unit_dx', 'unit_dy', 'unit_dz']]\n",
    "    \n",
    "    # Assuming all_nodes_with_max_z and direction_changes_df are pre-loaded\n",
    "\n",
    "    solidus_temp = 1648.15\n",
    "    liquidus_temp = 1673.15\n",
    "    \n",
    "    # Collecting melt pool temperatures for all time steps\n",
    "    melt_pool_temperatures = collect_melt_pool_temperatures()\n",
    "    print(\"Melt Pool Temperatures for All Time Steps:\", melt_pool_temperatures)\n",
    "\n",
    "    # Read the data from the file 'toolpath.crs'\n",
    "    file_path = '/home/ycv5080/Github/DED/DT_DED/DED_DT_Thermomechanical_Solver/TiDE_surrogate/data_processing/toolpath.crs'\n",
    "    df_toolpath_crs = pd.read_csv(file_path, sep='\\t', header=None, names=['Time', 'X', 'Y', 'Z', 'Laser State'])\n",
    "\n",
    "\n",
    "    # Define the file path to the Zarr array that contains the laser power data\n",
    "    file_path = f\"/home/ycv5080/Github/DED/DT_DED/DED_DT_Thermomechanical_Solver/TiDE_surrogate/data_processing/laser_profile_{laser_power_profile_number}.zarr/dt_laser_power\"\n",
    "\n",
    "    # Open the Zarr array directly (ensure this is the correct path to the array)\n",
    "    zarr_array = zarr.open(file_path, mode='r')\n",
    "\n",
    "    # Initialize a DataFrame from the Zarr array if it is 2D\n",
    "    if zarr_array.ndim == 2:\n",
    "        # Convert the Zarr array to a NumPy array\n",
    "        numpy_array = np.array(zarr_array)\n",
    "        \n",
    "        # Convert the NumPy array to a DataFrame and rename columns for clarity\n",
    "        laser_power_df = pd.DataFrame(numpy_array)\n",
    "    else:\n",
    "        print(\"The Zarr array is not 2D. Additional processing may be required.\")\n",
    "\n",
    "    laser_power_df = laser_power_df[1:6296]*2.5\n",
    "    \n",
    "    # Define new time steps for interpolation/extrapolation\n",
    "    new_time_steps = np.linspace(0, 225, 6296)\n",
    "\n",
    "    # Interpolate and extrapolate the data for the new time steps\n",
    "    df_interpolated = interpolate_extrapolate_time_steps(df_toolpath_crs, new_time_steps)\n",
    "\n",
    "    # Calculate scanning speeds for the interpolated/extrapolated time steps\n",
    "    scanning_speeds_df = calculate_scanning_speeds(df_interpolated)['scanning_speed']\n",
    "    \n",
    "    \n",
    "    time_index_df = pd.DataFrame({'time_index': time_index_array})\n",
    "    melt_pool_temperatures_df = pd.DataFrame({'melt_pool_temperature': melt_pool_temperatures[:-1]})\n",
    "    melt_pool_depth_df = pd.DataFrame({'melt_pool_depth':melt_pool_depth_save[:-1,-1].squeeze()})\n",
    "    scanning_speeds_df = pd.DataFrame({'scanning_speed': scanning_speeds_df.to_numpy()})\n",
    "    X_df = pd.DataFrame({'X': df_reduced_laser_location['X'].to_numpy()})\n",
    "    Y_df = pd.DataFrame({'Y': df_reduced_laser_location['Y'].to_numpy()})\n",
    "    Z_df = pd.DataFrame({'Z': df_reduced_laser_location['Z'].to_numpy()})\n",
    "    Dist_to_nearest_X_df = pd.DataFrame({'Dist_to_nearest_X': df_reduced_laser_location['Dist_to_nearest_X'].to_numpy()})\n",
    "    Dist_to_nearest_Y_df = pd.DataFrame({'Dist_to_nearest_Y': df_reduced_laser_location['Dist_to_nearest_Y'].to_numpy()})\n",
    "    Dist_to_nearest_Z_df = pd.DataFrame({'Dist_to_nearest_Z': df_reduced_laser_location['Dist_to_nearest_Z'].to_numpy()})\n",
    "    laser_power_number_df = pd.DataFrame({'laser_power_number': df_reduced_laser_location['Dist_to_nearest_Z'].to_numpy()})\n",
    "    laser_power_number_df['laser_power_number']=laser_power_profile_number\n",
    "    laser_power_df.columns = [\"Laser_power\"]\n",
    "    laser_power_df.reset_index(drop=True, inplace=True)\n",
    "    \n",
    "    # Merging all DataFrames into one\n",
    "    \n",
    "    try:\n",
    "        merged_df_new = pd.concat([\n",
    "            time_index_df, \n",
    "            melt_pool_temperatures_df, \n",
    "            melt_pool_depth_df,\n",
    "            scanning_speeds_df, \n",
    "            X_df, \n",
    "            Y_df, \n",
    "            Z_df, \n",
    "            Dist_to_nearest_X_df, \n",
    "            Dist_to_nearest_Y_df, \n",
    "            Dist_to_nearest_Z_df, \n",
    "            laser_power_df,\n",
    "            laser_power_number_df\n",
    "        ], axis=1)\n",
    "    \n",
    "        merged_df = pd.concat([merged_df,merged_df_new],axis=0)\n",
    "\n",
    "    except:\n",
    "        merged_df = pd.concat([\n",
    "            time_index_df, \n",
    "            melt_pool_temperatures_df, \n",
    "            melt_pool_depth_df,\n",
    "            scanning_speeds_df, \n",
    "            X_df, \n",
    "            Y_df, \n",
    "            Z_df, \n",
    "            Dist_to_nearest_X_df, \n",
    "            Dist_to_nearest_Y_df, \n",
    "            Dist_to_nearest_Z_df, \n",
    "            laser_power_df,\n",
    "            laser_power_number_df\n",
    "        ], axis=1)\n",
    "    \n",
    "    \n",
    "    import shutil\n",
    "\n",
    "    os.remove(f\"/home/ycv5080/Github/DED/DT_DED/DED_DT_Thermomechanical_Solver/TiDE_surrogate/data_processing/laser_profile_{laser_power_profile_number}.zarr.tar.gz\")\n",
    "    shutil.rmtree(f\"/home/ycv5080/Github/DED/DT_DED/DED_DT_Thermomechanical_Solver/TiDE_surrogate/data_processing/laser_profile_{laser_power_profile_number}.zarr\")\n",
    "\n",
    "\n",
    "\n",
    "csv_file_path = '/home/ycv5080/Github/DED/DT_DED/DED_DT_Thermomechanical_Solver/TiDE_surrogate/data_processing/merged_data_13_.csv'"
   ]
  },
  {
   "cell_type": "code",
   "execution_count": 54,
   "metadata": {},
   "outputs": [
    {
     "data": {
      "text/plain": [
       "(6294,)"
      ]
     },
     "execution_count": 54,
     "metadata": {},
     "output_type": "execute_result"
    }
   ],
   "source": [
    "melt_pool_depth_save[:-1,-1].squeeze().shape"
   ]
  },
  {
   "cell_type": "code",
   "execution_count": 56,
   "metadata": {},
   "outputs": [],
   "source": [
    "csv_file_path = '/home/ycv5080/Github/DED/DT_DED/DED_DT_Thermomechanical_Solver/TiDE_surrogate/data_processing/merged_df_2_99_temp_depth.csv'\n",
    "merged_df.to_csv(csv_file_path, index=False)"
   ]
  }
 ],
 "metadata": {
  "kernelspec": {
   "display_name": "gamma",
   "language": "python",
   "name": "python3"
  },
  "language_info": {
   "codemirror_mode": {
    "name": "ipython",
    "version": 3
   },
   "file_extension": ".py",
   "mimetype": "text/x-python",
   "name": "python",
   "nbconvert_exporter": "python",
   "pygments_lexer": "ipython3",
   "version": "undefined.undefined.undefined"
  }
 },
 "nbformat": 4,
 "nbformat_minor": 2
}
