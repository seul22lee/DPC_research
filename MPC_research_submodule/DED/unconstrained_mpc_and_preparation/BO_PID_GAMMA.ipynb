{
 "cells": [
  {
   "cell_type": "markdown",
   "metadata": {},
   "source": [
    "# Bayesian Optimization for GAMMA PID\n",
    "\n",
    "use GAMMA_TiDE_BO"
   ]
  },
  {
   "cell_type": "code",
   "execution_count": 7,
   "metadata": {},
   "outputs": [
    {
     "name": "stdout",
     "output_type": "stream",
     "text": [
      "cuda is available\n"
     ]
    }
   ],
   "source": [
    "# Import all the packages we need\n",
    "import numpy as np\n",
    "import pandas as pd\n",
    "from typing import Optional, Tuple\n",
    "import sys\n",
    "\n",
    "import matplotlib.pyplot as plt\n",
    "from matplotlib.animation import FuncAnimation\n",
    "from IPython.display import HTML\n",
    "\n",
    "from pickle import dump\n",
    "from sklearn.preprocessing import MinMaxScaler\n",
    "import time\n",
    "from tqdm import tqdm\n",
    "\n",
    "# from pytorch_forecasting.metrics.quantile import QuantileLoss\n",
    "\n",
    "# from scipy.optimize import minimize, Bounds\n",
    "\n",
    "# For TiDE\n",
    "import torch\n",
    "import torch.nn as nn\n",
    "import torch.optim as optim\n",
    "from torch.utils.data import DataLoader, TensorDataset\n",
    "device = torch.device(\"cuda\" if torch.cuda.is_available() else \"cpu\")\n",
    "torch.cuda.set_device(0)\n",
    "if torch.cuda.is_available():\n",
    "    print(\"cuda is available\")\n",
    "else:\n",
    "    print(\"cuda is NOT available\")\n",
    "\n",
    "from sklearn.preprocessing import StandardScaler\n",
    "from torch.nn import functional as F\n",
    "\n",
    "import os\n",
    "import shutil\n",
    "import warnings\n",
    "import pickle\n",
    "\n",
    "warnings.filterwarnings(\"ignore\")\n",
    "import logging\n",
    "\n",
    "logging.disable(logging.CRITICAL)\n",
    "\n",
    "# import functions\n",
    "from TiDE import TideModule, quantile_loss, TiDE_forward\n",
    "\n",
    "from RobustMPC_pytorch import RMPC\n",
    "from nn_functions import surrogate\n",
    "from torchmin import minimize as pytorch_minimize\n",
    "from scipy.optimize import minimize, Bounds\n",
    "\n",
    "from moving_average import moving_average_1d\n",
    "import copy\n",
    "\n",
    "from GAMMA_obj import GAMMA_obj\n",
    "from obj_fun import RMPC_obj_wo_constraint, RMPC_obj_wo_constraint_scipy\n",
    "from GAMMA_MPC import GAMMA_MPC\n",
    "\n",
    "\n",
    "# for BO\n",
    "import pandas as pd\n",
    "from botorch.utils.transforms import unnormalize, normalize\n",
    "from botorch.models import SingleTaskGP\n",
    "from gpytorch.mlls import ExactMarginalLogLikelihood\n",
    "from botorch.models.transforms.outcome import Standardize\n",
    "from torch.optim import Adam\n",
    "\n",
    "import gpytorch\n",
    "import scipy\n",
    "from scipy.stats import qmc\n",
    "from scipy.stats import linregress\n"
   ]
  },
  {
   "cell_type": "markdown",
   "metadata": {},
   "source": [
    "## Design of experiment"
   ]
  },
  {
   "cell_type": "markdown",
   "metadata": {},
   "source": [
    "## Run Initial designs"
   ]
  },
  {
   "cell_type": "code",
   "execution_count": 8,
   "metadata": {},
   "outputs": [],
   "source": [
    "def generate_sobol_sequence(dimensions, n_points, lower_bounds, upper_bounds):\n",
    "    # Create a Sobol sequence generator\n",
    "    sobol = qmc.Sobol(d=dimensions)\n",
    "    \n",
    "    # Generate n_points points in the Sobol sequence\n",
    "    sequence = sobol.random(n=n_points)\n",
    "    \n",
    "    # Scale the sequence to the specified bounds\n",
    "    scaled_sequence = qmc.scale(sequence, lower_bounds, upper_bounds)\n",
    "    \n",
    "    return scaled_sequence\n"
   ]
  },
  {
   "cell_type": "markdown",
   "metadata": {},
   "source": [
    "#### DOE requirements"
   ]
  },
  {
   "cell_type": "code",
   "execution_count": 9,
   "metadata": {},
   "outputs": [],
   "source": [
    "dimensions = 3  # Number of dimensions\n",
    "n_points = 30   # Number of points to generate\n",
    "lower_bounds = [0, 0, 0]  # Lower bounds for each dimension\n",
    "upper_bounds = [0.2, 0.02, 0.01]  # Upper bounds for each dimension\n",
    "\n",
    "DOE = generate_sobol_sequence(dimensions, n_points, lower_bounds, upper_bounds)"
   ]
  },
  {
   "cell_type": "code",
   "execution_count": 10,
   "metadata": {},
   "outputs": [
    {
     "data": {
      "text/plain": [
       "array([[1.35052031e-01, 1.73556641e-02, 5.13821038e-03],\n",
       "       [2.64914505e-02, 7.26215404e-03, 3.96368922e-03],\n",
       "       [7.35004669e-02, 1.00472619e-02, 7.67869423e-03],\n",
       "       [1.64946896e-01, 1.78666413e-04, 1.34319224e-03],\n",
       "       [1.81407352e-01, 1.47195392e-02, 3.50572228e-03],\n",
       "       [7.89272448e-02, 4.90092048e-03, 7.47294636e-03],\n",
       "       [2.10783578e-02, 1.77213006e-02, 1.19717337e-03],\n",
       "       [1.18602304e-01, 7.50198608e-03, 9.70037589e-03],\n",
       "       [1.05662487e-01, 1.21109069e-02, 5.36833340e-04],\n",
       "       [7.84327090e-03, 2.01864175e-03, 9.19183339e-03],\n",
       "       [9.21569912e-02, 1.54470265e-02, 2.91578368e-03],\n",
       "       [1.94346406e-01, 5.57967592e-03, 6.73176336e-03],\n",
       "       [1.52982105e-01, 1.94759981e-02, 8.41933036e-03],\n",
       "       [6.16341067e-02, 9.65617327e-03, 1.93256728e-03],\n",
       "       [3.83555219e-02, 1.31223002e-02, 5.64731466e-03],\n",
       "       [1.47013008e-01, 2.90177958e-03, 4.62456957e-03],\n",
       "       [1.38714548e-01, 1.35607123e-02, 8.87023506e-03],\n",
       "       [4.74383023e-02, 3.69143434e-03, 2.29845932e-04],\n",
       "       [5.25528045e-02, 1.89985394e-02, 6.40764792e-03],\n",
       "       [1.61285189e-01, 8.90556756e-03, 2.61604360e-03],\n",
       "       [1.91710441e-01, 1.62391039e-02, 2.23222999e-03],\n",
       "       [9.40147864e-02, 6.02047188e-03, 8.74337073e-03],\n",
       "       [5.99010102e-03, 1.13579173e-02, 4.93163457e-03],\n",
       "       [1.08299930e-01, 1.53876038e-03, 5.96898813e-03],\n",
       "       [1.20652306e-01, 1.81792293e-02, 4.26331437e-03],\n",
       "       [1.82440702e-02, 8.31118669e-03, 5.46228831e-03],\n",
       "       [8.17570025e-02, 1.42225346e-02, 1.65021851e-03],\n",
       "       [1.79355776e-01, 4.13079813e-03, 8.00040645e-03],\n",
       "       [1.73831366e-01, 1.08588464e-02, 7.15130929e-03],\n",
       "       [6.53942266e-02, 6.39017764e-04, 3.19877362e-03]])"
      ]
     },
     "execution_count": 10,
     "metadata": {},
     "output_type": "execute_result"
    }
   ],
   "source": [
    "DOE"
   ]
  },
  {
   "cell_type": "markdown",
   "metadata": {},
   "source": [
    "#### Initialize main function"
   ]
  },
  {
   "cell_type": "code",
   "execution_count": 11,
   "metadata": {},
   "outputs": [],
   "source": [
    "with open('TiDE_params_single_track_square_MV_lp_less_cov.pkl', 'rb') as file:\n",
    "    # 2. Load the data from the pickle file\n",
    "    nominal_params = pickle.load(file)\n",
    "# Load nominal TiDE model\n",
    "nominal_TiDE = nominal_params['model'].to(\"cpu\")\n",
    "P = 50\n",
    "window = 50\n",
    "\n",
    "TiDE = surrogate(nominal_params, nominal_TiDE)\n",
    "\n",
    "INPUT_DATA_DIR = \"data\"\n",
    "SIM_DIR_NAME = \"single_track_square\"\n",
    "BASE_LASER_FILE_DIR = \"laser_power_profiles/csv\"\n",
    "CLOUD_TARGET_BASE_PATH = \"result\"\n",
    "solidus_temp = 2500\n",
    "window = 50\n",
    "sim_interval = 5\n",
    "init_runs = 50\n",
    "\n",
    "def compute_r2(y_true, y_pred):\n",
    "    # Compute the correlation coefficient\n",
    "    correlation_matrix = np.corrcoef(y_true, y_pred)\n",
    "    correlation_xy = correlation_matrix[0, 1]\n",
    "    # Compute R^2\n",
    "    r_squared = correlation_xy**2\n",
    "    return r_squared\n",
    "\n",
    "def run_gamma_with_PID_gain(Kp, Ki, Kd):\n",
    "\n",
    "    GAMMA_class = GAMMA_obj(INPUT_DATA_DIR, SIM_DIR_NAME, BASE_LASER_FILE_DIR, CLOUD_TARGET_BASE_PATH, solidus_temp, window, init_runs, sim_interval)\n",
    "    init_avg = GAMMA_class.run_initial_steps()\n",
    "    init_avg = torch.tensor(init_avg,dtype=torch.float32)\n",
    "\n",
    "    df_one_print = pd.read_csv('single_track_ref.csv')\n",
    "\n",
    "    loc_X_list = df_one_print[\"X\"].to_numpy().reshape(-1,1)\n",
    "    loc_Y_list = df_one_print[\"Y\"].to_numpy().reshape(-1,1)\n",
    "    loc_Z_list = df_one_print[\"Z\"].to_numpy().reshape(-1,1)\n",
    "    dist_X_list = df_one_print[\"Dist_to_nearest_X\"].to_numpy().reshape(-1,1)\n",
    "    dist_Y_list = df_one_print[\"Dist_to_nearest_Y\"].to_numpy().reshape(-1,1)\n",
    "    scan_spd_list = df_one_print[\"scanning_speed\"].to_numpy().reshape(-1,1)\n",
    "    # laser on/off indicator\n",
    "    laser_on_off = df_one_print[\"laser_power_number\"].to_numpy().reshape(-1,1)\n",
    "    # laser power\n",
    "    laser_power_ref = torch.tensor(df_one_print[\"Laser_power\"].to_numpy().reshape(-1,1),dtype=torch.float32)\n",
    "    laser_power_past = laser_power_ref[:window]\n",
    "\n",
    "    # fix_covariates = torch.tensor(np.concatenate((loc_X_list,loc_Y_list,loc_Z_list,dist_X_list,dist_Y_list,scan_spd_list, laser_on_off),axis=1),dtype=torch.float32)\n",
    "    fix_covariates = torch.tensor(np.concatenate((loc_Z_list,dist_X_list,dist_Y_list),axis=1),dtype=torch.float32)\n",
    "\n",
    "    # temporary ref\n",
    "    # apply moving average for mp temp\n",
    "    mp_temp_raw = df_one_print[\"melt_pool_temperature\"].to_numpy()\n",
    "    mp_temp_mv = moving_average_1d(mp_temp_raw,4)\n",
    "    mp_temp = copy.deepcopy(mp_temp_raw)\n",
    "    mp_temp[1:-2] = mp_temp_mv\n",
    "    mp_temp = mp_temp\n",
    "\n",
    "    mp_temp_ref = torch.tensor(mp_temp,dtype=torch.float32)\n",
    "\n",
    "    MPC_GAMMA = GAMMA_MPC(GAMMA_class, TiDE, RMPC_obj_wo_constraint, mp_temp_ref, window, P, fix_covariates, init_avg, laser_power_past)\n",
    "    #N_step = 6021 #6196\n",
    "    #N_step = 6196\n",
    "\n",
    "    N_step = 2000\n",
    "\n",
    "    MPC_GAMMA.PID_Kp = Kp\n",
    "    MPC_GAMMA.PID_Ki = Ki\n",
    "    MPC_GAMMA.PID_Kd = Kd\n",
    "\n",
    "    ref = MPC_GAMMA.ref[:N_step]\n",
    "    \n",
    "    for _ in tqdm(range(N_step)):\n",
    "        MPC_GAMMA.PID_run_one_step()\n",
    "         \n",
    "    return compute_r2(ref, MPC_GAMMA.x_past_save[:N_step].squeeze())\n"
   ]
  },
  {
   "cell_type": "code",
   "execution_count": 12,
   "metadata": {},
   "outputs": [
    {
     "name": "stderr",
     "output_type": "stream",
     "text": [
      "100%|██████████| 250/250 [00:21<00:00, 11.72it/s]\n",
      "100%|██████████| 2000/2000 [14:37<00:00,  2.28it/s]\n"
     ]
    },
    {
     "name": "stdout",
     "output_type": "stream",
     "text": [
      "finish iteration 0\n"
     ]
    },
    {
     "name": "stderr",
     "output_type": "stream",
     "text": [
      "100%|██████████| 250/250 [00:20<00:00, 12.20it/s]\n",
      "100%|██████████| 2000/2000 [14:43<00:00,  2.26it/s]\n"
     ]
    },
    {
     "name": "stdout",
     "output_type": "stream",
     "text": [
      "finish iteration 1\n"
     ]
    },
    {
     "name": "stderr",
     "output_type": "stream",
     "text": [
      "100%|██████████| 250/250 [00:21<00:00, 11.89it/s]\n",
      "100%|██████████| 2000/2000 [14:44<00:00,  2.26it/s]\n"
     ]
    },
    {
     "name": "stdout",
     "output_type": "stream",
     "text": [
      "finish iteration 2\n"
     ]
    },
    {
     "name": "stderr",
     "output_type": "stream",
     "text": [
      "100%|██████████| 250/250 [00:21<00:00, 11.74it/s]\n",
      "100%|██████████| 2000/2000 [14:42<00:00,  2.27it/s]\n"
     ]
    },
    {
     "name": "stdout",
     "output_type": "stream",
     "text": [
      "finish iteration 3\n"
     ]
    },
    {
     "name": "stderr",
     "output_type": "stream",
     "text": [
      "100%|██████████| 250/250 [00:21<00:00, 11.83it/s]\n",
      "100%|██████████| 2000/2000 [14:46<00:00,  2.26it/s]\n"
     ]
    },
    {
     "name": "stdout",
     "output_type": "stream",
     "text": [
      "finish iteration 4\n"
     ]
    },
    {
     "name": "stderr",
     "output_type": "stream",
     "text": [
      "100%|██████████| 250/250 [00:21<00:00, 11.73it/s]\n",
      "100%|██████████| 2000/2000 [14:41<00:00,  2.27it/s]\n"
     ]
    },
    {
     "name": "stdout",
     "output_type": "stream",
     "text": [
      "finish iteration 5\n"
     ]
    },
    {
     "name": "stderr",
     "output_type": "stream",
     "text": [
      "100%|██████████| 250/250 [00:20<00:00, 11.91it/s]\n",
      "100%|██████████| 2000/2000 [14:43<00:00,  2.26it/s]\n"
     ]
    },
    {
     "name": "stdout",
     "output_type": "stream",
     "text": [
      "finish iteration 6\n"
     ]
    },
    {
     "name": "stderr",
     "output_type": "stream",
     "text": [
      "100%|██████████| 250/250 [00:21<00:00, 11.81it/s]\n",
      "100%|██████████| 2000/2000 [14:46<00:00,  2.26it/s]\n"
     ]
    },
    {
     "name": "stdout",
     "output_type": "stream",
     "text": [
      "finish iteration 7\n"
     ]
    },
    {
     "name": "stderr",
     "output_type": "stream",
     "text": [
      "100%|██████████| 250/250 [00:21<00:00, 11.67it/s]\n",
      "100%|██████████| 2000/2000 [14:41<00:00,  2.27it/s]\n"
     ]
    },
    {
     "name": "stdout",
     "output_type": "stream",
     "text": [
      "finish iteration 8\n"
     ]
    },
    {
     "name": "stderr",
     "output_type": "stream",
     "text": [
      "100%|██████████| 250/250 [00:21<00:00, 11.90it/s]\n",
      "100%|██████████| 2000/2000 [14:38<00:00,  2.28it/s]\n"
     ]
    },
    {
     "name": "stdout",
     "output_type": "stream",
     "text": [
      "finish iteration 9\n"
     ]
    },
    {
     "name": "stderr",
     "output_type": "stream",
     "text": [
      "100%|██████████| 250/250 [00:21<00:00, 11.79it/s]\n",
      "100%|██████████| 2000/2000 [14:46<00:00,  2.26it/s]\n"
     ]
    },
    {
     "name": "stdout",
     "output_type": "stream",
     "text": [
      "finish iteration 10\n"
     ]
    },
    {
     "name": "stderr",
     "output_type": "stream",
     "text": [
      "100%|██████████| 250/250 [00:21<00:00, 11.58it/s]\n",
      "100%|██████████| 2000/2000 [14:40<00:00,  2.27it/s]\n"
     ]
    },
    {
     "name": "stdout",
     "output_type": "stream",
     "text": [
      "finish iteration 11\n"
     ]
    },
    {
     "name": "stderr",
     "output_type": "stream",
     "text": [
      "100%|██████████| 250/250 [00:21<00:00, 11.71it/s]\n",
      "100%|██████████| 2000/2000 [14:39<00:00,  2.28it/s]\n"
     ]
    },
    {
     "name": "stdout",
     "output_type": "stream",
     "text": [
      "finish iteration 12\n"
     ]
    },
    {
     "name": "stderr",
     "output_type": "stream",
     "text": [
      "100%|██████████| 250/250 [00:21<00:00, 11.80it/s]\n",
      "100%|██████████| 2000/2000 [14:59<00:00,  2.22it/s]\n"
     ]
    },
    {
     "name": "stdout",
     "output_type": "stream",
     "text": [
      "finish iteration 13\n"
     ]
    },
    {
     "name": "stderr",
     "output_type": "stream",
     "text": [
      "100%|██████████| 250/250 [00:23<00:00, 10.71it/s]\n",
      "100%|██████████| 2000/2000 [15:35<00:00,  2.14it/s]\n"
     ]
    },
    {
     "name": "stdout",
     "output_type": "stream",
     "text": [
      "finish iteration 14\n"
     ]
    },
    {
     "name": "stderr",
     "output_type": "stream",
     "text": [
      "100%|██████████| 250/250 [00:22<00:00, 11.01it/s]\n",
      "100%|██████████| 2000/2000 [15:42<00:00,  2.12it/s]\n"
     ]
    },
    {
     "name": "stdout",
     "output_type": "stream",
     "text": [
      "finish iteration 15\n"
     ]
    },
    {
     "name": "stderr",
     "output_type": "stream",
     "text": [
      "100%|██████████| 250/250 [00:20<00:00, 12.12it/s]\n",
      "100%|██████████| 2000/2000 [14:43<00:00,  2.26it/s]\n"
     ]
    },
    {
     "name": "stdout",
     "output_type": "stream",
     "text": [
      "finish iteration 16\n"
     ]
    },
    {
     "name": "stderr",
     "output_type": "stream",
     "text": [
      "100%|██████████| 250/250 [00:21<00:00, 11.83it/s]\n",
      "100%|██████████| 2000/2000 [14:49<00:00,  2.25it/s]\n"
     ]
    },
    {
     "name": "stdout",
     "output_type": "stream",
     "text": [
      "finish iteration 17\n"
     ]
    },
    {
     "name": "stderr",
     "output_type": "stream",
     "text": [
      "100%|██████████| 250/250 [00:21<00:00, 11.88it/s]\n",
      "100%|██████████| 2000/2000 [14:42<00:00,  2.27it/s]\n"
     ]
    },
    {
     "name": "stdout",
     "output_type": "stream",
     "text": [
      "finish iteration 18\n"
     ]
    },
    {
     "name": "stderr",
     "output_type": "stream",
     "text": [
      "100%|██████████| 250/250 [00:20<00:00, 11.97it/s]\n",
      "100%|██████████| 2000/2000 [14:40<00:00,  2.27it/s]\n"
     ]
    },
    {
     "name": "stdout",
     "output_type": "stream",
     "text": [
      "finish iteration 19\n"
     ]
    },
    {
     "name": "stderr",
     "output_type": "stream",
     "text": [
      "100%|██████████| 250/250 [00:21<00:00, 11.81it/s]\n",
      "100%|██████████| 2000/2000 [14:44<00:00,  2.26it/s]\n"
     ]
    },
    {
     "name": "stdout",
     "output_type": "stream",
     "text": [
      "finish iteration 20\n"
     ]
    },
    {
     "name": "stderr",
     "output_type": "stream",
     "text": [
      "100%|██████████| 250/250 [00:21<00:00, 11.69it/s]\n",
      "100%|██████████| 2000/2000 [14:40<00:00,  2.27it/s]\n"
     ]
    },
    {
     "name": "stdout",
     "output_type": "stream",
     "text": [
      "finish iteration 21\n"
     ]
    },
    {
     "name": "stderr",
     "output_type": "stream",
     "text": [
      "100%|██████████| 250/250 [00:20<00:00, 12.05it/s]\n",
      "100%|██████████| 2000/2000 [14:35<00:00,  2.28it/s]\n"
     ]
    },
    {
     "name": "stdout",
     "output_type": "stream",
     "text": [
      "finish iteration 22\n"
     ]
    },
    {
     "name": "stderr",
     "output_type": "stream",
     "text": [
      "100%|██████████| 250/250 [00:20<00:00, 11.99it/s]\n",
      "100%|██████████| 2000/2000 [14:44<00:00,  2.26it/s]\n"
     ]
    },
    {
     "name": "stdout",
     "output_type": "stream",
     "text": [
      "finish iteration 23\n"
     ]
    },
    {
     "name": "stderr",
     "output_type": "stream",
     "text": [
      "100%|██████████| 250/250 [00:21<00:00, 11.64it/s]\n",
      "100%|██████████| 2000/2000 [14:38<00:00,  2.28it/s]\n"
     ]
    },
    {
     "name": "stdout",
     "output_type": "stream",
     "text": [
      "finish iteration 24\n"
     ]
    },
    {
     "name": "stderr",
     "output_type": "stream",
     "text": [
      "100%|██████████| 250/250 [00:21<00:00, 11.83it/s]\n",
      "100%|██████████| 2000/2000 [14:39<00:00,  2.27it/s]\n"
     ]
    },
    {
     "name": "stdout",
     "output_type": "stream",
     "text": [
      "finish iteration 25\n"
     ]
    },
    {
     "name": "stderr",
     "output_type": "stream",
     "text": [
      "100%|██████████| 250/250 [00:20<00:00, 11.99it/s]\n",
      "100%|██████████| 2000/2000 [09:07<00:00,  3.66it/s]\n"
     ]
    },
    {
     "name": "stdout",
     "output_type": "stream",
     "text": [
      "finish iteration 26\n"
     ]
    },
    {
     "name": "stderr",
     "output_type": "stream",
     "text": [
      "100%|██████████| 250/250 [00:11<00:00, 22.24it/s]\n",
      "100%|██████████| 2000/2000 [08:11<00:00,  4.07it/s]\n"
     ]
    },
    {
     "name": "stdout",
     "output_type": "stream",
     "text": [
      "finish iteration 27\n"
     ]
    },
    {
     "name": "stderr",
     "output_type": "stream",
     "text": [
      "100%|██████████| 250/250 [00:11<00:00, 22.18it/s]\n",
      "100%|██████████| 2000/2000 [08:15<00:00,  4.04it/s]\n"
     ]
    },
    {
     "name": "stdout",
     "output_type": "stream",
     "text": [
      "finish iteration 28\n"
     ]
    },
    {
     "name": "stderr",
     "output_type": "stream",
     "text": [
      "100%|██████████| 250/250 [00:11<00:00, 22.21it/s]\n",
      "100%|██████████| 2000/2000 [08:14<00:00,  4.04it/s]"
     ]
    },
    {
     "name": "stdout",
     "output_type": "stream",
     "text": [
      "finish iteration 29\n"
     ]
    },
    {
     "name": "stderr",
     "output_type": "stream",
     "text": [
      "\n"
     ]
    }
   ],
   "source": [
    "saved_r2_value = np.zeros([n_points,1])\n",
    "\n",
    "for i in range(n_points):\n",
    "    saved_r2_value[i] = run_gamma_with_PID_gain(Kp=DOE[i,0], Ki=DOE[i,1], Kd=DOE[i,2])\n",
    "    print(f\"finish iteration {i}\")\n",
    "\n",
    "\n"
   ]
  },
  {
   "cell_type": "code",
   "execution_count": 13,
   "metadata": {},
   "outputs": [],
   "source": [
    "import pickle\n",
    "\n",
    "with open('BO_output.pkl', 'wb') as f:\n",
    "    pickle.dump(saved_r2_value, f)\n",
    "    \n",
    "with open('BO_input.pkl', 'wb') as f:\n",
    "    pickle.dump(DOE, f)"
   ]
  },
  {
   "cell_type": "markdown",
   "metadata": {},
   "source": [
    "## BO"
   ]
  },
  {
   "cell_type": "code",
   "execution_count": 14,
   "metadata": {},
   "outputs": [
    {
     "name": "stderr",
     "output_type": "stream",
     "text": [
      "100%|██████████| 250/250 [00:11<00:00, 22.39it/s]\n",
      "100%|██████████| 2000/2000 [08:13<00:00,  4.05it/s]\n"
     ]
    },
    {
     "name": "stdout",
     "output_type": "stream",
     "text": [
      "iter = 0, candidate = tensor([[0.0000, 0.0000, 0.0200]], device='cuda:0'), r2 = 0.9553803121880325\n"
     ]
    },
    {
     "name": "stderr",
     "output_type": "stream",
     "text": [
      "100%|██████████| 250/250 [00:11<00:00, 22.31it/s]\n",
      "100%|██████████| 2000/2000 [08:15<00:00,  4.04it/s]\n"
     ]
    },
    {
     "name": "stdout",
     "output_type": "stream",
     "text": [
      "iter = 1, candidate = tensor([[0.0000, 0.0000, 0.0064]], device='cuda:0'), r2 = 0.9618421559988919\n"
     ]
    },
    {
     "name": "stderr",
     "output_type": "stream",
     "text": [
      "100%|██████████| 250/250 [00:11<00:00, 22.26it/s]\n",
      "100%|██████████| 2000/2000 [07:16<00:00,  4.58it/s]\n"
     ]
    },
    {
     "name": "stdout",
     "output_type": "stream",
     "text": [
      "iter = 2, candidate = tensor([[0.0000, 0.0200, 0.0000]], device='cuda:0'), r2 = 0.08848743984556517\n"
     ]
    },
    {
     "name": "stderr",
     "output_type": "stream",
     "text": [
      "100%|██████████| 250/250 [00:10<00:00, 23.72it/s]\n",
      "100%|██████████| 2000/2000 [08:09<00:00,  4.09it/s]\n"
     ]
    },
    {
     "name": "stdout",
     "output_type": "stream",
     "text": [
      "iter = 3, candidate = tensor([[0.2000, 0.0000, 0.0200]], device='cuda:0'), r2 = 0.9061904941852321\n"
     ]
    },
    {
     "name": "stderr",
     "output_type": "stream",
     "text": [
      "100%|██████████| 250/250 [00:12<00:00, 20.77it/s]\n",
      "100%|██████████| 2000/2000 [08:17<00:00,  4.02it/s]\n"
     ]
    },
    {
     "name": "stdout",
     "output_type": "stream",
     "text": [
      "iter = 4, candidate = tensor([[0.2000, 0.0000, 0.0200]], device='cuda:0'), r2 = 0.9102162587185658\n"
     ]
    },
    {
     "name": "stderr",
     "output_type": "stream",
     "text": [
      "100%|██████████| 250/250 [00:11<00:00, 21.61it/s]\n",
      "100%|██████████| 2000/2000 [08:38<00:00,  3.86it/s]\n"
     ]
    },
    {
     "name": "stdout",
     "output_type": "stream",
     "text": [
      "iter = 5, candidate = tensor([[0.2000, 0.0000, 0.0200]], device='cuda:0'), r2 = 0.9102162600018858\n"
     ]
    },
    {
     "name": "stderr",
     "output_type": "stream",
     "text": [
      "100%|██████████| 250/250 [00:12<00:00, 20.19it/s]\n",
      "100%|██████████| 2000/2000 [08:44<00:00,  3.81it/s]\n"
     ]
    },
    {
     "name": "stdout",
     "output_type": "stream",
     "text": [
      "iter = 6, candidate = tensor([[0.2000, 0.0000, 0.0200]], device='cuda:0'), r2 = 0.9102162626527002\n"
     ]
    },
    {
     "name": "stderr",
     "output_type": "stream",
     "text": [
      "100%|██████████| 250/250 [00:12<00:00, 19.95it/s]\n",
      "100%|██████████| 2000/2000 [08:51<00:00,  3.76it/s]\n"
     ]
    },
    {
     "name": "stdout",
     "output_type": "stream",
     "text": [
      "iter = 7, candidate = tensor([[0.2000, 0.0000, 0.0200]], device='cuda:0'), r2 = 0.9102162592339292\n"
     ]
    },
    {
     "name": "stderr",
     "output_type": "stream",
     "text": [
      "100%|██████████| 250/250 [00:12<00:00, 20.54it/s]\n",
      "100%|██████████| 2000/2000 [08:48<00:00,  3.78it/s]\n"
     ]
    },
    {
     "name": "stdout",
     "output_type": "stream",
     "text": [
      "iter = 8, candidate = tensor([[0.1240, 0.0000, 0.0200]], device='cuda:0'), r2 = 0.9400582129440244\n"
     ]
    },
    {
     "name": "stderr",
     "output_type": "stream",
     "text": [
      "100%|██████████| 250/250 [00:12<00:00, 20.04it/s]\n",
      "100%|██████████| 2000/2000 [08:50<00:00,  3.77it/s]\n"
     ]
    },
    {
     "name": "stdout",
     "output_type": "stream",
     "text": [
      "iter = 9, candidate = tensor([[0.1253, 0.0000, 0.0200]], device='cuda:0'), r2 = 0.9398659403964398\n"
     ]
    },
    {
     "name": "stderr",
     "output_type": "stream",
     "text": [
      "100%|██████████| 250/250 [00:11<00:00, 20.98it/s]\n",
      "100%|██████████| 2000/2000 [08:19<00:00,  4.00it/s]\n"
     ]
    },
    {
     "name": "stdout",
     "output_type": "stream",
     "text": [
      "iter = 10, candidate = tensor([[0.1262, 0.0000, 0.0200]], device='cuda:0'), r2 = 0.9394377357571655\n"
     ]
    },
    {
     "name": "stderr",
     "output_type": "stream",
     "text": [
      "100%|██████████| 250/250 [00:11<00:00, 22.02it/s]\n",
      "100%|██████████| 2000/2000 [08:14<00:00,  4.04it/s]\n"
     ]
    },
    {
     "name": "stdout",
     "output_type": "stream",
     "text": [
      "iter = 11, candidate = tensor([[0.1268, 0.0000, 0.0200]], device='cuda:0'), r2 = 0.938261195707629\n"
     ]
    },
    {
     "name": "stderr",
     "output_type": "stream",
     "text": [
      "100%|██████████| 250/250 [00:11<00:00, 22.13it/s]\n",
      "100%|██████████| 2000/2000 [08:18<00:00,  4.01it/s]\n"
     ]
    },
    {
     "name": "stdout",
     "output_type": "stream",
     "text": [
      "iter = 12, candidate = tensor([[0.1272, 0.0000, 0.0200]], device='cuda:0'), r2 = 0.9376243580504805\n"
     ]
    },
    {
     "name": "stderr",
     "output_type": "stream",
     "text": [
      "100%|██████████| 250/250 [00:11<00:00, 21.70it/s]\n",
      "100%|██████████| 2000/2000 [08:17<00:00,  4.02it/s]\n"
     ]
    },
    {
     "name": "stdout",
     "output_type": "stream",
     "text": [
      "iter = 13, candidate = tensor([[0.2000, 0.0000, 0.0000]], device='cuda:0'), r2 = 0.9364623204449821\n"
     ]
    },
    {
     "name": "stderr",
     "output_type": "stream",
     "text": [
      "100%|██████████| 250/250 [00:11<00:00, 21.51it/s]\n",
      "100%|██████████| 2000/2000 [09:15<00:00,  3.60it/s]\n"
     ]
    },
    {
     "name": "stdout",
     "output_type": "stream",
     "text": [
      "iter = 14, candidate = tensor([[0.1307, 0.0000, 0.0000]], device='cuda:0'), r2 = 0.951186519806934\n"
     ]
    },
    {
     "name": "stderr",
     "output_type": "stream",
     "text": [
      "100%|██████████| 250/250 [00:11<00:00, 22.06it/s]\n",
      "100%|██████████| 2000/2000 [10:46<00:00,  3.09it/s]\n"
     ]
    },
    {
     "name": "stdout",
     "output_type": "stream",
     "text": [
      "iter = 15, candidate = tensor([[0.1226, 0.0000, 0.0200]], device='cuda:0'), r2 = 0.939256910971155\n"
     ]
    },
    {
     "name": "stderr",
     "output_type": "stream",
     "text": [
      "100%|██████████| 250/250 [00:11<00:00, 22.06it/s]\n",
      "100%|██████████| 2000/2000 [08:23<00:00,  3.97it/s]\n"
     ]
    },
    {
     "name": "stdout",
     "output_type": "stream",
     "text": [
      "iter = 16, candidate = tensor([[0.1228, 0.0000, 0.0200]], device='cuda:0'), r2 = 0.9387493500130438\n"
     ]
    },
    {
     "name": "stderr",
     "output_type": "stream",
     "text": [
      "100%|██████████| 250/250 [00:11<00:00, 22.02it/s]\n",
      "100%|██████████| 2000/2000 [08:18<00:00,  4.01it/s]\n"
     ]
    },
    {
     "name": "stdout",
     "output_type": "stream",
     "text": [
      "iter = 17, candidate = tensor([[0.2000, 0.0200, 0.0000]], device='cuda:0'), r2 = 0.9348154147265444\n"
     ]
    },
    {
     "name": "stderr",
     "output_type": "stream",
     "text": [
      "100%|██████████| 250/250 [00:11<00:00, 22.21it/s]\n",
      "100%|██████████| 2000/2000 [13:43<00:00,  2.43it/s]\n"
     ]
    },
    {
     "name": "stdout",
     "output_type": "stream",
     "text": [
      "iter = 18, candidate = tensor([[0.1276, 0.0000, 0.0000]], device='cuda:0'), r2 = 0.9527494483414871\n"
     ]
    },
    {
     "name": "stderr",
     "output_type": "stream",
     "text": [
      "100%|██████████| 250/250 [00:22<00:00, 11.17it/s]\n",
      "100%|██████████| 2000/2000 [15:43<00:00,  2.12it/s]\n"
     ]
    },
    {
     "name": "stdout",
     "output_type": "stream",
     "text": [
      "iter = 19, candidate = tensor([[0.2000, 0.0000, 0.0000]], device='cuda:0'), r2 = 0.9361853113440703\n"
     ]
    },
    {
     "name": "stderr",
     "output_type": "stream",
     "text": [
      "100%|██████████| 250/250 [00:24<00:00, 10.39it/s]\n",
      "100%|██████████| 2000/2000 [13:42<00:00,  2.43it/s]\n"
     ]
    },
    {
     "name": "stdout",
     "output_type": "stream",
     "text": [
      "iter = 20, candidate = tensor([[0.1237, 0.0000, 0.0000]], device='cuda:0'), r2 = 0.952965633075647\n"
     ]
    },
    {
     "name": "stderr",
     "output_type": "stream",
     "text": [
      "100%|██████████| 250/250 [00:12<00:00, 19.63it/s]\n",
      "100%|██████████| 2000/2000 [08:19<00:00,  4.01it/s]\n"
     ]
    },
    {
     "name": "stdout",
     "output_type": "stream",
     "text": [
      "iter = 21, candidate = tensor([[0.1228, 0.0000, 0.0000]], device='cuda:0'), r2 = 0.9533723102168923\n"
     ]
    },
    {
     "name": "stderr",
     "output_type": "stream",
     "text": [
      "100%|██████████| 250/250 [00:11<00:00, 21.97it/s]\n",
      "100%|██████████| 2000/2000 [08:23<00:00,  3.97it/s]\n"
     ]
    },
    {
     "name": "stdout",
     "output_type": "stream",
     "text": [
      "iter = 22, candidate = tensor([[0.1174, 0.0000, 0.0200]], device='cuda:0'), r2 = 0.9416456160723109\n"
     ]
    },
    {
     "name": "stderr",
     "output_type": "stream",
     "text": [
      "100%|██████████| 250/250 [00:11<00:00, 20.95it/s]\n",
      "100%|██████████| 2000/2000 [08:17<00:00,  4.02it/s]\n"
     ]
    },
    {
     "name": "stdout",
     "output_type": "stream",
     "text": [
      "iter = 23, candidate = tensor([[0.1174, 0.0000, 0.0200]], device='cuda:0'), r2 = 0.9403100875718393\n"
     ]
    },
    {
     "name": "stderr",
     "output_type": "stream",
     "text": [
      "100%|██████████| 250/250 [00:12<00:00, 20.79it/s]\n",
      "100%|██████████| 2000/2000 [08:20<00:00,  4.00it/s]\n"
     ]
    },
    {
     "name": "stdout",
     "output_type": "stream",
     "text": [
      "iter = 24, candidate = tensor([[0.1174, 0.0000, 0.0200]], device='cuda:0'), r2 = 0.9392854370526281\n"
     ]
    },
    {
     "name": "stderr",
     "output_type": "stream",
     "text": [
      "100%|██████████| 250/250 [00:11<00:00, 21.52it/s]\n",
      "100%|██████████| 2000/2000 [08:14<00:00,  4.04it/s]\n"
     ]
    },
    {
     "name": "stdout",
     "output_type": "stream",
     "text": [
      "iter = 25, candidate = tensor([[0.1229, 0.0000, 0.0000]], device='cuda:0'), r2 = 0.9532566975099014\n"
     ]
    },
    {
     "name": "stderr",
     "output_type": "stream",
     "text": [
      "100%|██████████| 250/250 [00:11<00:00, 22.10it/s]\n",
      "100%|██████████| 2000/2000 [08:20<00:00,  4.00it/s]\n"
     ]
    },
    {
     "name": "stdout",
     "output_type": "stream",
     "text": [
      "iter = 26, candidate = tensor([[0.1220, 0.0000, 0.0000]], device='cuda:0'), r2 = 0.9523569891017046\n"
     ]
    },
    {
     "name": "stderr",
     "output_type": "stream",
     "text": [
      "100%|██████████| 250/250 [00:11<00:00, 20.84it/s]\n",
      "100%|██████████| 2000/2000 [08:13<00:00,  4.05it/s]\n"
     ]
    },
    {
     "name": "stdout",
     "output_type": "stream",
     "text": [
      "iter = 27, candidate = tensor([[0.1156, 0.0000, 0.0200]], device='cuda:0'), r2 = 0.941614415791799\n"
     ]
    },
    {
     "name": "stderr",
     "output_type": "stream",
     "text": [
      "100%|██████████| 250/250 [00:11<00:00, 21.52it/s]\n",
      "100%|██████████| 2000/2000 [08:18<00:00,  4.02it/s]\n"
     ]
    },
    {
     "name": "stdout",
     "output_type": "stream",
     "text": [
      "iter = 28, candidate = tensor([[0.2000, 0.0200, 0.0000]], device='cuda:0'), r2 = 0.9348154147441429\n"
     ]
    },
    {
     "name": "stderr",
     "output_type": "stream",
     "text": [
      "100%|██████████| 250/250 [00:11<00:00, 21.77it/s]\n",
      "100%|██████████| 2000/2000 [08:13<00:00,  4.05it/s]"
     ]
    },
    {
     "name": "stdout",
     "output_type": "stream",
     "text": [
      "iter = 29, candidate = tensor([[0.1154, 0.0000, 0.0200]], device='cuda:0'), r2 = 0.9417090623647778\n"
     ]
    },
    {
     "name": "stderr",
     "output_type": "stream",
     "text": [
      "\n"
     ]
    }
   ],
   "source": [
    "from botorch.models import SingleTaskGP\n",
    "from botorch.fit import fit_gpytorch_mll\n",
    "from botorch.optim import optimize_acqf\n",
    "from botorch.acquisition import ExpectedImprovement\n",
    "from botorch.utils import standardize\n",
    "from botorch.utils.sampling import draw_sobol_samples\n",
    "\n",
    "# Set device\n",
    "device = torch.device(\"cuda\" if torch.cuda.is_available() else \"cpu\")\n",
    "\n",
    "train_x = torch.tensor(DOE).to(device)\n",
    "train_y = torch.tensor(saved_r2_value).to(device)\n",
    "\n",
    "\n",
    "for i in range(30):\n",
    "    train_ys = standardize(train_y)\n",
    "\n",
    "    gp = SingleTaskGP(train_x, train_ys)\n",
    "    mll = gpytorch.mlls.ExactMarginalLogLikelihood(gp.likelihood, gp)\n",
    "    fit_gpytorch_mll(mll)\n",
    "\n",
    "    EI = ExpectedImprovement(gp, best_f=train_ys.max())\n",
    "\n",
    "    # Optimize the acquisition function\n",
    "    bounds = torch.tensor([[0.0, 0.0, 0.0], [0.2, 0.02, 0.02]], device=device)\n",
    "    candidate, acq_value = optimize_acqf(\n",
    "        EI,\n",
    "        bounds=bounds,\n",
    "        q=1,  # number of candidates to return\n",
    "        num_restarts=5,\n",
    "        raw_samples=20,  # used for initialization heuristic\n",
    "    )\n",
    "    \n",
    "    new_x = candidate\n",
    "    new_y = run_gamma_with_PID_gain(Kp=candidate[0,0].item(), Ki=candidate[0,1].item(), Kd=candidate[0,2].item())\n",
    "    print(f\"iter = {i}, candidate = {new_x}, r2 = {new_y}\")\n",
    "    \n",
    "    train_x = torch.cat([train_x, new_x])\n",
    "    train_y = torch.cat([train_y, torch.tensor(new_y).reshape(-1,1).to(device)])"
   ]
  },
  {
   "cell_type": "code",
   "execution_count": 15,
   "metadata": {},
   "outputs": [
    {
     "data": {
      "text/plain": [
       "22"
      ]
     },
     "execution_count": 15,
     "metadata": {},
     "output_type": "execute_result"
    },
    {
     "data": {
      "image/png": "[encoded data removed]",
      "text/plain": [
       "<Figure size 640x480 with 1 Axes>"
      ]
     },
     "metadata": {},
     "output_type": "display_data"
    }
   ],
   "source": [
    "plt.plot(train_y.cpu())\n",
    "np.argmax(train_y.cpu().numpy())"
   ]
  }
 ],
 "metadata": {
  "kernelspec": {
   "display_name": "GAMMA_TiDE",
   "language": "python",
   "name": "python3"
  },
  "language_info": {
   "codemirror_mode": {
    "name": "ipython",
    "version": 3
   },
   "file_extension": ".py",
   "mimetype": "text/x-python",
   "name": "python",
   "nbconvert_exporter": "python",
   "pygments_lexer": "ipython3",
   "version": "3.10.14"
  }
 },
 "nbformat": 4,
 "nbformat_minor": 2
}
